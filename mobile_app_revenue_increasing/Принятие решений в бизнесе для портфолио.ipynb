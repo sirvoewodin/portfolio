{
 "cells": [
  {
   "cell_type": "markdown",
   "metadata": {
    "tags": []
   },
   "source": [
    "# Описание проекта"
   ]
  },
  {
   "cell_type": "markdown",
   "metadata": {
    "id": "gQvivjdGXAil"
   },
   "source": [
    "Целью проекта является выбрать из предложенных гипотез по увеличению выручки интернет магазину наиболее подходящую для проверки путем A/B-теста, и проанализировать результаты этого теста.  "
   ]
  },
  {
   "cell_type": "markdown",
   "metadata": {},
   "source": [
    "В ходе работы мы:  \n",
    "1. Приоритизируем гипотезы по двум медотам и выберем наиболее подходящую для проверки;  \n",
    "1. Сравним исследуемые группы по ряду критериев:  \n",
    "> - куммулятивные выручка, средний чек, конверсия;  \n",
    "> - количество заказов на пользователя, средняя стоимость заказа.  \n",
    "1. Проверим, являются ли различия между группами статистически значимыми.  "
   ]
  },
  {
   "cell_type": "markdown",
   "metadata": {},
   "source": [
    "По итогам работы сделаем вывод касательно теста &#8212; остановить его, признав победу одной из групп или отсутствие между ними разницы, или продолжить тестирование. "
   ]
  },
  {
   "cell_type": "markdown",
   "metadata": {
    "id": "Fr9eKy1pXRBB"
   },
   "source": [
    "## Описание данных"
   ]
  },
  {
   "cell_type": "markdown",
   "metadata": {
    "id": "fovG7LtoXXTB"
   },
   "source": [
    "**Файл с гипотезами `hypothesis.csv`**:  \n",
    "\n",
    "\n",
    "`Hypothesis` — краткое описание гипотезы;  \n",
    "`Reach` — охват пользователей по 10-балльной шкале;  \n",
    "`Impact` — влияние на пользователей по 10-балльной шкале;  \n",
    "`Confidence` — уверенность в гипотезе по 10-балльной шкале;  \n",
    "`Efforts` — затраты ресурсов на проверку гипотезы по 10-балльной шкале. Чем больше значение `Efforts`, тем дороже проверка гипотезы."
   ]
  },
  {
   "cell_type": "markdown",
   "metadata": {
    "id": "KNkP2XB4XiWr"
   },
   "source": [
    "**Файлы с результатами теста**"
   ]
  },
  {
   "cell_type": "markdown",
   "metadata": {
    "id": "VV8wv9l_agp4"
   },
   "source": [
    "Заказы `orders.csv`\n",
    "\n",
    "`transactionId` — идентификатор заказа;  \n",
    "`visitorId` — идентификатор пользователя, совершившего заказ;  \n",
    "`date` — дата, когда был совершён заказ;  \n",
    "`revenue` — выручка заказа;  \n",
    "`group` — группа A/B-теста, в которую попал заказ."
   ]
  },
  {
   "cell_type": "markdown",
   "metadata": {
    "id": "qcqnph9masta"
   },
   "source": [
    "Посетители `visitors.csv`\n",
    "\n",
    "`date` — дата;  \n",
    "`group` — группа A/B-теста;  \n",
    "`visitors` — количество пользователей в указанную дату в указанной группе A/B-теста."
   ]
  },
  {
   "cell_type": "markdown",
   "metadata": {
    "id": "Ebg72cIga3Fq"
   },
   "source": [
    "# Приоритизация гипотез"
   ]
  },
  {
   "cell_type": "markdown",
   "metadata": {
    "id": "MQBjnOKObNcU"
   },
   "source": [
    "Ознакомимся с данными, приоритизируем гипотезы по двум методам: ICE и RICE. "
   ]
  },
  {
   "cell_type": "code",
   "execution_count": 1,
   "metadata": {
    "id": "qleeP6vIbdKD"
   },
   "outputs": [],
   "source": [
    "# импортируем необходимые библиотеки\n",
    "\n",
    "import pandas as pd\n",
    "import datetime as dt\n",
    "import numpy as np\n",
    "import matplotlib.pyplot as plt\n",
    "import scipy.stats as st\n",
    "pd.options.display.max_colwidth = 1\n",
    "plt.style.use('seaborn-darkgrid')"
   ]
  },
  {
   "cell_type": "code",
   "execution_count": 2,
   "metadata": {
    "id": "QFJz7R5IcUCO"
   },
   "outputs": [],
   "source": [
    "hypothesis = pd.read_csv('hypothesis.csv')"
   ]
  },
  {
   "cell_type": "code",
   "execution_count": 3,
   "metadata": {
    "colab": {
     "base_uri": "https://localhost:8080/",
     "height": 332
    },
    "id": "Obfb6cVyccKj",
    "outputId": "d4d56e87-5126-4684-c7a1-96de36233710"
   },
   "outputs": [
    {
     "data": {
      "text/html": [
       "<div>\n",
       "<style scoped>\n",
       "    .dataframe tbody tr th:only-of-type {\n",
       "        vertical-align: middle;\n",
       "    }\n",
       "\n",
       "    .dataframe tbody tr th {\n",
       "        vertical-align: top;\n",
       "    }\n",
       "\n",
       "    .dataframe thead th {\n",
       "        text-align: right;\n",
       "    }\n",
       "</style>\n",
       "<table border=\"1\" class=\"dataframe\">\n",
       "  <thead>\n",
       "    <tr style=\"text-align: right;\">\n",
       "      <th></th>\n",
       "      <th>Hypothesis</th>\n",
       "      <th>Reach</th>\n",
       "      <th>Impact</th>\n",
       "      <th>Confidence</th>\n",
       "      <th>Efforts</th>\n",
       "    </tr>\n",
       "  </thead>\n",
       "  <tbody>\n",
       "    <tr>\n",
       "      <th>0</th>\n",
       "      <td>Добавить два новых канала привлечения трафика, что позволит привлекать на 30% больше пользователей</td>\n",
       "      <td>3</td>\n",
       "      <td>10</td>\n",
       "      <td>8</td>\n",
       "      <td>6</td>\n",
       "    </tr>\n",
       "    <tr>\n",
       "      <th>1</th>\n",
       "      <td>Запустить собственную службу доставки, что сократит срок доставки заказов</td>\n",
       "      <td>2</td>\n",
       "      <td>5</td>\n",
       "      <td>4</td>\n",
       "      <td>10</td>\n",
       "    </tr>\n",
       "    <tr>\n",
       "      <th>2</th>\n",
       "      <td>Добавить блоки рекомендаций товаров на сайт интернет магазина, чтобы повысить конверсию и средний чек заказа</td>\n",
       "      <td>8</td>\n",
       "      <td>3</td>\n",
       "      <td>7</td>\n",
       "      <td>3</td>\n",
       "    </tr>\n",
       "    <tr>\n",
       "      <th>3</th>\n",
       "      <td>Изменить структура категорий, что увеличит конверсию, т.к. пользователи быстрее найдут нужный товар</td>\n",
       "      <td>8</td>\n",
       "      <td>3</td>\n",
       "      <td>3</td>\n",
       "      <td>8</td>\n",
       "    </tr>\n",
       "    <tr>\n",
       "      <th>4</th>\n",
       "      <td>Изменить цвет фона главной страницы, чтобы увеличить вовлеченность пользователей</td>\n",
       "      <td>3</td>\n",
       "      <td>1</td>\n",
       "      <td>1</td>\n",
       "      <td>1</td>\n",
       "    </tr>\n",
       "    <tr>\n",
       "      <th>5</th>\n",
       "      <td>Добавить страницу отзывов клиентов о магазине, что позволит увеличить количество заказов</td>\n",
       "      <td>3</td>\n",
       "      <td>2</td>\n",
       "      <td>2</td>\n",
       "      <td>3</td>\n",
       "    </tr>\n",
       "    <tr>\n",
       "      <th>6</th>\n",
       "      <td>Показать на главной странице баннеры с актуальными акциями и распродажами, чтобы увеличить конверсию</td>\n",
       "      <td>5</td>\n",
       "      <td>3</td>\n",
       "      <td>8</td>\n",
       "      <td>3</td>\n",
       "    </tr>\n",
       "    <tr>\n",
       "      <th>7</th>\n",
       "      <td>Добавить форму подписки на все основные страницы, чтобы собрать базу клиентов для email-рассылок</td>\n",
       "      <td>10</td>\n",
       "      <td>7</td>\n",
       "      <td>8</td>\n",
       "      <td>5</td>\n",
       "    </tr>\n",
       "    <tr>\n",
       "      <th>8</th>\n",
       "      <td>Запустить акцию, дающую скидку на товар в день рождения</td>\n",
       "      <td>1</td>\n",
       "      <td>9</td>\n",
       "      <td>9</td>\n",
       "      <td>5</td>\n",
       "    </tr>\n",
       "  </tbody>\n",
       "</table>\n",
       "</div>"
      ],
      "text/plain": [
       "                                                                                                     Hypothesis  \\\n",
       "0  Добавить два новых канала привлечения трафика, что позволит привлекать на 30% больше пользователей             \n",
       "1  Запустить собственную службу доставки, что сократит срок доставки заказов                                      \n",
       "2  Добавить блоки рекомендаций товаров на сайт интернет магазина, чтобы повысить конверсию и средний чек заказа   \n",
       "3  Изменить структура категорий, что увеличит конверсию, т.к. пользователи быстрее найдут нужный товар            \n",
       "4  Изменить цвет фона главной страницы, чтобы увеличить вовлеченность пользователей                               \n",
       "5  Добавить страницу отзывов клиентов о магазине, что позволит увеличить количество заказов                       \n",
       "6  Показать на главной странице баннеры с актуальными акциями и распродажами, чтобы увеличить конверсию           \n",
       "7  Добавить форму подписки на все основные страницы, чтобы собрать базу клиентов для email-рассылок               \n",
       "8  Запустить акцию, дающую скидку на товар в день рождения                                                        \n",
       "\n",
       "   Reach  Impact  Confidence  Efforts  \n",
       "0  3      10      8           6        \n",
       "1  2      5       4           10       \n",
       "2  8      3       7           3        \n",
       "3  8      3       3           8        \n",
       "4  3      1       1           1        \n",
       "5  3      2       2           3        \n",
       "6  5      3       8           3        \n",
       "7  10     7       8           5        \n",
       "8  1      9       9           5        "
      ]
     },
     "execution_count": 3,
     "metadata": {},
     "output_type": "execute_result"
    }
   ],
   "source": [
    "hypothesis"
   ]
  },
  {
   "cell_type": "markdown",
   "metadata": {
    "id": "SLJ4dMK9cd4o"
   },
   "source": [
    "У нас есть список гипотез, оценка их параметров. Исходя из этих данных мы сможем приоритизировать гипотезы и выбрать ту, которую стоит протестировать в первую очередь. "
   ]
  },
  {
   "cell_type": "markdown",
   "metadata": {
    "id": "8_LPSFneA_JI"
   },
   "source": [
    "Для дальнейшего удобства названия столбцов приведем к нижнему регистру. "
   ]
  },
  {
   "cell_type": "code",
   "execution_count": 4,
   "metadata": {
    "id": "iK347MPGBE7c"
   },
   "outputs": [],
   "source": [
    "hypothesis.columns = hypothesis.columns.str.lower()"
   ]
  },
  {
   "cell_type": "markdown",
   "metadata": {
    "id": "jAiaGdGsfYk_"
   },
   "source": [
    "## Оценка гипотез по ICE"
   ]
  },
  {
   "cell_type": "markdown",
   "metadata": {
    "id": "XcadF4kpfeON"
   },
   "source": [
    "Добавим сболбец с коэффициентом каждой гипотезы по методу ICE. Для этого произведение `impact` и `confidence` разделим на `efforts`."
   ]
  },
  {
   "cell_type": "code",
   "execution_count": 5,
   "metadata": {
    "id": "9KOkz_SWCPBX"
   },
   "outputs": [],
   "source": [
    "hypothesis['ice'] = (hypothesis['impact'] * hypothesis['confidence'])/hypothesis['efforts']"
   ]
  },
  {
   "cell_type": "code",
   "execution_count": 6,
   "metadata": {
    "colab": {
     "base_uri": "https://localhost:8080/",
     "height": 332
    },
    "id": "g1CWg48DCjVe",
    "outputId": "eeffc380-4ae7-4f61-ea07-42d2f0f00d69"
   },
   "outputs": [
    {
     "data": {
      "text/html": [
       "<div>\n",
       "<style scoped>\n",
       "    .dataframe tbody tr th:only-of-type {\n",
       "        vertical-align: middle;\n",
       "    }\n",
       "\n",
       "    .dataframe tbody tr th {\n",
       "        vertical-align: top;\n",
       "    }\n",
       "\n",
       "    .dataframe thead th {\n",
       "        text-align: right;\n",
       "    }\n",
       "</style>\n",
       "<table border=\"1\" class=\"dataframe\">\n",
       "  <thead>\n",
       "    <tr style=\"text-align: right;\">\n",
       "      <th></th>\n",
       "      <th>hypothesis</th>\n",
       "      <th>reach</th>\n",
       "      <th>impact</th>\n",
       "      <th>confidence</th>\n",
       "      <th>efforts</th>\n",
       "      <th>ice</th>\n",
       "    </tr>\n",
       "  </thead>\n",
       "  <tbody>\n",
       "    <tr>\n",
       "      <th>8</th>\n",
       "      <td>Запустить акцию, дающую скидку на товар в день рождения</td>\n",
       "      <td>1</td>\n",
       "      <td>9</td>\n",
       "      <td>9</td>\n",
       "      <td>5</td>\n",
       "      <td>16.200000</td>\n",
       "    </tr>\n",
       "    <tr>\n",
       "      <th>0</th>\n",
       "      <td>Добавить два новых канала привлечения трафика, что позволит привлекать на 30% больше пользователей</td>\n",
       "      <td>3</td>\n",
       "      <td>10</td>\n",
       "      <td>8</td>\n",
       "      <td>6</td>\n",
       "      <td>13.333333</td>\n",
       "    </tr>\n",
       "    <tr>\n",
       "      <th>7</th>\n",
       "      <td>Добавить форму подписки на все основные страницы, чтобы собрать базу клиентов для email-рассылок</td>\n",
       "      <td>10</td>\n",
       "      <td>7</td>\n",
       "      <td>8</td>\n",
       "      <td>5</td>\n",
       "      <td>11.200000</td>\n",
       "    </tr>\n",
       "    <tr>\n",
       "      <th>6</th>\n",
       "      <td>Показать на главной странице баннеры с актуальными акциями и распродажами, чтобы увеличить конверсию</td>\n",
       "      <td>5</td>\n",
       "      <td>3</td>\n",
       "      <td>8</td>\n",
       "      <td>3</td>\n",
       "      <td>8.000000</td>\n",
       "    </tr>\n",
       "    <tr>\n",
       "      <th>2</th>\n",
       "      <td>Добавить блоки рекомендаций товаров на сайт интернет магазина, чтобы повысить конверсию и средний чек заказа</td>\n",
       "      <td>8</td>\n",
       "      <td>3</td>\n",
       "      <td>7</td>\n",
       "      <td>3</td>\n",
       "      <td>7.000000</td>\n",
       "    </tr>\n",
       "    <tr>\n",
       "      <th>1</th>\n",
       "      <td>Запустить собственную службу доставки, что сократит срок доставки заказов</td>\n",
       "      <td>2</td>\n",
       "      <td>5</td>\n",
       "      <td>4</td>\n",
       "      <td>10</td>\n",
       "      <td>2.000000</td>\n",
       "    </tr>\n",
       "    <tr>\n",
       "      <th>5</th>\n",
       "      <td>Добавить страницу отзывов клиентов о магазине, что позволит увеличить количество заказов</td>\n",
       "      <td>3</td>\n",
       "      <td>2</td>\n",
       "      <td>2</td>\n",
       "      <td>3</td>\n",
       "      <td>1.333333</td>\n",
       "    </tr>\n",
       "    <tr>\n",
       "      <th>3</th>\n",
       "      <td>Изменить структура категорий, что увеличит конверсию, т.к. пользователи быстрее найдут нужный товар</td>\n",
       "      <td>8</td>\n",
       "      <td>3</td>\n",
       "      <td>3</td>\n",
       "      <td>8</td>\n",
       "      <td>1.125000</td>\n",
       "    </tr>\n",
       "    <tr>\n",
       "      <th>4</th>\n",
       "      <td>Изменить цвет фона главной страницы, чтобы увеличить вовлеченность пользователей</td>\n",
       "      <td>3</td>\n",
       "      <td>1</td>\n",
       "      <td>1</td>\n",
       "      <td>1</td>\n",
       "      <td>1.000000</td>\n",
       "    </tr>\n",
       "  </tbody>\n",
       "</table>\n",
       "</div>"
      ],
      "text/plain": [
       "                                                                                                     hypothesis  \\\n",
       "8  Запустить акцию, дающую скидку на товар в день рождения                                                        \n",
       "0  Добавить два новых канала привлечения трафика, что позволит привлекать на 30% больше пользователей             \n",
       "7  Добавить форму подписки на все основные страницы, чтобы собрать базу клиентов для email-рассылок               \n",
       "6  Показать на главной странице баннеры с актуальными акциями и распродажами, чтобы увеличить конверсию           \n",
       "2  Добавить блоки рекомендаций товаров на сайт интернет магазина, чтобы повысить конверсию и средний чек заказа   \n",
       "1  Запустить собственную службу доставки, что сократит срок доставки заказов                                      \n",
       "5  Добавить страницу отзывов клиентов о магазине, что позволит увеличить количество заказов                       \n",
       "3  Изменить структура категорий, что увеличит конверсию, т.к. пользователи быстрее найдут нужный товар            \n",
       "4  Изменить цвет фона главной страницы, чтобы увеличить вовлеченность пользователей                               \n",
       "\n",
       "   reach  impact  confidence  efforts        ice  \n",
       "8  1      9       9           5        16.200000  \n",
       "0  3      10      8           6        13.333333  \n",
       "7  10     7       8           5        11.200000  \n",
       "6  5      3       8           3        8.000000   \n",
       "2  8      3       7           3        7.000000   \n",
       "1  2      5       4           10       2.000000   \n",
       "5  3      2       2           3        1.333333   \n",
       "3  8      3       3           8        1.125000   \n",
       "4  3      1       1           1        1.000000   "
      ]
     },
     "execution_count": 6,
     "metadata": {},
     "output_type": "execute_result"
    }
   ],
   "source": [
    "hypothesis.sort_values('ice', ascending=False)"
   ]
  },
  {
   "cell_type": "markdown",
   "metadata": {
    "id": "lhOr8Rs9ClEW"
   },
   "source": [
    "По этой методике лидером является гипотеза 8, вслед за ней 0 и 7. Однако в расчетах не учтено количество людей, которых затронет изменение, параметр `reach`.  \n",
    "\n",
    "Добавим также расчеты с учетом этого параметра, посмотрим, какие будут результаты. "
   ]
  },
  {
   "cell_type": "markdown",
   "metadata": {
    "id": "reaoDDUPDhpW"
   },
   "source": [
    "## Оценка гипотез по RICE"
   ]
  },
  {
   "cell_type": "code",
   "execution_count": 7,
   "metadata": {
    "id": "CvohU16DDk9M"
   },
   "outputs": [],
   "source": [
    "hypothesis['rice'] = (\n",
    "    (hypothesis['reach'] * hypothesis['impact'] * hypothesis['confidence'])/hypothesis['efforts']\n",
    ")"
   ]
  },
  {
   "cell_type": "code",
   "execution_count": 8,
   "metadata": {
    "colab": {
     "base_uri": "https://localhost:8080/",
     "height": 332
    },
    "id": "CEqkgOtrDrBw",
    "outputId": "eec03cd9-5cdb-46bb-cfd7-081908fe9ca1"
   },
   "outputs": [
    {
     "data": {
      "text/html": [
       "<div>\n",
       "<style scoped>\n",
       "    .dataframe tbody tr th:only-of-type {\n",
       "        vertical-align: middle;\n",
       "    }\n",
       "\n",
       "    .dataframe tbody tr th {\n",
       "        vertical-align: top;\n",
       "    }\n",
       "\n",
       "    .dataframe thead th {\n",
       "        text-align: right;\n",
       "    }\n",
       "</style>\n",
       "<table border=\"1\" class=\"dataframe\">\n",
       "  <thead>\n",
       "    <tr style=\"text-align: right;\">\n",
       "      <th></th>\n",
       "      <th>hypothesis</th>\n",
       "      <th>reach</th>\n",
       "      <th>impact</th>\n",
       "      <th>confidence</th>\n",
       "      <th>efforts</th>\n",
       "      <th>ice</th>\n",
       "      <th>rice</th>\n",
       "    </tr>\n",
       "  </thead>\n",
       "  <tbody>\n",
       "    <tr>\n",
       "      <th>7</th>\n",
       "      <td>Добавить форму подписки на все основные страницы, чтобы собрать базу клиентов для email-рассылок</td>\n",
       "      <td>10</td>\n",
       "      <td>7</td>\n",
       "      <td>8</td>\n",
       "      <td>5</td>\n",
       "      <td>11.200000</td>\n",
       "      <td>112.0</td>\n",
       "    </tr>\n",
       "    <tr>\n",
       "      <th>2</th>\n",
       "      <td>Добавить блоки рекомендаций товаров на сайт интернет магазина, чтобы повысить конверсию и средний чек заказа</td>\n",
       "      <td>8</td>\n",
       "      <td>3</td>\n",
       "      <td>7</td>\n",
       "      <td>3</td>\n",
       "      <td>7.000000</td>\n",
       "      <td>56.0</td>\n",
       "    </tr>\n",
       "    <tr>\n",
       "      <th>0</th>\n",
       "      <td>Добавить два новых канала привлечения трафика, что позволит привлекать на 30% больше пользователей</td>\n",
       "      <td>3</td>\n",
       "      <td>10</td>\n",
       "      <td>8</td>\n",
       "      <td>6</td>\n",
       "      <td>13.333333</td>\n",
       "      <td>40.0</td>\n",
       "    </tr>\n",
       "    <tr>\n",
       "      <th>6</th>\n",
       "      <td>Показать на главной странице баннеры с актуальными акциями и распродажами, чтобы увеличить конверсию</td>\n",
       "      <td>5</td>\n",
       "      <td>3</td>\n",
       "      <td>8</td>\n",
       "      <td>3</td>\n",
       "      <td>8.000000</td>\n",
       "      <td>40.0</td>\n",
       "    </tr>\n",
       "    <tr>\n",
       "      <th>8</th>\n",
       "      <td>Запустить акцию, дающую скидку на товар в день рождения</td>\n",
       "      <td>1</td>\n",
       "      <td>9</td>\n",
       "      <td>9</td>\n",
       "      <td>5</td>\n",
       "      <td>16.200000</td>\n",
       "      <td>16.2</td>\n",
       "    </tr>\n",
       "    <tr>\n",
       "      <th>3</th>\n",
       "      <td>Изменить структура категорий, что увеличит конверсию, т.к. пользователи быстрее найдут нужный товар</td>\n",
       "      <td>8</td>\n",
       "      <td>3</td>\n",
       "      <td>3</td>\n",
       "      <td>8</td>\n",
       "      <td>1.125000</td>\n",
       "      <td>9.0</td>\n",
       "    </tr>\n",
       "    <tr>\n",
       "      <th>1</th>\n",
       "      <td>Запустить собственную службу доставки, что сократит срок доставки заказов</td>\n",
       "      <td>2</td>\n",
       "      <td>5</td>\n",
       "      <td>4</td>\n",
       "      <td>10</td>\n",
       "      <td>2.000000</td>\n",
       "      <td>4.0</td>\n",
       "    </tr>\n",
       "    <tr>\n",
       "      <th>5</th>\n",
       "      <td>Добавить страницу отзывов клиентов о магазине, что позволит увеличить количество заказов</td>\n",
       "      <td>3</td>\n",
       "      <td>2</td>\n",
       "      <td>2</td>\n",
       "      <td>3</td>\n",
       "      <td>1.333333</td>\n",
       "      <td>4.0</td>\n",
       "    </tr>\n",
       "    <tr>\n",
       "      <th>4</th>\n",
       "      <td>Изменить цвет фона главной страницы, чтобы увеличить вовлеченность пользователей</td>\n",
       "      <td>3</td>\n",
       "      <td>1</td>\n",
       "      <td>1</td>\n",
       "      <td>1</td>\n",
       "      <td>1.000000</td>\n",
       "      <td>3.0</td>\n",
       "    </tr>\n",
       "  </tbody>\n",
       "</table>\n",
       "</div>"
      ],
      "text/plain": [
       "                                                                                                     hypothesis  \\\n",
       "7  Добавить форму подписки на все основные страницы, чтобы собрать базу клиентов для email-рассылок               \n",
       "2  Добавить блоки рекомендаций товаров на сайт интернет магазина, чтобы повысить конверсию и средний чек заказа   \n",
       "0  Добавить два новых канала привлечения трафика, что позволит привлекать на 30% больше пользователей             \n",
       "6  Показать на главной странице баннеры с актуальными акциями и распродажами, чтобы увеличить конверсию           \n",
       "8  Запустить акцию, дающую скидку на товар в день рождения                                                        \n",
       "3  Изменить структура категорий, что увеличит конверсию, т.к. пользователи быстрее найдут нужный товар            \n",
       "1  Запустить собственную службу доставки, что сократит срок доставки заказов                                      \n",
       "5  Добавить страницу отзывов клиентов о магазине, что позволит увеличить количество заказов                       \n",
       "4  Изменить цвет фона главной страницы, чтобы увеличить вовлеченность пользователей                               \n",
       "\n",
       "   reach  impact  confidence  efforts        ice   rice  \n",
       "7  10     7       8           5        11.200000  112.0  \n",
       "2  8      3       7           3        7.000000   56.0   \n",
       "0  3      10      8           6        13.333333  40.0   \n",
       "6  5      3       8           3        8.000000   40.0   \n",
       "8  1      9       9           5        16.200000  16.2   \n",
       "3  8      3       3           8        1.125000   9.0    \n",
       "1  2      5       4           10       2.000000   4.0    \n",
       "5  3      2       2           3        1.333333   4.0    \n",
       "4  3      1       1           1        1.000000   3.0    "
      ]
     },
     "execution_count": 8,
     "metadata": {},
     "output_type": "execute_result"
    }
   ],
   "source": [
    "hypothesis.sort_values('rice', ascending=False)"
   ]
  },
  {
   "cell_type": "markdown",
   "metadata": {
    "id": "OBxZi0ZIDtBX"
   },
   "source": [
    "Учет количества людей, на которых скажется изменение, очень сильно меняет картину.  \n",
    "\n",
    "8-я гипотеза скатывается с первого место в середину списка, лидером с преимуществом в 2 раза является гипетеза номер 7. Она охватывает максимальное количество клиентов, имеет одни из наиболее сильных уровней влияния и уверенности. "
   ]
  },
  {
   "cell_type": "markdown",
   "metadata": {
    "id": "jz7yQeY-EaK1"
   },
   "source": [
    "Так как второй метод описывает эффект от внедрения новой опции более полно, при выборе гипотезы для проверки будем полагаться на него.  \n",
    "\n",
    "Соответственно, запускаем A/B-тест для проверки гипотезы #7. "
   ]
  },
  {
   "cell_type": "markdown",
   "metadata": {
    "id": "XYD93bmgFFu4"
   },
   "source": [
    "# Анализ результатов A/B-теста"
   ]
  },
  {
   "cell_type": "markdown",
   "metadata": {},
   "source": [
    "## Предобработка данных"
   ]
  },
  {
   "cell_type": "markdown",
   "metadata": {
    "id": "wfIjgH4iFxD1"
   },
   "source": [
    "По результатам теста у нас есть два файла с данными: данные о посещениях и о заказах. "
   ]
  },
  {
   "cell_type": "markdown",
   "metadata": {
    "id": "YJMhiKalMT0Y"
   },
   "source": [
    "Для начала ознакомимся с ними и приведем к удобному для дальнейшей работы виду. "
   ]
  },
  {
   "cell_type": "code",
   "execution_count": 9,
   "metadata": {
    "id": "MYddJ-ZFQw5u"
   },
   "outputs": [],
   "source": [
    "visitors = pd.read_csv('visitors.csv')"
   ]
  },
  {
   "cell_type": "code",
   "execution_count": 10,
   "metadata": {
    "id": "HDEt_4m_Q5PQ"
   },
   "outputs": [],
   "source": [
    "orders = pd.read_csv('orders.csv')"
   ]
  },
  {
   "cell_type": "code",
   "execution_count": 11,
   "metadata": {
    "colab": {
     "base_uri": "https://localhost:8080/",
     "height": 206
    },
    "id": "pjt8FVeIREBQ",
    "outputId": "3a9ca10b-6380-4ff3-eb66-439786e022fb"
   },
   "outputs": [
    {
     "data": {
      "text/html": [
       "<div>\n",
       "<style scoped>\n",
       "    .dataframe tbody tr th:only-of-type {\n",
       "        vertical-align: middle;\n",
       "    }\n",
       "\n",
       "    .dataframe tbody tr th {\n",
       "        vertical-align: top;\n",
       "    }\n",
       "\n",
       "    .dataframe thead th {\n",
       "        text-align: right;\n",
       "    }\n",
       "</style>\n",
       "<table border=\"1\" class=\"dataframe\">\n",
       "  <thead>\n",
       "    <tr style=\"text-align: right;\">\n",
       "      <th></th>\n",
       "      <th>date</th>\n",
       "      <th>group</th>\n",
       "      <th>visitors</th>\n",
       "    </tr>\n",
       "  </thead>\n",
       "  <tbody>\n",
       "    <tr>\n",
       "      <th>0</th>\n",
       "      <td>2019-08-01</td>\n",
       "      <td>A</td>\n",
       "      <td>719</td>\n",
       "    </tr>\n",
       "    <tr>\n",
       "      <th>1</th>\n",
       "      <td>2019-08-02</td>\n",
       "      <td>A</td>\n",
       "      <td>619</td>\n",
       "    </tr>\n",
       "    <tr>\n",
       "      <th>2</th>\n",
       "      <td>2019-08-03</td>\n",
       "      <td>A</td>\n",
       "      <td>507</td>\n",
       "    </tr>\n",
       "    <tr>\n",
       "      <th>3</th>\n",
       "      <td>2019-08-04</td>\n",
       "      <td>A</td>\n",
       "      <td>717</td>\n",
       "    </tr>\n",
       "    <tr>\n",
       "      <th>4</th>\n",
       "      <td>2019-08-05</td>\n",
       "      <td>A</td>\n",
       "      <td>756</td>\n",
       "    </tr>\n",
       "  </tbody>\n",
       "</table>\n",
       "</div>"
      ],
      "text/plain": [
       "         date group  visitors\n",
       "0  2019-08-01  A     719     \n",
       "1  2019-08-02  A     619     \n",
       "2  2019-08-03  A     507     \n",
       "3  2019-08-04  A     717     \n",
       "4  2019-08-05  A     756     "
      ]
     },
     "execution_count": 11,
     "metadata": {},
     "output_type": "execute_result"
    }
   ],
   "source": [
    "visitors.head()"
   ]
  },
  {
   "cell_type": "code",
   "execution_count": 12,
   "metadata": {
    "colab": {
     "base_uri": "https://localhost:8080/",
     "height": 206
    },
    "id": "tE2_z-ThROEB",
    "outputId": "7cacb07f-f98e-47fa-fe64-daed3d3374d7"
   },
   "outputs": [
    {
     "data": {
      "text/html": [
       "<div>\n",
       "<style scoped>\n",
       "    .dataframe tbody tr th:only-of-type {\n",
       "        vertical-align: middle;\n",
       "    }\n",
       "\n",
       "    .dataframe tbody tr th {\n",
       "        vertical-align: top;\n",
       "    }\n",
       "\n",
       "    .dataframe thead th {\n",
       "        text-align: right;\n",
       "    }\n",
       "</style>\n",
       "<table border=\"1\" class=\"dataframe\">\n",
       "  <thead>\n",
       "    <tr style=\"text-align: right;\">\n",
       "      <th></th>\n",
       "      <th>transactionId</th>\n",
       "      <th>visitorId</th>\n",
       "      <th>date</th>\n",
       "      <th>revenue</th>\n",
       "      <th>group</th>\n",
       "    </tr>\n",
       "  </thead>\n",
       "  <tbody>\n",
       "    <tr>\n",
       "      <th>0</th>\n",
       "      <td>3667963787</td>\n",
       "      <td>3312258926</td>\n",
       "      <td>2019-08-15</td>\n",
       "      <td>1650</td>\n",
       "      <td>B</td>\n",
       "    </tr>\n",
       "    <tr>\n",
       "      <th>1</th>\n",
       "      <td>2804400009</td>\n",
       "      <td>3642806036</td>\n",
       "      <td>2019-08-15</td>\n",
       "      <td>730</td>\n",
       "      <td>B</td>\n",
       "    </tr>\n",
       "    <tr>\n",
       "      <th>2</th>\n",
       "      <td>2961555356</td>\n",
       "      <td>4069496402</td>\n",
       "      <td>2019-08-15</td>\n",
       "      <td>400</td>\n",
       "      <td>A</td>\n",
       "    </tr>\n",
       "    <tr>\n",
       "      <th>3</th>\n",
       "      <td>3797467345</td>\n",
       "      <td>1196621759</td>\n",
       "      <td>2019-08-15</td>\n",
       "      <td>9759</td>\n",
       "      <td>B</td>\n",
       "    </tr>\n",
       "    <tr>\n",
       "      <th>4</th>\n",
       "      <td>2282983706</td>\n",
       "      <td>2322279887</td>\n",
       "      <td>2019-08-15</td>\n",
       "      <td>2308</td>\n",
       "      <td>B</td>\n",
       "    </tr>\n",
       "  </tbody>\n",
       "</table>\n",
       "</div>"
      ],
      "text/plain": [
       "   transactionId   visitorId        date  revenue group\n",
       "0  3667963787     3312258926  2019-08-15  1650     B   \n",
       "1  2804400009     3642806036  2019-08-15  730      B   \n",
       "2  2961555356     4069496402  2019-08-15  400      A   \n",
       "3  3797467345     1196621759  2019-08-15  9759     B   \n",
       "4  2282983706     2322279887  2019-08-15  2308     B   "
      ]
     },
     "execution_count": 12,
     "metadata": {},
     "output_type": "execute_result"
    }
   ],
   "source": [
    "orders.head()"
   ]
  },
  {
   "cell_type": "markdown",
   "metadata": {
    "id": "zkFv_-EDRPzE"
   },
   "source": [
    "В таблице `orders` названия некоторых столбцов не соответствуют стилю, поэтому переименуем их. "
   ]
  },
  {
   "cell_type": "code",
   "execution_count": 13,
   "metadata": {
    "id": "Ap83EJ2KRtCk"
   },
   "outputs": [],
   "source": [
    "orders = orders.rename(columns={'transactionId':'transaction_id', 'visitorId':'visitor_id'})"
   ]
  },
  {
   "cell_type": "markdown",
   "metadata": {
    "id": "Jutr_UlK0Skz"
   },
   "source": [
    "### Проверка на пропуски и дубликаты"
   ]
  },
  {
   "cell_type": "code",
   "execution_count": 14,
   "metadata": {
    "colab": {
     "base_uri": "https://localhost:8080/"
    },
    "id": "gj4A3lrp0cMA",
    "outputId": "f66595de-4094-450c-9a6d-f66e05f325eb"
   },
   "outputs": [
    {
     "data": {
      "text/plain": [
       "0"
      ]
     },
     "execution_count": 14,
     "metadata": {},
     "output_type": "execute_result"
    }
   ],
   "source": [
    "visitors.duplicated().sum()"
   ]
  },
  {
   "cell_type": "code",
   "execution_count": 15,
   "metadata": {
    "colab": {
     "base_uri": "https://localhost:8080/"
    },
    "id": "eyBYIyy30tam",
    "outputId": "8a300f96-4750-49da-f20e-32869df9ab1f"
   },
   "outputs": [
    {
     "data": {
      "text/plain": [
       "date        0\n",
       "group       0\n",
       "visitors    0\n",
       "dtype: int64"
      ]
     },
     "execution_count": 15,
     "metadata": {},
     "output_type": "execute_result"
    }
   ],
   "source": [
    "visitors.isna().sum()"
   ]
  },
  {
   "cell_type": "code",
   "execution_count": 16,
   "metadata": {
    "colab": {
     "base_uri": "https://localhost:8080/"
    },
    "id": "16BOkGME0ytS",
    "outputId": "cc4aec3b-317d-4487-f9fd-c4c3e533ef21"
   },
   "outputs": [
    {
     "data": {
      "text/plain": [
       "0"
      ]
     },
     "execution_count": 16,
     "metadata": {},
     "output_type": "execute_result"
    }
   ],
   "source": [
    "orders.duplicated().sum()"
   ]
  },
  {
   "cell_type": "code",
   "execution_count": 17,
   "metadata": {
    "colab": {
     "base_uri": "https://localhost:8080/"
    },
    "id": "MFvOlJRn03Ed",
    "outputId": "d9a6527b-70d0-4371-f393-6aef759b3de5"
   },
   "outputs": [
    {
     "data": {
      "text/plain": [
       "transaction_id    0\n",
       "visitor_id        0\n",
       "date              0\n",
       "revenue           0\n",
       "group             0\n",
       "dtype: int64"
      ]
     },
     "execution_count": 17,
     "metadata": {},
     "output_type": "execute_result"
    }
   ],
   "source": [
    "orders.isna().sum()"
   ]
  },
  {
   "cell_type": "markdown",
   "metadata": {
    "id": "_SM0JqcX08qc"
   },
   "source": [
    "Данные чистые от пропусков и дубликатов.   \n"
   ]
  },
  {
   "cell_type": "markdown",
   "metadata": {
    "id": "srFR1-Ag3Fuk"
   },
   "source": [
    "### Проверка на соответствие типов данных"
   ]
  },
  {
   "cell_type": "code",
   "execution_count": 18,
   "metadata": {
    "colab": {
     "base_uri": "https://localhost:8080/"
    },
    "id": "e-B1ZN571IJO",
    "outputId": "5ae6634e-683f-4f61-b110-bc577359b554"
   },
   "outputs": [
    {
     "name": "stdout",
     "output_type": "stream",
     "text": [
      "<class 'pandas.core.frame.DataFrame'>\n",
      "RangeIndex: 1197 entries, 0 to 1196\n",
      "Data columns (total 5 columns):\n",
      " #   Column          Non-Null Count  Dtype \n",
      "---  ------          --------------  ----- \n",
      " 0   transaction_id  1197 non-null   int64 \n",
      " 1   visitor_id      1197 non-null   int64 \n",
      " 2   date            1197 non-null   object\n",
      " 3   revenue         1197 non-null   int64 \n",
      " 4   group           1197 non-null   object\n",
      "dtypes: int64(3), object(2)\n",
      "memory usage: 46.9+ KB\n"
     ]
    }
   ],
   "source": [
    "orders.info()"
   ]
  },
  {
   "cell_type": "code",
   "execution_count": 19,
   "metadata": {
    "colab": {
     "base_uri": "https://localhost:8080/"
    },
    "id": "LsZr50gS1ME9",
    "outputId": "7ba44fe2-53e4-409e-ad5b-ea5b83419ceb"
   },
   "outputs": [
    {
     "name": "stdout",
     "output_type": "stream",
     "text": [
      "<class 'pandas.core.frame.DataFrame'>\n",
      "RangeIndex: 62 entries, 0 to 61\n",
      "Data columns (total 3 columns):\n",
      " #   Column    Non-Null Count  Dtype \n",
      "---  ------    --------------  ----- \n",
      " 0   date      62 non-null     object\n",
      " 1   group     62 non-null     object\n",
      " 2   visitors  62 non-null     int64 \n",
      "dtypes: int64(1), object(2)\n",
      "memory usage: 1.6+ KB\n"
     ]
    }
   ],
   "source": [
    "visitors.info()"
   ]
  },
  {
   "cell_type": "markdown",
   "metadata": {
    "id": "MgC3dtz11QaM"
   },
   "source": [
    "Видим, что в обеих таблицах дата представлена в виде строки. Переведем ее в более подходящий тип данных. "
   ]
  },
  {
   "cell_type": "code",
   "execution_count": 20,
   "metadata": {
    "id": "SX36KZno1aXx"
   },
   "outputs": [],
   "source": [
    "visitors['date'] = visitors['date'].map(\n",
    "    lambda x: dt.datetime.strptime(x, '%Y-%m-%d')\n",
    "    )"
   ]
  },
  {
   "cell_type": "code",
   "execution_count": 21,
   "metadata": {
    "id": "s3-hkAtL2p7T"
   },
   "outputs": [],
   "source": [
    "orders['date'] = orders['date'].map(\n",
    "    lambda x: dt.datetime.strptime(x, '%Y-%m-%d')\n",
    "    )"
   ]
  },
  {
   "cell_type": "markdown",
   "metadata": {},
   "source": [
    "### Проверка на пересечение пользователей в группах"
   ]
  },
  {
   "cell_type": "markdown",
   "metadata": {},
   "source": [
    "Прежде чем приступить к дальнейшему анализу проверим также, не попали ли пользователи в две группы одновременно. "
   ]
  },
  {
   "cell_type": "markdown",
   "metadata": {},
   "source": [
    "Для этого выделим пары с `visitor_id` и `group` в отдельную таблицу и проверим ее на дубликаты. "
   ]
  },
  {
   "cell_type": "code",
   "execution_count": 22,
   "metadata": {},
   "outputs": [
    {
     "data": {
      "text/plain": [
       "1031"
      ]
     },
     "execution_count": 22,
     "metadata": {},
     "output_type": "execute_result"
    }
   ],
   "source": [
    "orders['visitor_id'].nunique()"
   ]
  },
  {
   "cell_type": "code",
   "execution_count": 23,
   "metadata": {},
   "outputs": [],
   "source": [
    "users_group_a = orders[orders['group']=='A'][['visitor_id', 'group']].drop_duplicates()"
   ]
  },
  {
   "cell_type": "code",
   "execution_count": 24,
   "metadata": {},
   "outputs": [],
   "source": [
    "users_group_b = orders[orders['group']=='B'][['visitor_id', 'group']].drop_duplicates()"
   ]
  },
  {
   "cell_type": "code",
   "execution_count": 25,
   "metadata": {},
   "outputs": [],
   "source": [
    "users_group = (\n",
    "pd.concat(\n",
    "[users_group_a['visitor_id'],\n",
    "users_group_b['visitor_id']],\n",
    "    axis=0\n",
    ")\n",
    ")"
   ]
  },
  {
   "cell_type": "code",
   "execution_count": 26,
   "metadata": {},
   "outputs": [
    {
     "data": {
      "text/plain": [
       "58"
      ]
     },
     "execution_count": 26,
     "metadata": {},
     "output_type": "execute_result"
    }
   ],
   "source": [
    "users_group.duplicated().sum()"
   ]
  },
  {
   "cell_type": "code",
   "execution_count": 27,
   "metadata": {},
   "outputs": [
    {
     "data": {
      "text/plain": [
       "'0.056'"
      ]
     },
     "execution_count": 27,
     "metadata": {},
     "output_type": "execute_result"
    }
   ],
   "source": [
    "'{:.3f}'.format(users_group.duplicated().sum()/orders['visitor_id'].nunique())"
   ]
  },
  {
   "cell_type": "markdown",
   "metadata": {},
   "source": [
    "В нашей выборке есть дубликаты. Значит, несколько клиентов попали в обе группы.  \n",
    "Таких клиентов около 6% от всех. Определить их к какой-то конкретной мы не сможем, поэтому просто удалим этих клиентов из наших данных, и продолжим проверку без них. "
   ]
  },
  {
   "cell_type": "code",
   "execution_count": 28,
   "metadata": {},
   "outputs": [],
   "source": [
    "# список id дубликатов\n",
    "\n",
    "users_group = users_group[users_group.duplicated()]"
   ]
  },
  {
   "cell_type": "code",
   "execution_count": 29,
   "metadata": {},
   "outputs": [],
   "source": [
    "orders = orders[np.logical_not(orders['visitor_id'].isin(users_group))]"
   ]
  },
  {
   "cell_type": "code",
   "execution_count": 30,
   "metadata": {},
   "outputs": [
    {
     "data": {
      "text/plain": [
       "973"
      ]
     },
     "execution_count": 30,
     "metadata": {},
     "output_type": "execute_result"
    }
   ],
   "source": [
    "orders['visitor_id'].nunique()"
   ]
  },
  {
   "cell_type": "markdown",
   "metadata": {
    "id": "m8F1zTmYR_8N"
   },
   "source": [
    "Теперь, когда мы знаем, что в данных нет пропусков, дубликатов, типы данных проставлены корректно, можно двигаться дальше. "
   ]
  },
  {
   "cell_type": "markdown",
   "metadata": {
    "id": "n0Wl_A5w_I7_"
   },
   "source": [
    "## Анализ результатов"
   ]
  },
  {
   "cell_type": "markdown",
   "metadata": {
    "id": "8V69_an6_Oar"
   },
   "source": [
    "Основная цель исследования &#8212; найти функцию, которая поможет увеличить выручку.  \n",
    "\n",
    "Соответственно, первым делом проверим, как распределяется выручка по группам теста. "
   ]
  },
  {
   "cell_type": "markdown",
   "metadata": {
    "id": "E4Vo3xWOVz8x"
   },
   "source": [
    "### График куммулятивной выручки"
   ]
  },
  {
   "cell_type": "markdown",
   "metadata": {
    "id": "L4gC7jf7_c7w"
   },
   "source": [
    "Для этого посчитаем кумулятивные значения выручки и построим их график.  \n",
    "\n",
    "Будем строить граифк именно по кумулятивным показателям, так как в этом случае мы сможем увидеть более стабильные показатели. График не будет иметь больших колебаний, как в случае с анализом ежедневной выручки. "
   ]
  },
  {
   "cell_type": "code",
   "execution_count": 31,
   "metadata": {
    "id": "Uzp88N73AVlQ"
   },
   "outputs": [],
   "source": [
    "# для начала соберем данные по активности пользователей по группам\n",
    "\n",
    "# соберем датасет, в котором будут уникальные пары \"дата - группа\" за время\n",
    "# проведения теста\n",
    "\n",
    "dates_groups = orders[['date', 'group']].drop_duplicates()"
   ]
  },
  {
   "cell_type": "code",
   "execution_count": 32,
   "metadata": {
    "id": "sLtrnxU9_x8u"
   },
   "outputs": [],
   "source": [
    "# соберем кумулятивные данные по выручке, количеству заказов, посетителей. \n",
    "\n",
    "# агрегированные данные по выручке\n",
    "orders_agregated = dates_groups.apply(\n",
    "    lambda x: orders[np.logical_and(orders['date'] <= x['date'], \n",
    "                                     orders['group'] == x['group'])]\n",
    "                                      .agg({'date':'max', \n",
    "                                            'group':'max', \n",
    "                                            'transaction_id':'nunique', \n",
    "                                            'visitor_id':'nunique',\n",
    "                                            'revenue':'sum'}),\n",
    "                                      axis=1).sort_values(by=['date', 'group'])                                      \n"
   ]
  },
  {
   "cell_type": "code",
   "execution_count": 33,
   "metadata": {
    "id": "mmobX096F_jw"
   },
   "outputs": [],
   "source": [
    "# агрегированные данные по посетителям\n",
    "visitors_agregated = dates_groups.apply(\n",
    "    lambda x: visitors[np.logical_and(visitors['date'] <= x['date'], \n",
    "                                     visitors['group'] == x['group'])]\n",
    "                                      .agg({'date':'max', \n",
    "                                            'group':'max', \n",
    "                                            'visitors':'sum'}),\n",
    "                                      axis=1).sort_values(by=['date', 'group'])"
   ]
  },
  {
   "cell_type": "code",
   "execution_count": 34,
   "metadata": {
    "id": "W2Sr5KIPGgl4"
   },
   "outputs": [],
   "source": [
    "# сводим данные в одну таблицу\n",
    "cummulative_data = (\n",
    "    orders_agregated.merge(visitors_agregated, \n",
    "                           left_on = ['date', 'group'], \n",
    "                           right_on = ['date', 'group'])\n",
    "    )"
   ]
  },
  {
   "cell_type": "code",
   "execution_count": 35,
   "metadata": {
    "id": "R6GK7D0mFZHX"
   },
   "outputs": [],
   "source": [
    "cummulative_data.columns = ['date', 'group', 'orders', 'buyers', 'revenue', 'visitors']"
   ]
  },
  {
   "cell_type": "code",
   "execution_count": 36,
   "metadata": {
    "colab": {
     "base_uri": "https://localhost:8080/",
     "height": 206
    },
    "id": "AyNRAGchCVlN",
    "outputId": "2f6b4d0f-1f88-439e-a8dd-2fdf0a263419"
   },
   "outputs": [
    {
     "data": {
      "text/html": [
       "<div>\n",
       "<style scoped>\n",
       "    .dataframe tbody tr th:only-of-type {\n",
       "        vertical-align: middle;\n",
       "    }\n",
       "\n",
       "    .dataframe tbody tr th {\n",
       "        vertical-align: top;\n",
       "    }\n",
       "\n",
       "    .dataframe thead th {\n",
       "        text-align: right;\n",
       "    }\n",
       "</style>\n",
       "<table border=\"1\" class=\"dataframe\">\n",
       "  <thead>\n",
       "    <tr style=\"text-align: right;\">\n",
       "      <th></th>\n",
       "      <th>date</th>\n",
       "      <th>group</th>\n",
       "      <th>orders</th>\n",
       "      <th>buyers</th>\n",
       "      <th>revenue</th>\n",
       "      <th>visitors</th>\n",
       "    </tr>\n",
       "  </thead>\n",
       "  <tbody>\n",
       "    <tr>\n",
       "      <th>0</th>\n",
       "      <td>2019-08-01</td>\n",
       "      <td>A</td>\n",
       "      <td>23</td>\n",
       "      <td>19</td>\n",
       "      <td>142779</td>\n",
       "      <td>719</td>\n",
       "    </tr>\n",
       "    <tr>\n",
       "      <th>1</th>\n",
       "      <td>2019-08-01</td>\n",
       "      <td>B</td>\n",
       "      <td>17</td>\n",
       "      <td>17</td>\n",
       "      <td>59758</td>\n",
       "      <td>713</td>\n",
       "    </tr>\n",
       "    <tr>\n",
       "      <th>2</th>\n",
       "      <td>2019-08-02</td>\n",
       "      <td>A</td>\n",
       "      <td>42</td>\n",
       "      <td>36</td>\n",
       "      <td>234381</td>\n",
       "      <td>1338</td>\n",
       "    </tr>\n",
       "    <tr>\n",
       "      <th>3</th>\n",
       "      <td>2019-08-02</td>\n",
       "      <td>B</td>\n",
       "      <td>40</td>\n",
       "      <td>39</td>\n",
       "      <td>221801</td>\n",
       "      <td>1294</td>\n",
       "    </tr>\n",
       "    <tr>\n",
       "      <th>4</th>\n",
       "      <td>2019-08-03</td>\n",
       "      <td>A</td>\n",
       "      <td>66</td>\n",
       "      <td>60</td>\n",
       "      <td>346854</td>\n",
       "      <td>1845</td>\n",
       "    </tr>\n",
       "  </tbody>\n",
       "</table>\n",
       "</div>"
      ],
      "text/plain": [
       "        date group  orders  buyers  revenue  visitors\n",
       "0 2019-08-01  A     23      19      142779   719     \n",
       "1 2019-08-01  B     17      17      59758    713     \n",
       "2 2019-08-02  A     42      36      234381   1338    \n",
       "3 2019-08-02  B     40      39      221801   1294    \n",
       "4 2019-08-03  A     66      60      346854   1845    "
      ]
     },
     "execution_count": 36,
     "metadata": {},
     "output_type": "execute_result"
    }
   ],
   "source": [
    "cummulative_data.head()\n"
   ]
  },
  {
   "cell_type": "code",
   "execution_count": 37,
   "metadata": {
    "colab": {
     "base_uri": "https://localhost:8080/"
    },
    "id": "0BBfCvB9e2MU",
    "outputId": "572ee99f-19d5-449a-a363-69f09739dd0d"
   },
   "outputs": [
    {
     "data": {
      "text/plain": [
       "18736"
      ]
     },
     "execution_count": 37,
     "metadata": {},
     "output_type": "execute_result"
    }
   ],
   "source": [
    "cummulative_data[cummulative_data['group']=='A']['visitors'].max()"
   ]
  },
  {
   "cell_type": "code",
   "execution_count": 38,
   "metadata": {
    "colab": {
     "base_uri": "https://localhost:8080/"
    },
    "id": "5uZOk5dcfFBw",
    "outputId": "dd8364d7-d596-4302-e9b3-4da0cadf9ceb"
   },
   "outputs": [
    {
     "data": {
      "text/plain": [
       "18916"
      ]
     },
     "execution_count": 38,
     "metadata": {},
     "output_type": "execute_result"
    }
   ],
   "source": [
    "cummulative_data[cummulative_data['group']=='B']['visitors'].max()"
   ]
  },
  {
   "cell_type": "markdown",
   "metadata": {
    "id": "TxJEFtSsCa6r"
   },
   "source": [
    "Собрали накопительные данные по группам. Удостоверились, что выборка пользователей практически идентичная по размеру.  \n",
    "\n",
    "Теперь по собранным данным построим график."
   ]
  },
  {
   "cell_type": "markdown",
   "metadata": {
    "id": "1WdG1gEaErC7"
   },
   "source": [
    "Из собранного датасета выделим данные по группам в отдельности. "
   ]
  },
  {
   "cell_type": "code",
   "execution_count": 39,
   "metadata": {
    "id": "dPdSBrWfH083"
   },
   "outputs": [],
   "source": [
    "cummulative_revenue_a = cummulative_data[cummulative_data['group']=='A'][['date', 'revenue', 'orders']]\n",
    "cummulative_revenue_b = cummulative_data[cummulative_data['group']=='B'][['date', 'revenue', 'orders']]"
   ]
  },
  {
   "cell_type": "code",
   "execution_count": 40,
   "metadata": {
    "colab": {
     "base_uri": "https://localhost:8080/",
     "height": 206
    },
    "id": "PIVHZNUDJtHn",
    "outputId": "4ccdfa0a-e316-4eaa-d3a2-01944470fd84"
   },
   "outputs": [
    {
     "data": {
      "text/html": [
       "<div>\n",
       "<style scoped>\n",
       "    .dataframe tbody tr th:only-of-type {\n",
       "        vertical-align: middle;\n",
       "    }\n",
       "\n",
       "    .dataframe tbody tr th {\n",
       "        vertical-align: top;\n",
       "    }\n",
       "\n",
       "    .dataframe thead th {\n",
       "        text-align: right;\n",
       "    }\n",
       "</style>\n",
       "<table border=\"1\" class=\"dataframe\">\n",
       "  <thead>\n",
       "    <tr style=\"text-align: right;\">\n",
       "      <th></th>\n",
       "      <th>date</th>\n",
       "      <th>revenue</th>\n",
       "      <th>orders</th>\n",
       "    </tr>\n",
       "  </thead>\n",
       "  <tbody>\n",
       "    <tr>\n",
       "      <th>0</th>\n",
       "      <td>2019-08-01</td>\n",
       "      <td>142779</td>\n",
       "      <td>23</td>\n",
       "    </tr>\n",
       "    <tr>\n",
       "      <th>2</th>\n",
       "      <td>2019-08-02</td>\n",
       "      <td>234381</td>\n",
       "      <td>42</td>\n",
       "    </tr>\n",
       "    <tr>\n",
       "      <th>4</th>\n",
       "      <td>2019-08-03</td>\n",
       "      <td>346854</td>\n",
       "      <td>66</td>\n",
       "    </tr>\n",
       "    <tr>\n",
       "      <th>6</th>\n",
       "      <td>2019-08-04</td>\n",
       "      <td>388030</td>\n",
       "      <td>77</td>\n",
       "    </tr>\n",
       "    <tr>\n",
       "      <th>8</th>\n",
       "      <td>2019-08-05</td>\n",
       "      <td>474413</td>\n",
       "      <td>99</td>\n",
       "    </tr>\n",
       "  </tbody>\n",
       "</table>\n",
       "</div>"
      ],
      "text/plain": [
       "        date  revenue  orders\n",
       "0 2019-08-01  142779   23    \n",
       "2 2019-08-02  234381   42    \n",
       "4 2019-08-03  346854   66    \n",
       "6 2019-08-04  388030   77    \n",
       "8 2019-08-05  474413   99    "
      ]
     },
     "execution_count": 40,
     "metadata": {},
     "output_type": "execute_result"
    }
   ],
   "source": [
    "cummulative_revenue_a.head()"
   ]
  },
  {
   "cell_type": "code",
   "execution_count": 41,
   "metadata": {
    "colab": {
     "base_uri": "https://localhost:8080/",
     "height": 353
    },
    "id": "nSz6gvG3JJgD",
    "outputId": "a8682b1e-2b12-490a-dd95-d6e6ba30900c"
   },
   "outputs": [
    {
     "data": {
      "image/png": "[encoded data removed]",
      "text/plain": [
       "<Figure size 1500x500 with 1 Axes>"
      ]
     },
     "metadata": {},
     "output_type": "display_data"
    }
   ],
   "source": [
    "# визуализируем данные\n",
    "\n",
    "plt.figure(figsize=(15,5))\n",
    "plt.plot(cummulative_revenue_a['date'], cummulative_revenue_a['revenue'], label='A')\n",
    "plt.plot(cummulative_revenue_b['date'], cummulative_revenue_b['revenue'], label='B')\n",
    "plt.legend()\n",
    "plt.xlabel('Дата')\n",
    "plt.ylabel('Выручка')\n",
    "plt.title('График куммулятивной выручки по группам');"
   ]
  },
  {
   "cell_type": "markdown",
   "metadata": {
    "id": "gvNJ_CGiK46Z"
   },
   "source": [
    "По графику видим, что выручка группы Б была на протяжении теста немного выше группы А, и в какой-то момент произошел резкий скачок, после которого разница стала еще больше.  \n",
    "Вероятно, был нехарактерно крупный заказ, или внезапно увеличилось их количество в течение дня.  \n",
    "\n",
    "Нужно будет проверить сопутствующие характеристики, такие как:  \n",
    "> средний чек;  \n",
    "> среднее количество заказов.  \n",
    "\n",
    "Также необходимо будет проверить влияние аномалий на результат. "
   ]
  },
  {
   "cell_type": "markdown",
   "metadata": {
    "id": "L3AknSqBNkjq"
   },
   "source": [
    "### График куммулятивного среднего чека"
   ]
  },
  {
   "cell_type": "markdown",
   "metadata": {
    "id": "MP-1UXScV8qR"
   },
   "source": [
    "Посмотрим, как выглядят графики куммулятивного среднего чека для наших групп.  "
   ]
  },
  {
   "cell_type": "code",
   "execution_count": 42,
   "metadata": {
    "colab": {
     "base_uri": "https://localhost:8080/",
     "height": 353
    },
    "id": "dZdawT_OWKJn",
    "outputId": "185eb465-69a6-4ef3-9941-20528f8b67da"
   },
   "outputs": [
    {
     "data": {
      "image/png": "[encoded data removed]",
      "text/plain": [
       "<Figure size 1500x500 with 1 Axes>"
      ]
     },
     "metadata": {},
     "output_type": "display_data"
    }
   ],
   "source": [
    "plt.figure(figsize=(15,5))\n",
    "plt.plot(cummulative_revenue_a['date'], \n",
    "         cummulative_revenue_a['revenue']/cummulative_revenue_a['orders'], \n",
    "         label='A')\n",
    "plt.plot(cummulative_revenue_b['date'], \n",
    "         cummulative_revenue_b['revenue']/cummulative_revenue_b['orders'], \n",
    "         label='B')\n",
    "plt.legend()\n",
    "plt.xlabel('Дата')\n",
    "plt.ylabel('Средний чек')\n",
    "plt.title('График куммулятивного среднего чека по группам');"
   ]
  },
  {
   "cell_type": "markdown",
   "metadata": {
    "id": "_JAzT_bKWa5E"
   },
   "source": [
    "По этому графику видим, что средний чек колеблется, в основном он был выше по группе Б, и также как по выручке, видим скачок в увеличении среднего чека по группе Б, после чего идет его снижение. Очень похоже на разовую крупную покупку. "
   ]
  },
  {
   "cell_type": "markdown",
   "metadata": {
    "id": "qtQqlmx9doKS"
   },
   "source": [
    "Также построим график относительного изменения куммулятивного среднего чека группы Б к группе А. "
   ]
  },
  {
   "cell_type": "markdown",
   "metadata": {
    "id": "bOeLtJ8Qdyfm"
   },
   "source": [
    "Для этого нам нужно объединить датасеты  `cummulative_revenue` в один. "
   ]
  },
  {
   "cell_type": "code",
   "execution_count": 43,
   "metadata": {
    "id": "4CED8Wy3efBM"
   },
   "outputs": [],
   "source": [
    "cummulative_revenue_merged = cummulative_revenue_a.merge(cummulative_revenue_b,  \n",
    "                                                         left_on='date', \n",
    "                                                         right_on = 'date', \n",
    "                                                         how = 'left',\n",
    "                                                         suffixes = ['A', 'B'])"
   ]
  },
  {
   "cell_type": "code",
   "execution_count": 44,
   "metadata": {
    "colab": {
     "base_uri": "https://localhost:8080/",
     "height": 206
    },
    "id": "HwwuKYtNe7Y7",
    "outputId": "effa966e-2df3-44e2-9ce4-17ee6615e2de"
   },
   "outputs": [
    {
     "data": {
      "text/html": [
       "<div>\n",
       "<style scoped>\n",
       "    .dataframe tbody tr th:only-of-type {\n",
       "        vertical-align: middle;\n",
       "    }\n",
       "\n",
       "    .dataframe tbody tr th {\n",
       "        vertical-align: top;\n",
       "    }\n",
       "\n",
       "    .dataframe thead th {\n",
       "        text-align: right;\n",
       "    }\n",
       "</style>\n",
       "<table border=\"1\" class=\"dataframe\">\n",
       "  <thead>\n",
       "    <tr style=\"text-align: right;\">\n",
       "      <th></th>\n",
       "      <th>date</th>\n",
       "      <th>revenueA</th>\n",
       "      <th>ordersA</th>\n",
       "      <th>revenueB</th>\n",
       "      <th>ordersB</th>\n",
       "    </tr>\n",
       "  </thead>\n",
       "  <tbody>\n",
       "    <tr>\n",
       "      <th>0</th>\n",
       "      <td>2019-08-01</td>\n",
       "      <td>142779</td>\n",
       "      <td>23</td>\n",
       "      <td>59758</td>\n",
       "      <td>17</td>\n",
       "    </tr>\n",
       "    <tr>\n",
       "      <th>1</th>\n",
       "      <td>2019-08-02</td>\n",
       "      <td>234381</td>\n",
       "      <td>42</td>\n",
       "      <td>221801</td>\n",
       "      <td>40</td>\n",
       "    </tr>\n",
       "    <tr>\n",
       "      <th>2</th>\n",
       "      <td>2019-08-03</td>\n",
       "      <td>346854</td>\n",
       "      <td>66</td>\n",
       "      <td>288850</td>\n",
       "      <td>54</td>\n",
       "    </tr>\n",
       "    <tr>\n",
       "      <th>3</th>\n",
       "      <td>2019-08-04</td>\n",
       "      <td>388030</td>\n",
       "      <td>77</td>\n",
       "      <td>385740</td>\n",
       "      <td>68</td>\n",
       "    </tr>\n",
       "    <tr>\n",
       "      <th>4</th>\n",
       "      <td>2019-08-05</td>\n",
       "      <td>474413</td>\n",
       "      <td>99</td>\n",
       "      <td>475648</td>\n",
       "      <td>89</td>\n",
       "    </tr>\n",
       "  </tbody>\n",
       "</table>\n",
       "</div>"
      ],
      "text/plain": [
       "        date  revenueA  ordersA  revenueB  ordersB\n",
       "0 2019-08-01  142779    23       59758     17     \n",
       "1 2019-08-02  234381    42       221801    40     \n",
       "2 2019-08-03  346854    66       288850    54     \n",
       "3 2019-08-04  388030    77       385740    68     \n",
       "4 2019-08-05  474413    99       475648    89     "
      ]
     },
     "execution_count": 44,
     "metadata": {},
     "output_type": "execute_result"
    }
   ],
   "source": [
    "cummulative_revenue_merged.head()"
   ]
  },
  {
   "cell_type": "code",
   "execution_count": 45,
   "metadata": {
    "colab": {
     "base_uri": "https://localhost:8080/",
     "height": 353
    },
    "id": "9xQlrzydfBoi",
    "outputId": "a911c13a-a436-4911-ad5e-7bdf83589704"
   },
   "outputs": [
    {
     "data": {
      "image/png": "[encoded data removed]",
      "text/plain": [
       "<Figure size 1500x500 with 1 Axes>"
      ]
     },
     "metadata": {},
     "output_type": "display_data"
    }
   ],
   "source": [
    "# строим график относительного изменения \n",
    "\n",
    "plt.figure(figsize=(15,5))\n",
    "plt.plot(cummulative_revenue_merged['date'], \n",
    "        ( cummulative_revenue_merged['revenueB']/cummulative_revenue_merged['ordersB'])/\n",
    "        (cummulative_revenue_merged['revenueA']/cummulative_revenue_merged['ordersA'])-1)\n",
    "plt.axhline(y=0, color='black', linestyle='--')\n",
    "plt.xlabel('Дата')\n",
    "plt.ylabel('Доля изменения')\n",
    "plt.title('График относительного изменения куммулятивного ср. чека Б к А');"
   ]
  },
  {
   "cell_type": "markdown",
   "metadata": {
    "id": "sHtUxUf8fwZ7"
   },
   "source": [
    "Мы видим, что в начале эксперименти группа Б проигрывала группе А. После этого она вырвалась вперед, но спустя некоторое время опять пошла по нисходящей.  \n",
    "Далее снова был плавный рост, после чего резкое увеличение отрыва (подозреваемая аномалия). Также мы видим тенденцию к выравниванию разницы после этого выброса, так как график идет по нисходящей. "
   ]
  },
  {
   "cell_type": "markdown",
   "metadata": {
    "id": "LAqiiFZvimVs"
   },
   "source": [
    "В целом, большая часть графика находится выше нуля, то есть в основном средний чек группы Б выше, чем у группы А. Но мы не можем пока сказать это наверняка, не проверив информацию на очищенных от выбросов данных. "
   ]
  },
  {
   "cell_type": "markdown",
   "metadata": {
    "id": "mcg34g9fi8f9"
   },
   "source": [
    "### График куммулятивной конверсии"
   ]
  },
  {
   "cell_type": "markdown",
   "metadata": {
    "id": "MTywFoCdjJup"
   },
   "source": [
    "Сравним, как соотносятся конверсии по группам эксперимента. "
   ]
  },
  {
   "cell_type": "code",
   "execution_count": 46,
   "metadata": {
    "colab": {
     "base_uri": "https://localhost:8080/",
     "height": 206
    },
    "id": "PikajGgxjQtG",
    "outputId": "aa0930af-f340-49fd-d2e9-1710860964fa"
   },
   "outputs": [
    {
     "data": {
      "text/html": [
       "<div>\n",
       "<style scoped>\n",
       "    .dataframe tbody tr th:only-of-type {\n",
       "        vertical-align: middle;\n",
       "    }\n",
       "\n",
       "    .dataframe tbody tr th {\n",
       "        vertical-align: top;\n",
       "    }\n",
       "\n",
       "    .dataframe thead th {\n",
       "        text-align: right;\n",
       "    }\n",
       "</style>\n",
       "<table border=\"1\" class=\"dataframe\">\n",
       "  <thead>\n",
       "    <tr style=\"text-align: right;\">\n",
       "      <th></th>\n",
       "      <th>date</th>\n",
       "      <th>group</th>\n",
       "      <th>orders</th>\n",
       "      <th>buyers</th>\n",
       "      <th>revenue</th>\n",
       "      <th>visitors</th>\n",
       "    </tr>\n",
       "  </thead>\n",
       "  <tbody>\n",
       "    <tr>\n",
       "      <th>0</th>\n",
       "      <td>2019-08-01</td>\n",
       "      <td>A</td>\n",
       "      <td>23</td>\n",
       "      <td>19</td>\n",
       "      <td>142779</td>\n",
       "      <td>719</td>\n",
       "    </tr>\n",
       "    <tr>\n",
       "      <th>1</th>\n",
       "      <td>2019-08-01</td>\n",
       "      <td>B</td>\n",
       "      <td>17</td>\n",
       "      <td>17</td>\n",
       "      <td>59758</td>\n",
       "      <td>713</td>\n",
       "    </tr>\n",
       "    <tr>\n",
       "      <th>2</th>\n",
       "      <td>2019-08-02</td>\n",
       "      <td>A</td>\n",
       "      <td>42</td>\n",
       "      <td>36</td>\n",
       "      <td>234381</td>\n",
       "      <td>1338</td>\n",
       "    </tr>\n",
       "    <tr>\n",
       "      <th>3</th>\n",
       "      <td>2019-08-02</td>\n",
       "      <td>B</td>\n",
       "      <td>40</td>\n",
       "      <td>39</td>\n",
       "      <td>221801</td>\n",
       "      <td>1294</td>\n",
       "    </tr>\n",
       "    <tr>\n",
       "      <th>4</th>\n",
       "      <td>2019-08-03</td>\n",
       "      <td>A</td>\n",
       "      <td>66</td>\n",
       "      <td>60</td>\n",
       "      <td>346854</td>\n",
       "      <td>1845</td>\n",
       "    </tr>\n",
       "  </tbody>\n",
       "</table>\n",
       "</div>"
      ],
      "text/plain": [
       "        date group  orders  buyers  revenue  visitors\n",
       "0 2019-08-01  A     23      19      142779   719     \n",
       "1 2019-08-01  B     17      17      59758    713     \n",
       "2 2019-08-02  A     42      36      234381   1338    \n",
       "3 2019-08-02  B     40      39      221801   1294    \n",
       "4 2019-08-03  A     66      60      346854   1845    "
      ]
     },
     "execution_count": 46,
     "metadata": {},
     "output_type": "execute_result"
    }
   ],
   "source": [
    "cummulative_data.head()"
   ]
  },
  {
   "cell_type": "code",
   "execution_count": 47,
   "metadata": {},
   "outputs": [],
   "source": [
    "cummulative_conversion_a = (\n",
    "    cummulative_data[cummulative_data['group']=='A'][['date', 'orders', 'visitors']]\n",
    ")\n",
    "cummulative_conversion_b = (\n",
    "    cummulative_data[cummulative_data['group']=='B'][['date', 'orders', 'visitors']]\n",
    ")"
   ]
  },
  {
   "cell_type": "code",
   "execution_count": 48,
   "metadata": {},
   "outputs": [],
   "source": [
    "cummulative_conversion_a['conversion'] = (\n",
    "    cummulative_conversion_a['orders']/cummulative_conversion_a['visitors']\n",
    ")"
   ]
  },
  {
   "cell_type": "code",
   "execution_count": 49,
   "metadata": {},
   "outputs": [],
   "source": [
    "cummulative_conversion_b['conversion'] = (\n",
    "    cummulative_conversion_b['orders']/cummulative_conversion_b['visitors']\n",
    ")"
   ]
  },
  {
   "cell_type": "markdown",
   "metadata": {
    "id": "pVJJbDL3NJZO"
   },
   "source": [
    "Строим график. "
   ]
  },
  {
   "cell_type": "code",
   "execution_count": 50,
   "metadata": {
    "colab": {
     "base_uri": "https://localhost:8080/",
     "height": 353
    },
    "id": "6vpHIJu0NWcZ",
    "outputId": "6852c74c-cf4b-41a9-c05a-dc59d4ce8985",
    "scrolled": false
   },
   "outputs": [
    {
     "data": {
      "image/png": "[encoded data removed]",
      "text/plain": [
       "<Figure size 1500x500 with 1 Axes>"
      ]
     },
     "metadata": {},
     "output_type": "display_data"
    }
   ],
   "source": [
    "plt.figure(figsize=(15,5))\n",
    "plt.plot(cummulative_conversion_a['date'], \n",
    "         cummulative_conversion_a['conversion'], \n",
    "         label='A')\n",
    "plt.plot(cummulative_conversion_b['date'], \n",
    "         cummulative_conversion_b['conversion'], \n",
    "         label='B')\n",
    "plt.legend()\n",
    "plt.xlabel('Дата')\n",
    "plt.ylabel('Показатель конверсии')\n",
    "plt.title('График куммулятивной конверсии по группам');"
   ]
  },
  {
   "cell_type": "markdown",
   "metadata": {
    "id": "kzyjA5B4Nsoy"
   },
   "source": [
    "На графике видно, что конверсия по дням по группе А падала с начала теста и до 17.08., далее стабилизировалась на этом уровне.  \n",
    "\n",
    "По группе Б изначально показатель был меньше, но спустя примерно неделю после начала теста конверсия увеличилась, и зафиксировалась выше, чем по группе А. "
   ]
  },
  {
   "cell_type": "markdown",
   "metadata": {
    "id": "iZ_1covdOsiV"
   },
   "source": [
    "Проверим это наблюдение на графике относительного изменения показателя группы Б к группе А. "
   ]
  },
  {
   "cell_type": "code",
   "execution_count": 51,
   "metadata": {
    "id": "LfyarLfBPiy_"
   },
   "outputs": [],
   "source": [
    "conversion_merged = cummulative_conversion_a.merge(cummulative_conversion_b, \n",
    "                                       left_on='date', \n",
    "                                       right_on = 'date',\n",
    "                                       how = 'left',\n",
    "                                       suffixes = ['A', 'B'])"
   ]
  },
  {
   "cell_type": "code",
   "execution_count": 52,
   "metadata": {
    "colab": {
     "base_uri": "https://localhost:8080/",
     "height": 353
    },
    "id": "aqbtznZRO0M7",
    "outputId": "d20e9e2e-70a6-4bb2-c7f2-8c14869f9212",
    "scrolled": false
   },
   "outputs": [
    {
     "data": {
      "image/png": "[encoded data removed]",
      "text/plain": [
       "<Figure size 1500x500 with 1 Axes>"
      ]
     },
     "metadata": {},
     "output_type": "display_data"
    }
   ],
   "source": [
    "plt.figure(figsize=(15,5))\n",
    "plt.plot(conversion_merged['date'], \n",
    "         (conversion_merged['conversionB']/conversion_merged['conversionA'])-1)\n",
    "plt.axhline(y=0, color='black', linestyle='--')\n",
    "plt.xlabel('Дата')\n",
    "plt.ylabel('Доля изменения')\n",
    "plt.title('График относительного изменения конверсии по группам');"
   ]
  },
  {
   "cell_type": "markdown",
   "metadata": {
    "id": "I_ZkWfa-PVde"
   },
   "source": [
    "Догадка подтверждается. Куммулятивная конверсия по группе Б больше, чем по группе А. "
   ]
  },
  {
   "cell_type": "markdown",
   "metadata": {
    "id": "XXav60WRQN-N"
   },
   "source": [
    "### Количество заказов на пользователя"
   ]
  },
  {
   "cell_type": "markdown",
   "metadata": {
    "id": "OKG-nTGoSxrM"
   },
   "source": [
    "Проверим, сколько заказов приходится на каждого пользователя. "
   ]
  },
  {
   "cell_type": "markdown",
   "metadata": {
    "id": "YSi_7NT77jmq"
   },
   "source": [
    "Для этого сгруппируем данные по `user_id` и построим визуализацию. "
   ]
  },
  {
   "cell_type": "code",
   "execution_count": 53,
   "metadata": {
    "id": "aUFNze-07wUh"
   },
   "outputs": [],
   "source": [
    "orders_by_users = (\n",
    "    orders.groupby('visitor_id', as_index=False)\n",
    "    .agg({'transaction_id':'nunique'})\n",
    ")"
   ]
  },
  {
   "cell_type": "code",
   "execution_count": 54,
   "metadata": {
    "id": "EBTj71QZ8PUO"
   },
   "outputs": [],
   "source": [
    "orders_by_users.columns = ['user_id', 'orders']"
   ]
  },
  {
   "cell_type": "code",
   "execution_count": 55,
   "metadata": {
    "colab": {
     "base_uri": "https://localhost:8080/",
     "height": 363
    },
    "id": "xZg7RVyY8ufU",
    "outputId": "b896bfcd-f025-452b-b62d-d6703d26c6ea"
   },
   "outputs": [
    {
     "data": {
      "text/html": [
       "<div>\n",
       "<style scoped>\n",
       "    .dataframe tbody tr th:only-of-type {\n",
       "        vertical-align: middle;\n",
       "    }\n",
       "\n",
       "    .dataframe tbody tr th {\n",
       "        vertical-align: top;\n",
       "    }\n",
       "\n",
       "    .dataframe thead th {\n",
       "        text-align: right;\n",
       "    }\n",
       "</style>\n",
       "<table border=\"1\" class=\"dataframe\">\n",
       "  <thead>\n",
       "    <tr style=\"text-align: right;\">\n",
       "      <th></th>\n",
       "      <th>user_id</th>\n",
       "      <th>orders</th>\n",
       "    </tr>\n",
       "  </thead>\n",
       "  <tbody>\n",
       "    <tr>\n",
       "      <th>908</th>\n",
       "      <td>3967698036</td>\n",
       "      <td>3</td>\n",
       "    </tr>\n",
       "    <tr>\n",
       "      <th>55</th>\n",
       "      <td>249864742</td>\n",
       "      <td>3</td>\n",
       "    </tr>\n",
       "    <tr>\n",
       "      <th>478</th>\n",
       "      <td>2108163459</td>\n",
       "      <td>3</td>\n",
       "    </tr>\n",
       "    <tr>\n",
       "      <th>687</th>\n",
       "      <td>2988190573</td>\n",
       "      <td>3</td>\n",
       "    </tr>\n",
       "    <tr>\n",
       "      <th>890</th>\n",
       "      <td>3908431265</td>\n",
       "      <td>3</td>\n",
       "    </tr>\n",
       "    <tr>\n",
       "      <th>138</th>\n",
       "      <td>611059232</td>\n",
       "      <td>3</td>\n",
       "    </tr>\n",
       "    <tr>\n",
       "      <th>632</th>\n",
       "      <td>2742574263</td>\n",
       "      <td>3</td>\n",
       "    </tr>\n",
       "    <tr>\n",
       "      <th>157</th>\n",
       "      <td>678354126</td>\n",
       "      <td>2</td>\n",
       "    </tr>\n",
       "    <tr>\n",
       "      <th>323</th>\n",
       "      <td>1404560065</td>\n",
       "      <td>2</td>\n",
       "    </tr>\n",
       "    <tr>\n",
       "      <th>452</th>\n",
       "      <td>1985475298</td>\n",
       "      <td>2</td>\n",
       "    </tr>\n",
       "  </tbody>\n",
       "</table>\n",
       "</div>"
      ],
      "text/plain": [
       "        user_id  orders\n",
       "908  3967698036  3     \n",
       "55   249864742   3     \n",
       "478  2108163459  3     \n",
       "687  2988190573  3     \n",
       "890  3908431265  3     \n",
       "138  611059232   3     \n",
       "632  2742574263  3     \n",
       "157  678354126   2     \n",
       "323  1404560065  2     \n",
       "452  1985475298  2     "
      ]
     },
     "execution_count": 55,
     "metadata": {},
     "output_type": "execute_result"
    }
   ],
   "source": [
    "orders_by_users.sort_values('orders', ascending=False).head(10)"
   ]
  },
  {
   "cell_type": "markdown",
   "metadata": {
    "id": "n4jcahd6863R"
   },
   "source": [
    "Видим, что наибольшее количество заказов среди наших пользователей\n",
    "&#8212; 3. Проверим, как распределяются все значения. "
   ]
  },
  {
   "cell_type": "code",
   "execution_count": 56,
   "metadata": {
    "colab": {
     "base_uri": "https://localhost:8080/",
     "height": 353
    },
    "id": "YchEwHmi9QUl",
    "outputId": "61983c2c-6972-4b86-b6f2-a693df910bad"
   },
   "outputs": [
    {
     "data": {
      "image/png": "[encoded data removed]",
      "text/plain": [
       "<Figure size 1500x500 with 1 Axes>"
      ]
     },
     "metadata": {},
     "output_type": "display_data"
    }
   ],
   "source": [
    "x_values = pd.Series(range(0,len(orders_by_users)))\n",
    "\n",
    "plt.figure(figsize=(15,5))\n",
    "plt.scatter(x_values, orders_by_users['orders'])\n",
    "plt.xlabel('Индекс пользователя в таблице')\n",
    "plt.ylabel('Заказов на пользователя')\n",
    "plt.title('Распределение количества заказов по пользователям');"
   ]
  },
  {
   "cell_type": "markdown",
   "metadata": {
    "id": "g4avZ7-d9dQh"
   },
   "source": [
    "График показывает, что наибольшее количество пользователей сделали 1 заказ. Редко кто сделал 2, и еще меньше \n",
    "&#8212; 3 заказа. "
   ]
  },
  {
   "cell_type": "markdown",
   "metadata": {
    "id": "fFsTFYFw_WjN"
   },
   "source": [
    "Стоит проверить, как распределяются персентили по нашим значениям, и очистить данные от аномалий, чтобы соотнести результаты вывода по \"чистым\" данными с теми, которые были сделаны ранее. "
   ]
  },
  {
   "cell_type": "code",
   "execution_count": 57,
   "metadata": {
    "colab": {
     "base_uri": "https://localhost:8080/"
    },
    "id": "Dr0XgEDz_qPN",
    "outputId": "0fe215d7-10d9-4e10-dbb9-f66ba9b0e740"
   },
   "outputs": [
    {
     "data": {
      "text/plain": [
       "array([1., 2.])"
      ]
     },
     "execution_count": 57,
     "metadata": {},
     "output_type": "execute_result"
    }
   ],
   "source": [
    "np.percentile(orders_by_users['orders'], [95, 99])"
   ]
  },
  {
   "cell_type": "markdown",
   "metadata": {
    "id": "wVt_OSJ_AAXA"
   },
   "source": [
    "Видим, что 99% клиентов сделали менее двух заказов. "
   ]
  },
  {
   "cell_type": "markdown",
   "metadata": {
    "id": "RvgtaxTsAPy_"
   },
   "source": [
    "В дальнейшем анализе мы отсеим пользователей, у которых было более двух заказов, оставив  наиболее характерные значения в данных. Совсем убирать значения, отличные от 1, не стоит, так как проверив отличия по группам мы сможем понять, стало ли в какой-то из них больше повторных заказов. "
   ]
  },
  {
   "cell_type": "markdown",
   "metadata": {
    "id": "g70izdVvAuPU"
   },
   "source": [
    "### Стоимость заказов по пользователям"
   ]
  },
  {
   "cell_type": "markdown",
   "metadata": {
    "id": "pvjI2srpA2q3"
   },
   "source": [
    "Теперь проверим, как распределяется стоимость заказов по пользователям. Для этого также посмотроим точечную диаграмму. "
   ]
  },
  {
   "cell_type": "code",
   "execution_count": 58,
   "metadata": {
    "colab": {
     "base_uri": "https://localhost:8080/",
     "height": 353
    },
    "id": "UMpuOtqIBVa9",
    "outputId": "4d653485-1ae5-4332-e75e-95a21aa36ed8"
   },
   "outputs": [
    {
     "data": {
      "image/png": "[encoded data removed]",
      "text/plain": [
       "<Figure size 1500x500 with 1 Axes>"
      ]
     },
     "metadata": {},
     "output_type": "display_data"
    }
   ],
   "source": [
    "x_values = pd.Series(range(0,len(orders['revenue'])))\n",
    "\n",
    "plt.figure(figsize=(15,5))\n",
    "plt.scatter(x_values, orders['revenue'])\n",
    "plt.xlabel('Индекс пользователя в таблице')\n",
    "plt.ylabel('Сумма заказа')\n",
    "plt.title('Стоимость заказов по пользователям');"
   ]
  },
  {
   "cell_type": "markdown",
   "metadata": {
    "id": "aC776tysBrfY"
   },
   "source": [
    "Такой график получается малоинформативным. Видим единичный выброс на сумму более 1.2 млн. Вероятно, он и был причиной резкого роста выручки и среднего чека по группе Б. Есть выброс в районе 300 тысяч. Остальные значения находятся существенно ниже. Ограничим значения по оси Y и построим график заново. "
   ]
  },
  {
   "cell_type": "code",
   "execution_count": 59,
   "metadata": {
    "colab": {
     "base_uri": "https://localhost:8080/",
     "height": 353
    },
    "id": "Ge0n8YbMDO5L",
    "outputId": "24c022b2-8d52-4e0a-d580-6babac753615"
   },
   "outputs": [
    {
     "data": {
      "image/png": "[encoded data removed]",
      "text/plain": [
       "<Figure size 1500x500 with 1 Axes>"
      ]
     },
     "metadata": {},
     "output_type": "display_data"
    }
   ],
   "source": [
    "x_values = pd.Series(range(0,len(orders['revenue'])))\n",
    "\n",
    "plt.figure(figsize=(15,5))\n",
    "plt.scatter(x_values, orders['revenue'])\n",
    "plt.axis([-5, 1050, -10000, 125000])\n",
    "plt.xlabel('Индекс пользователя в таблице')\n",
    "plt.ylabel('Сумма заказа')\n",
    "plt.title('Стоимость заказов по пользователям');"
   ]
  },
  {
   "cell_type": "markdown",
   "metadata": {
    "id": "FWWw8GNQDfql"
   },
   "source": [
    "Теперь картина более ясная. Основная масса значений находится на уровне менее 10 000. До 20 000 их все еще много, и далее к 100 тысячам уже остаются крайне редкие значения.  \n",
    "\n",
    "Найдем перцентили стоимости и определим, какие значения стоит оставить в \"чистых данных\". "
   ]
  },
  {
   "cell_type": "code",
   "execution_count": 60,
   "metadata": {
    "colab": {
     "base_uri": "https://localhost:8080/"
    },
    "id": "TCsVZQcfFSj0",
    "outputId": "df54d931-b8e0-47d6-8186-968cd40d5cc5"
   },
   "outputs": [
    {
     "data": {
      "text/plain": [
       "array([26785., 53904.])"
      ]
     },
     "execution_count": 60,
     "metadata": {},
     "output_type": "execute_result"
    }
   ],
   "source": [
    "np.percentile(orders['revenue'], [95, 99])"
   ]
  },
  {
   "cell_type": "markdown",
   "metadata": {
    "id": "CD-_x63SGu5u"
   },
   "source": [
    "95 процентов заказв дешевле 28 000, 99 дешевле 58 тысяч.  \n",
    "\n",
    "Оставим в наших данных только заказы стоимостью до 30 000. Остальные отсеим. "
   ]
  },
  {
   "cell_type": "markdown",
   "metadata": {
    "id": "kOq3ZqkxMC_g"
   },
   "source": [
    "## Проверка на статистическую значимость"
   ]
  },
  {
   "cell_type": "markdown",
   "metadata": {
    "id": "5MrIQS4bUlNv"
   },
   "source": [
    "Теперь время проверить, являются ли наблюдаемые нами различия между группами статистически значимыми. Также, влияет ли на это наличие аномалий в данных. "
   ]
  },
  {
   "cell_type": "markdown",
   "metadata": {
    "id": "TlLxi2fVjIdu"
   },
   "source": [
    "### Среднее количество заказов"
   ]
  },
  {
   "cell_type": "markdown",
   "metadata": {
    "id": "_ZGDGUFSUynp"
   },
   "source": [
    "Для начала проверим разницу в среднем количестве заказов по исходным данным.  "
   ]
  },
  {
   "cell_type": "markdown",
   "metadata": {
    "id": "ATN1DsMZU7pr"
   },
   "source": [
    "Сначала сделаем выборки по группам пользователей. "
   ]
  },
  {
   "cell_type": "code",
   "execution_count": 61,
   "metadata": {
    "id": "M3axYo_aX1bI"
   },
   "outputs": [],
   "source": [
    "orders_by_user_a = orders[orders['group']=='A'][['transaction_id', 'visitor_id']]"
   ]
  },
  {
   "cell_type": "code",
   "execution_count": 62,
   "metadata": {
    "id": "G7G7mNbRY7Ph"
   },
   "outputs": [],
   "source": [
    "orders_by_user_a = (\n",
    "    orders_by_user_a.groupby('visitor_id', as_index=False)\n",
    "    .agg({'transaction_id':'nunique'})\n",
    "    )"
   ]
  },
  {
   "cell_type": "code",
   "execution_count": 63,
   "metadata": {
    "id": "fQELP4dhYlby"
   },
   "outputs": [],
   "source": [
    "orders_by_user_b = orders[orders['group']=='B'][['transaction_id', 'visitor_id']]"
   ]
  },
  {
   "cell_type": "code",
   "execution_count": 64,
   "metadata": {
    "id": "KK3VYIMbYq4H"
   },
   "outputs": [],
   "source": [
    "orders_by_user_b = (\n",
    "    orders_by_user_b.groupby('visitor_id', as_index=False)\n",
    "    .agg({'transaction_id':'nunique'})\n",
    "    )"
   ]
  },
  {
   "cell_type": "code",
   "execution_count": 65,
   "metadata": {
    "colab": {
     "base_uri": "https://localhost:8080/",
     "height": 206
    },
    "id": "EAK3AuqtaTDE",
    "outputId": "b08795e9-db36-48fb-b886-2063d3e01497"
   },
   "outputs": [
    {
     "data": {
      "text/html": [
       "<div>\n",
       "<style scoped>\n",
       "    .dataframe tbody tr th:only-of-type {\n",
       "        vertical-align: middle;\n",
       "    }\n",
       "\n",
       "    .dataframe tbody tr th {\n",
       "        vertical-align: top;\n",
       "    }\n",
       "\n",
       "    .dataframe thead th {\n",
       "        text-align: right;\n",
       "    }\n",
       "</style>\n",
       "<table border=\"1\" class=\"dataframe\">\n",
       "  <thead>\n",
       "    <tr style=\"text-align: right;\">\n",
       "      <th></th>\n",
       "      <th>visitor_id</th>\n",
       "      <th>transaction_id</th>\n",
       "    </tr>\n",
       "  </thead>\n",
       "  <tbody>\n",
       "    <tr>\n",
       "      <th>0</th>\n",
       "      <td>11685486</td>\n",
       "      <td>1</td>\n",
       "    </tr>\n",
       "    <tr>\n",
       "      <th>1</th>\n",
       "      <td>54447517</td>\n",
       "      <td>1</td>\n",
       "    </tr>\n",
       "    <tr>\n",
       "      <th>2</th>\n",
       "      <td>66685450</td>\n",
       "      <td>1</td>\n",
       "    </tr>\n",
       "    <tr>\n",
       "      <th>3</th>\n",
       "      <td>78758296</td>\n",
       "      <td>1</td>\n",
       "    </tr>\n",
       "    <tr>\n",
       "      <th>4</th>\n",
       "      <td>85103373</td>\n",
       "      <td>1</td>\n",
       "    </tr>\n",
       "  </tbody>\n",
       "</table>\n",
       "</div>"
      ],
      "text/plain": [
       "   visitor_id  transaction_id\n",
       "0  11685486    1             \n",
       "1  54447517    1             \n",
       "2  66685450    1             \n",
       "3  78758296    1             \n",
       "4  85103373    1             "
      ]
     },
     "execution_count": 65,
     "metadata": {},
     "output_type": "execute_result"
    }
   ],
   "source": [
    "orders_by_user_a.head()"
   ]
  },
  {
   "cell_type": "code",
   "execution_count": 66,
   "metadata": {
    "colab": {
     "base_uri": "https://localhost:8080/",
     "height": 206
    },
    "id": "HkUXtHfQaWuS",
    "outputId": "5a35d5e5-c40f-4fe6-d69e-8f1b105a2081"
   },
   "outputs": [
    {
     "data": {
      "text/html": [
       "<div>\n",
       "<style scoped>\n",
       "    .dataframe tbody tr th:only-of-type {\n",
       "        vertical-align: middle;\n",
       "    }\n",
       "\n",
       "    .dataframe tbody tr th {\n",
       "        vertical-align: top;\n",
       "    }\n",
       "\n",
       "    .dataframe thead th {\n",
       "        text-align: right;\n",
       "    }\n",
       "</style>\n",
       "<table border=\"1\" class=\"dataframe\">\n",
       "  <thead>\n",
       "    <tr style=\"text-align: right;\">\n",
       "      <th></th>\n",
       "      <th>visitor_id</th>\n",
       "      <th>transaction_id</th>\n",
       "    </tr>\n",
       "  </thead>\n",
       "  <tbody>\n",
       "    <tr>\n",
       "      <th>0</th>\n",
       "      <td>5114589</td>\n",
       "      <td>1</td>\n",
       "    </tr>\n",
       "    <tr>\n",
       "      <th>1</th>\n",
       "      <td>6958315</td>\n",
       "      <td>1</td>\n",
       "    </tr>\n",
       "    <tr>\n",
       "      <th>2</th>\n",
       "      <td>39475350</td>\n",
       "      <td>1</td>\n",
       "    </tr>\n",
       "    <tr>\n",
       "      <th>3</th>\n",
       "      <td>47206413</td>\n",
       "      <td>1</td>\n",
       "    </tr>\n",
       "    <tr>\n",
       "      <th>4</th>\n",
       "      <td>48147722</td>\n",
       "      <td>1</td>\n",
       "    </tr>\n",
       "  </tbody>\n",
       "</table>\n",
       "</div>"
      ],
      "text/plain": [
       "   visitor_id  transaction_id\n",
       "0  5114589     1             \n",
       "1  6958315     1             \n",
       "2  39475350    1             \n",
       "3  47206413    1             \n",
       "4  48147722    1             "
      ]
     },
     "execution_count": 66,
     "metadata": {},
     "output_type": "execute_result"
    }
   ],
   "source": [
    "orders_by_user_b.head()"
   ]
  },
  {
   "cell_type": "markdown",
   "metadata": {
    "id": "QvigRbePaYq6"
   },
   "source": [
    "Получили таблицы с количеством заказов по пользователям. Однако тут нет информации по пользователям, у которых не было заказов.  \n",
    "\n",
    "Добавим нули по ним. "
   ]
  },
  {
   "cell_type": "code",
   "execution_count": 67,
   "metadata": {
    "id": "iCSXLKt6gODi"
   },
   "outputs": [],
   "source": [
    "sample_a = pd.concat(\n",
    "    [\n",
    "        orders_by_user_a['transaction_id'],\n",
    "        pd.Series(\n",
    "            0,\n",
    "            index=np.arange(\n",
    "                cummulative_data[cummulative_data['group']=='A']['visitors'].max() - \n",
    "                len(orders_by_user_a['transaction_id'])\n",
    "            ),\n",
    "            name='orders',\n",
    "        ),\n",
    "    ],\n",
    "    axis=0,\n",
    ")"
   ]
  },
  {
   "cell_type": "code",
   "execution_count": 68,
   "metadata": {
    "id": "73Z8mM0-hYkO"
   },
   "outputs": [],
   "source": [
    "sample_b = pd.concat(\n",
    "    [\n",
    "        orders_by_user_b['transaction_id'],\n",
    "        pd.Series(\n",
    "            0,\n",
    "            index=np.arange(\n",
    "                cummulative_data[cummulative_data['group']=='B']['visitors'].max() - \n",
    "                len(orders_by_user_b['transaction_id'])\n",
    "            ),\n",
    "            name='orders',\n",
    "        ),\n",
    "    ],\n",
    "    axis=0,\n",
    ")"
   ]
  },
  {
   "cell_type": "markdown",
   "metadata": {
    "id": "iuZUGrxUhjm1"
   },
   "source": [
    "Данные подготовили.  \n",
    "\n",
    "Теперь можем применить критерий Манна-Уитни и проверить, являются ли различия в среднем количестве заказов на пользователя по сырым данным статистически значимыми. \n",
    "\n",
    "Принимаем за альфа уровень значимости 5%\n",
    "> **Ho**: среднее количество заказов по группам теста одинаковое;  \n",
    "> **H1**: количество заказов на пользователя различается для исследуемых групп. "
   ]
  },
  {
   "cell_type": "code",
   "execution_count": 69,
   "metadata": {
    "colab": {
     "base_uri": "https://localhost:8080/"
    },
    "id": "T4WkrFVuin1H",
    "outputId": "acab3cea-6e14-47af-cfef-45172064e436"
   },
   "outputs": [
    {
     "name": "stdout",
     "output_type": "stream",
     "text": [
      "p-value:  0.011\n",
      "Относительный прирост:  0.160\n"
     ]
    }
   ],
   "source": [
    "print('p-value: ', \"{0:.3f}\".format(st.mannwhitneyu(sample_a, sample_b)[1]))\n",
    "\n",
    "print('Относительный прирост: ', \"{0:.3f}\".format(sample_b.mean() / sample_a.mean() - 1))\n"
   ]
  },
  {
   "cell_type": "markdown",
   "metadata": {
    "id": "PldNy8dCi0nV"
   },
   "source": [
    "*p-value* получился 1,1%. Значит, разница в исходных данных является статистически значимой. Сама разница составляет 16%. "
   ]
  },
  {
   "cell_type": "markdown",
   "metadata": {
    "id": "XkECwoqijjcG"
   },
   "source": [
    "Сразу проверим информацию по очищенным данным. Отфильтруем пользователей, которые сделали более двух заказов и у которых были заказы на сумму более 30 000."
   ]
  },
  {
   "cell_type": "code",
   "execution_count": 70,
   "metadata": {
    "id": "8YVYAABTjsDp"
   },
   "outputs": [],
   "source": [
    "users_with_many_orders = pd.concat(\n",
    "    [\n",
    "        orders_by_user_a[orders_by_user_a['transaction_id']>3]['visitor_id'],\n",
    "        orders_by_user_b[orders_by_user_b['transaction_id']>3]['visitor_id']\n",
    "     ],\n",
    "     axis=0\n",
    ")"
   ]
  },
  {
   "cell_type": "code",
   "execution_count": 71,
   "metadata": {
    "id": "RLBrUloPmAWh"
   },
   "outputs": [],
   "source": [
    "users_with_expensive_orders = orders[orders['revenue'] > 30000]['visitor_id']"
   ]
  },
  {
   "cell_type": "code",
   "execution_count": 72,
   "metadata": {
    "id": "MVisN9RymeOI"
   },
   "outputs": [],
   "source": [
    "abnormal_users = (\n",
    "    pd.concat([users_with_many_orders, users_with_expensive_orders], axis=0)\n",
    "    .drop_duplicates()\n",
    "    .sort_values()\n",
    ")"
   ]
  },
  {
   "cell_type": "code",
   "execution_count": 73,
   "metadata": {
    "scrolled": true
   },
   "outputs": [
    {
     "name": "stdout",
     "output_type": "stream",
     "text": [
      "42\n"
     ]
    },
    {
     "data": {
      "text/plain": [
       "'0.043'"
      ]
     },
     "execution_count": 73,
     "metadata": {},
     "output_type": "execute_result"
    }
   ],
   "source": [
    "print(len(abnormal_users))\n",
    "'{:.3f}'.format(len(abnormal_users)/orders['visitor_id'].nunique())"
   ]
  },
  {
   "cell_type": "markdown",
   "metadata": {
    "id": "Mm1U6Fw4mnqG"
   },
   "source": [
    "Получили выборку пользователей с аномальным поведением. Таких оказалось 42, 4.3% от всего числа пользователей. Теперь добавим два датасета по группам с отфильтрованными данными. "
   ]
  },
  {
   "cell_type": "code",
   "execution_count": 74,
   "metadata": {
    "id": "JGn2oVlsm-OO"
   },
   "outputs": [],
   "source": [
    "sample_a_filtered = pd.concat(\n",
    "    [\n",
    "        orders_by_user_a[\n",
    "            np.logical_not(orders_by_user_a['visitor_id'].isin(abnormal_users))\n",
    "        ]['transaction_id'],\n",
    "        pd.Series(\n",
    "            0,\n",
    "            index=np.arange(\n",
    "                cummulative_data[cummulative_data['group']=='A']['visitors'].max() - \n",
    "                len(orders_by_user_a['transaction_id'])\n",
    "            ),\n",
    "            name='orders',\n",
    "        ),\n",
    "    ],\n",
    "    axis=0,\n",
    ")"
   ]
  },
  {
   "cell_type": "code",
   "execution_count": 75,
   "metadata": {
    "id": "zNRAWMTmnzT7"
   },
   "outputs": [],
   "source": [
    "sample_b_filtered = pd.concat(\n",
    "    [\n",
    "        orders_by_user_b[\n",
    "            np.logical_not(orders_by_user_b['visitor_id'].isin(abnormal_users))\n",
    "        ]['transaction_id'],\n",
    "        pd.Series(\n",
    "            0,\n",
    "            index=np.arange(\n",
    "                cummulative_data[cummulative_data['group']=='B']['visitors'].max() - \n",
    "                len(orders_by_user_b['transaction_id'])\n",
    "            ),\n",
    "            name='orders',\n",
    "        ),\n",
    "    ],\n",
    "    axis=0,\n",
    ")"
   ]
  },
  {
   "cell_type": "markdown",
   "metadata": {
    "id": "2NpNagSEoFVN"
   },
   "source": [
    "Проверяем статистическую значимость различий в отфильтрованных данных.  "
   ]
  },
  {
   "cell_type": "code",
   "execution_count": 76,
   "metadata": {
    "colab": {
     "base_uri": "https://localhost:8080/"
    },
    "id": "7t3Oi28ToVqZ",
    "outputId": "0f9c5059-edb0-446a-e1b5-3c9d0a0f14a4"
   },
   "outputs": [
    {
     "name": "stdout",
     "output_type": "stream",
     "text": [
      "p-value:  0.013\n",
      "Относительный прирост:  0.161\n"
     ]
    }
   ],
   "source": [
    "print('p-value: ', \"{0:.3f}\".format(st.mannwhitneyu(sample_a_filtered, sample_b_filtered)[1]))\n",
    "\n",
    "print('Относительный прирост: ', \"{0:.3f}\".format(sample_b_filtered.mean() / sample_a_filtered.mean() - 1))"
   ]
  },
  {
   "cell_type": "markdown",
   "metadata": {
    "id": "iwAXNtT_ojzX"
   },
   "source": [
    "Ситуация не изменилась, результат остался статистически значимым.  \n",
    "\n",
    "Относительное различие увеличилось на десятую долю процента. "
   ]
  },
  {
   "cell_type": "markdown",
   "metadata": {
    "id": "Y2JB-VJAo1VT"
   },
   "source": [
    "Можно сделать вывод, что среднее количество заказов в группе Б выросло относительно группы А. "
   ]
  },
  {
   "cell_type": "markdown",
   "metadata": {
    "id": "5tfwOVTqtxL0"
   },
   "source": [
    "### Средний чек"
   ]
  },
  {
   "cell_type": "markdown",
   "metadata": {
    "id": "-t2yFHqRvFVc"
   },
   "source": [
    "Проверим статистическую значимость различий по среднему чеку для наших групп. Проведем подсчеты по исходным и отфильтрованным данным.  \n",
    "\n",
    "Уровень значимости `alpha` 5%."
   ]
  },
  {
   "cell_type": "markdown",
   "metadata": {},
   "source": [
    "> **Ho**: средние чеки по группам не отличаются;  \n",
    "> **H1**: средние чеки по группам имеют различия."
   ]
  },
  {
   "cell_type": "code",
   "execution_count": 77,
   "metadata": {
    "colab": {
     "base_uri": "https://localhost:8080/"
    },
    "id": "eP2paGCdt1EK",
    "outputId": "4aeae6b1-4a61-4736-ac3a-e8fe89ffe6b7"
   },
   "outputs": [
    {
     "name": "stdout",
     "output_type": "stream",
     "text": [
      "p-value:  0.829\n",
      "Относительный прирост:  0.287\n"
     ]
    }
   ],
   "source": [
    "# на исходных данных\n",
    "print(\n",
    "    'p-value: ',\n",
    "    '{0:.3f}'.format(st.mannwhitneyu(orders[orders['group']=='A']['revenue'], \n",
    "                                        orders[orders['group']=='B']['revenue'])[1])\n",
    ")\n",
    "print(\n",
    "    'Относительный прирост: ', \n",
    "    '{0:.3f}'.format(orders[orders['group']=='B']['revenue'].mean()/\n",
    "                     orders[orders['group']=='A']['revenue'].mean()-1)\n",
    ")"
   ]
  },
  {
   "cell_type": "markdown",
   "metadata": {
    "id": "cyAbUrKMvT0u"
   },
   "source": [
    "На \"сырых\" данных видим, что *p-value* существенно больше 5%, соответственно, изменения не являются статистически значимыми. Несмотря на то, что отличие на 29%, средний чек группы Б больше. "
   ]
  },
  {
   "cell_type": "code",
   "execution_count": 78,
   "metadata": {
    "colab": {
     "base_uri": "https://localhost:8080/"
    },
    "id": "mWrE-cAbulAg",
    "outputId": "3821b1f0-2614-4dfa-cc0b-288d1c8b6173"
   },
   "outputs": [
    {
     "name": "stdout",
     "output_type": "stream",
     "text": [
      "p-value:  0.842\n",
      "Относительный прирост:  -0.031\n"
     ]
    }
   ],
   "source": [
    "# на отфильтрованных данных\n",
    "\n",
    "print(\n",
    "    'p-value: ',\n",
    "    '{0:.3f}'.format(\n",
    "        st.mannwhitneyu(\n",
    "            orders[\n",
    "                np.logical_and(\n",
    "                    orders['group'] == 'A',\n",
    "                    np.logical_not(orders['visitor_id'].isin(abnormal_users)),\n",
    "                )\n",
    "            ]['revenue'],\n",
    "            orders[\n",
    "                np.logical_and(\n",
    "                    orders['group'] == 'B',\n",
    "                    np.logical_not(orders['visitor_id'].isin(abnormal_users)),\n",
    "                )\n",
    "            ]['revenue'],\n",
    "        )[1]\n",
    "    )\n",
    ")\n",
    "\n",
    "print(\n",
    "    'Относительный прирост: ', \n",
    "    \"{0:.3f}\".format(\n",
    "        orders[\n",
    "            np.logical_and(\n",
    "                orders['group'] == 'B',\n",
    "                np.logical_not(orders['visitor_id'].isin(abnormal_users)),\n",
    "            )\n",
    "        ]['revenue'].mean()\n",
    "        / orders[\n",
    "            np.logical_and(\n",
    "                orders['group'] == 'A',\n",
    "                np.logical_not(orders['visitor_id'].isin(abnormal_users)),\n",
    "            )\n",
    "        ]['revenue'].mean()\n",
    "        - 1\n",
    "    )\n",
    ")"
   ]
  },
  {
   "cell_type": "markdown",
   "metadata": {
    "id": "JvxvTizxvDCH"
   },
   "source": [
    "По отфильтрованным данным ситуация глобально не поменялась, *p-value* по-прежнему больше 5%, поэтому изменения не являются статистически значимыми.  \n",
    "\n",
    "Однако разница между группами после фильтрации изменилась сильно, и теперь практически отсутствует, 3% против 29 на исходных данных. "
   ]
  },
  {
   "cell_type": "markdown",
   "metadata": {
    "id": "lKn5i96AwLgl"
   },
   "source": [
    "# Выводы"
   ]
  },
  {
   "cell_type": "markdown",
   "metadata": {
    "id": "xo7MIC5-wN3j"
   },
   "source": [
    "В ходе этого исследования работали с результатами A/B-теста новой опции.  \n",
    "\n",
    "Мы оценили графики таких параметров как:  \n",
    "> - куммулятивная выручка;  \n",
    "> - куммулятивный средний чек;  \n",
    "> - куммулятивное среднее кол-во заказов;  \n",
    "> - количество и стоимость заказов на пользователя.  \n",
    "\n",
    "Также проверили статистическую значимость в различиях таких показателей как средний чек покупки и среднее количество заказов на пользователя. "
   ]
  },
  {
   "cell_type": "markdown",
   "metadata": {},
   "source": [
    "В начале работы мы выявили наиболее приоритетную для проверки гипотезу.   \n",
    "\n",
    "Это 7-я гипотеза, \"Добавить форму подписки на все основные страницы, чтобы собрать базу клиентов для email-рассылок\".  \n",
    "\n",
    "Она охватывает наибольшее количество пользователей, а также имеет высокие оценки влияния на них и приемлемый уровень затрат на добавление самой опции."
   ]
  },
  {
   "cell_type": "markdown",
   "metadata": {
    "id": "tVri-Z2ByXKi"
   },
   "source": [
    "**По итогам нашей проверки** можно сказать, что в тестируемой группе увеличилось количество заказов относительно контрольной на статистически значимую величину.  \n",
    "\n",
    "Средний чек не имеет статистически значимых различий.  \n",
    "\n",
    "Группы были проверены как на исходных данных, так и на очищенных от выбросов. "
   ]
  },
  {
   "cell_type": "markdown",
   "metadata": {
    "id": "3_iUiRM_yUtV"
   },
   "source": [
    "Тест можно остановить. Полученных наблюдений достаточно, чтобы признать победу группы Б.  \n",
    "\n",
    "Нововведение позволило увеличить количество заказов. При отсутствии разницы в среднем чеке это приводит к увеличению выручки. "
   ]
  }
 ],
 "metadata": {
  "ExecuteTimeLog": [
   {
    "duration": 857,
    "start_time": "2022-11-27T03:16:07.427Z"
   },
   {
    "duration": 70,
    "start_time": "2022-11-27T03:16:08.286Z"
   },
   {
    "duration": 13,
    "start_time": "2022-11-27T03:16:08.358Z"
   },
   {
    "duration": 3,
    "start_time": "2022-11-27T03:16:08.373Z"
   },
   {
    "duration": 7,
    "start_time": "2022-11-27T03:16:08.378Z"
   },
   {
    "duration": 11,
    "start_time": "2022-11-27T03:16:08.387Z"
   },
   {
    "duration": 7,
    "start_time": "2022-11-27T03:16:08.400Z"
   },
   {
    "duration": 14,
    "start_time": "2022-11-27T03:16:08.408Z"
   },
   {
    "duration": 29,
    "start_time": "2022-11-27T03:16:08.423Z"
   },
   {
    "duration": 55,
    "start_time": "2022-11-27T03:16:08.454Z"
   },
   {
    "duration": 70,
    "start_time": "2022-11-27T03:16:08.511Z"
   },
   {
    "duration": 8,
    "start_time": "2022-11-27T03:16:08.583Z"
   },
   {
    "duration": 11,
    "start_time": "2022-11-27T03:16:08.593Z"
   },
   {
    "duration": 5,
    "start_time": "2022-11-27T03:16:08.607Z"
   },
   {
    "duration": 7,
    "start_time": "2022-11-27T03:16:08.613Z"
   },
   {
    "duration": 9,
    "start_time": "2022-11-27T03:16:08.622Z"
   },
   {
    "duration": 8,
    "start_time": "2022-11-27T03:16:08.632Z"
   },
   {
    "duration": 9,
    "start_time": "2022-11-27T03:16:08.642Z"
   },
   {
    "duration": 12,
    "start_time": "2022-11-27T03:16:08.653Z"
   },
   {
    "duration": 13,
    "start_time": "2022-11-27T03:16:08.667Z"
   },
   {
    "duration": 8,
    "start_time": "2022-11-27T03:16:08.682Z"
   },
   {
    "duration": 15,
    "start_time": "2022-11-27T03:16:08.692Z"
   },
   {
    "duration": 8,
    "start_time": "2022-11-27T03:16:08.708Z"
   },
   {
    "duration": 191,
    "start_time": "2022-11-27T03:16:08.717Z"
   },
   {
    "duration": 126,
    "start_time": "2022-11-27T03:16:08.910Z"
   },
   {
    "duration": 18,
    "start_time": "2022-11-27T03:16:09.038Z"
   },
   {
    "duration": 5,
    "start_time": "2022-11-27T03:16:09.058Z"
   },
   {
    "duration": 11,
    "start_time": "2022-11-27T03:16:09.064Z"
   },
   {
    "duration": 7,
    "start_time": "2022-11-27T03:16:09.077Z"
   },
   {
    "duration": 6,
    "start_time": "2022-11-27T03:16:09.086Z"
   },
   {
    "duration": 10,
    "start_time": "2022-11-27T03:16:09.094Z"
   },
   {
    "duration": 15,
    "start_time": "2022-11-27T03:16:09.106Z"
   },
   {
    "duration": 4,
    "start_time": "2022-11-27T03:16:09.150Z"
   },
   {
    "duration": 299,
    "start_time": "2022-11-27T03:16:09.157Z"
   },
   {
    "duration": 241,
    "start_time": "2022-11-27T03:16:09.458Z"
   },
   {
    "duration": 8,
    "start_time": "2022-11-27T03:16:09.700Z"
   },
   {
    "duration": 30,
    "start_time": "2022-11-27T03:16:09.710Z"
   },
   {
    "duration": 368,
    "start_time": "2022-11-27T03:16:09.741Z"
   },
   {
    "duration": 9,
    "start_time": "2022-11-27T03:16:10.111Z"
   },
   {
    "duration": 8,
    "start_time": "2022-11-27T03:16:10.122Z"
   },
   {
    "duration": 10,
    "start_time": "2022-11-27T03:16:10.151Z"
   },
   {
    "duration": 6,
    "start_time": "2022-11-27T03:16:10.164Z"
   },
   {
    "duration": 12,
    "start_time": "2022-11-27T03:16:10.172Z"
   },
   {
    "duration": 14,
    "start_time": "2022-11-27T03:16:10.186Z"
   },
   {
    "duration": 6,
    "start_time": "2022-11-27T03:16:10.202Z"
   },
   {
    "duration": 6,
    "start_time": "2022-11-27T03:16:10.209Z"
   },
   {
    "duration": 288,
    "start_time": "2022-11-27T03:16:10.217Z"
   },
   {
    "duration": 6,
    "start_time": "2022-11-27T03:16:10.507Z"
   },
   {
    "duration": 340,
    "start_time": "2022-11-27T03:16:10.515Z"
   },
   {
    "duration": 7,
    "start_time": "2022-11-27T03:16:10.856Z"
   },
   {
    "duration": 4,
    "start_time": "2022-11-27T03:16:10.865Z"
   },
   {
    "duration": 11,
    "start_time": "2022-11-27T03:16:10.871Z"
   },
   {
    "duration": 166,
    "start_time": "2022-11-27T03:16:10.884Z"
   },
   {
    "duration": 6,
    "start_time": "2022-11-27T03:16:11.053Z"
   },
   {
    "duration": 171,
    "start_time": "2022-11-27T03:16:11.061Z"
   },
   {
    "duration": 171,
    "start_time": "2022-11-27T03:16:11.235Z"
   },
   {
    "duration": 7,
    "start_time": "2022-11-27T03:16:11.408Z"
   },
   {
    "duration": 6,
    "start_time": "2022-11-27T03:16:11.417Z"
   },
   {
    "duration": 27,
    "start_time": "2022-11-27T03:16:11.424Z"
   },
   {
    "duration": 6,
    "start_time": "2022-11-27T03:16:11.453Z"
   },
   {
    "duration": 9,
    "start_time": "2022-11-27T03:16:11.460Z"
   },
   {
    "duration": 9,
    "start_time": "2022-11-27T03:16:11.471Z"
   },
   {
    "duration": 10,
    "start_time": "2022-11-27T03:16:11.482Z"
   },
   {
    "duration": 10,
    "start_time": "2022-11-27T03:16:11.494Z"
   },
   {
    "duration": 6,
    "start_time": "2022-11-27T03:16:11.506Z"
   },
   {
    "duration": 460,
    "start_time": "2022-11-27T03:16:11.514Z"
   },
   {
    "duration": 25,
    "start_time": "2022-11-27T03:16:11.976Z"
   },
   {
    "duration": 6,
    "start_time": "2022-11-27T03:16:12.003Z"
   },
   {
    "duration": 8,
    "start_time": "2022-11-27T03:16:12.011Z"
   },
   {
    "duration": 5,
    "start_time": "2022-11-27T03:16:12.021Z"
   },
   {
    "duration": 27,
    "start_time": "2022-11-27T03:16:12.028Z"
   },
   {
    "duration": 6,
    "start_time": "2022-11-27T03:16:12.057Z"
   },
   {
    "duration": 25,
    "start_time": "2022-11-27T03:16:12.065Z"
   },
   {
    "duration": 13,
    "start_time": "2022-11-27T03:16:12.092Z"
   },
   {
    "duration": 49,
    "start_time": "2022-11-27T03:16:12.107Z"
   },
   {
    "duration": 1015,
    "start_time": "2022-11-27T16:30:42.320Z"
   },
   {
    "duration": 71,
    "start_time": "2022-11-27T16:30:47.078Z"
   },
   {
    "duration": 25,
    "start_time": "2022-11-27T16:30:47.548Z"
   },
   {
    "duration": 4,
    "start_time": "2022-11-27T16:32:20.991Z"
   },
   {
    "duration": 9,
    "start_time": "2022-11-27T16:32:23.519Z"
   },
   {
    "duration": 18,
    "start_time": "2022-11-27T16:32:23.740Z"
   },
   {
    "duration": 7,
    "start_time": "2022-11-27T16:32:32.977Z"
   },
   {
    "duration": 12,
    "start_time": "2022-11-27T16:32:33.424Z"
   },
   {
    "duration": 5,
    "start_time": "2022-11-27T16:32:37.676Z"
   },
   {
    "duration": 79,
    "start_time": "2022-11-27T16:33:35.050Z"
   },
   {
    "duration": 84,
    "start_time": "2022-11-27T16:33:35.426Z"
   },
   {
    "duration": 9,
    "start_time": "2022-11-27T16:33:35.775Z"
   },
   {
    "duration": 11,
    "start_time": "2022-11-27T16:33:37.030Z"
   },
   {
    "duration": 5,
    "start_time": "2022-11-27T16:33:41.134Z"
   },
   {
    "duration": 7,
    "start_time": "2022-11-27T16:33:42.826Z"
   },
   {
    "duration": 8,
    "start_time": "2022-11-27T16:33:43.137Z"
   },
   {
    "duration": 9,
    "start_time": "2022-11-27T16:33:43.875Z"
   },
   {
    "duration": 8,
    "start_time": "2022-11-27T16:33:44.433Z"
   },
   {
    "duration": 16,
    "start_time": "2022-11-27T16:33:58.026Z"
   },
   {
    "duration": 13,
    "start_time": "2022-11-27T16:33:58.574Z"
   },
   {
    "duration": 5,
    "start_time": "2022-11-27T16:34:02.234Z"
   },
   {
    "duration": 23,
    "start_time": "2022-11-27T16:34:02.439Z"
   },
   {
    "duration": 4,
    "start_time": "2022-11-27T16:38:30.238Z"
   },
   {
    "duration": 13,
    "start_time": "2022-11-27T16:38:52.954Z"
   },
   {
    "duration": 612,
    "start_time": "2022-11-29T04:47:42.895Z"
   },
   {
    "duration": 27,
    "start_time": "2022-11-29T04:47:43.509Z"
   },
   {
    "duration": 11,
    "start_time": "2022-11-29T04:47:43.538Z"
   },
   {
    "duration": 17,
    "start_time": "2022-11-29T04:47:43.551Z"
   },
   {
    "duration": 30,
    "start_time": "2022-11-29T04:47:43.569Z"
   },
   {
    "duration": 38,
    "start_time": "2022-11-29T04:47:43.600Z"
   },
   {
    "duration": 22,
    "start_time": "2022-11-29T04:47:43.640Z"
   },
   {
    "duration": 36,
    "start_time": "2022-11-29T04:47:43.664Z"
   },
   {
    "duration": 39,
    "start_time": "2022-11-29T04:47:43.702Z"
   },
   {
    "duration": 54,
    "start_time": "2022-11-29T04:47:43.744Z"
   },
   {
    "duration": 20,
    "start_time": "2022-11-29T04:47:43.799Z"
   },
   {
    "duration": 65,
    "start_time": "2022-11-29T04:47:43.820Z"
   },
   {
    "duration": 33,
    "start_time": "2022-11-29T04:47:43.886Z"
   },
   {
    "duration": 33,
    "start_time": "2022-11-29T04:47:43.921Z"
   },
   {
    "duration": 23,
    "start_time": "2022-11-29T04:47:43.956Z"
   },
   {
    "duration": 34,
    "start_time": "2022-11-29T04:47:43.981Z"
   },
   {
    "duration": 20,
    "start_time": "2022-11-29T04:47:44.017Z"
   },
   {
    "duration": 43,
    "start_time": "2022-11-29T04:47:44.038Z"
   },
   {
    "duration": 36,
    "start_time": "2022-11-29T04:47:44.083Z"
   },
   {
    "duration": 13,
    "start_time": "2022-11-29T04:47:44.121Z"
   },
   {
    "duration": 35,
    "start_time": "2022-11-29T04:47:44.135Z"
   },
   {
    "duration": 33,
    "start_time": "2022-11-29T04:47:44.172Z"
   },
   {
    "duration": 32,
    "start_time": "2022-11-29T04:47:44.206Z"
   },
   {
    "duration": 55,
    "start_time": "2022-11-29T04:47:44.240Z"
   },
   {
    "duration": 43,
    "start_time": "2022-11-29T04:47:44.297Z"
   },
   {
    "duration": 41,
    "start_time": "2022-11-29T04:47:44.342Z"
   },
   {
    "duration": 43,
    "start_time": "2022-11-29T04:47:44.385Z"
   },
   {
    "duration": 28,
    "start_time": "2022-11-29T04:47:44.431Z"
   },
   {
    "duration": 36,
    "start_time": "2022-11-29T04:47:44.461Z"
   },
   {
    "duration": 31,
    "start_time": "2022-11-29T04:47:44.498Z"
   },
   {
    "duration": 39,
    "start_time": "2022-11-29T04:47:44.531Z"
   },
   {
    "duration": 30,
    "start_time": "2022-11-29T04:47:44.571Z"
   },
   {
    "duration": 179,
    "start_time": "2022-11-29T04:47:44.603Z"
   },
   {
    "duration": 120,
    "start_time": "2022-11-29T04:47:44.784Z"
   },
   {
    "duration": 18,
    "start_time": "2022-11-29T04:47:44.905Z"
   },
   {
    "duration": 22,
    "start_time": "2022-11-29T04:47:44.924Z"
   },
   {
    "duration": 48,
    "start_time": "2022-11-29T04:47:44.948Z"
   },
   {
    "duration": 27,
    "start_time": "2022-11-29T04:47:44.998Z"
   },
   {
    "duration": 28,
    "start_time": "2022-11-29T04:47:45.027Z"
   },
   {
    "duration": 31,
    "start_time": "2022-11-29T04:47:45.056Z"
   },
   {
    "duration": 48,
    "start_time": "2022-11-29T04:47:45.089Z"
   },
   {
    "duration": 49,
    "start_time": "2022-11-29T04:47:45.139Z"
   },
   {
    "duration": 301,
    "start_time": "2022-11-29T04:47:45.190Z"
   },
   {
    "duration": 212,
    "start_time": "2022-11-29T04:47:45.493Z"
   },
   {
    "duration": 7,
    "start_time": "2022-11-29T04:47:45.707Z"
   },
   {
    "duration": 31,
    "start_time": "2022-11-29T04:47:45.715Z"
   },
   {
    "duration": 304,
    "start_time": "2022-11-29T04:47:45.748Z"
   },
   {
    "duration": 9,
    "start_time": "2022-11-29T04:47:46.053Z"
   },
   {
    "duration": 11,
    "start_time": "2022-11-29T04:47:46.064Z"
   },
   {
    "duration": 34,
    "start_time": "2022-11-29T04:47:46.076Z"
   },
   {
    "duration": 21,
    "start_time": "2022-11-29T04:47:46.112Z"
   },
   {
    "duration": 295,
    "start_time": "2022-11-29T04:47:46.135Z"
   },
   {
    "duration": 10,
    "start_time": "2022-11-29T04:47:46.431Z"
   },
   {
    "duration": 344,
    "start_time": "2022-11-29T04:47:46.442Z"
   },
   {
    "duration": 7,
    "start_time": "2022-11-29T04:47:46.788Z"
   },
   {
    "duration": 12,
    "start_time": "2022-11-29T04:47:46.796Z"
   },
   {
    "duration": 21,
    "start_time": "2022-11-29T04:47:46.810Z"
   },
   {
    "duration": 174,
    "start_time": "2022-11-29T04:47:46.833Z"
   },
   {
    "duration": 5,
    "start_time": "2022-11-29T04:47:47.009Z"
   },
   {
    "duration": 171,
    "start_time": "2022-11-29T04:47:47.016Z"
   },
   {
    "duration": 170,
    "start_time": "2022-11-29T04:47:47.189Z"
   },
   {
    "duration": 5,
    "start_time": "2022-11-29T04:47:47.361Z"
   },
   {
    "duration": 39,
    "start_time": "2022-11-29T04:47:47.368Z"
   },
   {
    "duration": 25,
    "start_time": "2022-11-29T04:47:47.408Z"
   },
   {
    "duration": 29,
    "start_time": "2022-11-29T04:47:47.435Z"
   },
   {
    "duration": 26,
    "start_time": "2022-11-29T04:47:47.466Z"
   },
   {
    "duration": 24,
    "start_time": "2022-11-29T04:47:47.494Z"
   },
   {
    "duration": 23,
    "start_time": "2022-11-29T04:47:47.519Z"
   },
   {
    "duration": 20,
    "start_time": "2022-11-29T04:47:47.543Z"
   },
   {
    "duration": 8,
    "start_time": "2022-11-29T04:47:47.564Z"
   },
   {
    "duration": 453,
    "start_time": "2022-11-29T04:47:47.573Z"
   },
   {
    "duration": 28,
    "start_time": "2022-11-29T04:47:48.028Z"
   },
   {
    "duration": 5,
    "start_time": "2022-11-29T04:47:48.058Z"
   },
   {
    "duration": 11,
    "start_time": "2022-11-29T04:47:48.064Z"
   },
   {
    "duration": 13,
    "start_time": "2022-11-29T04:47:48.077Z"
   },
   {
    "duration": 16,
    "start_time": "2022-11-29T04:47:48.092Z"
   },
   {
    "duration": 12,
    "start_time": "2022-11-29T04:47:48.110Z"
   },
   {
    "duration": 16,
    "start_time": "2022-11-29T04:47:48.124Z"
   },
   {
    "duration": 29,
    "start_time": "2022-11-29T04:47:48.141Z"
   },
   {
    "duration": 10,
    "start_time": "2022-11-29T04:47:48.172Z"
   },
   {
    "duration": 13,
    "start_time": "2022-11-29T04:47:48.184Z"
   },
   {
    "duration": 598,
    "start_time": "2022-11-29T05:13:10.892Z"
   },
   {
    "duration": 27,
    "start_time": "2022-11-29T05:13:11.492Z"
   },
   {
    "duration": 12,
    "start_time": "2022-11-29T05:13:11.521Z"
   },
   {
    "duration": 10,
    "start_time": "2022-11-29T05:13:11.536Z"
   },
   {
    "duration": 12,
    "start_time": "2022-11-29T05:13:11.547Z"
   },
   {
    "duration": 13,
    "start_time": "2022-11-29T05:13:11.561Z"
   },
   {
    "duration": 8,
    "start_time": "2022-11-29T05:13:11.575Z"
   },
   {
    "duration": 20,
    "start_time": "2022-11-29T05:13:11.584Z"
   },
   {
    "duration": 21,
    "start_time": "2022-11-29T05:13:11.605Z"
   },
   {
    "duration": 35,
    "start_time": "2022-11-29T05:13:11.628Z"
   },
   {
    "duration": 7,
    "start_time": "2022-11-29T05:13:11.665Z"
   },
   {
    "duration": 11,
    "start_time": "2022-11-29T05:13:11.673Z"
   },
   {
    "duration": 10,
    "start_time": "2022-11-29T05:13:11.686Z"
   },
   {
    "duration": 18,
    "start_time": "2022-11-29T05:13:11.698Z"
   },
   {
    "duration": 11,
    "start_time": "2022-11-29T05:13:11.717Z"
   },
   {
    "duration": 13,
    "start_time": "2022-11-29T05:13:11.729Z"
   },
   {
    "duration": 16,
    "start_time": "2022-11-29T05:13:11.744Z"
   },
   {
    "duration": 25,
    "start_time": "2022-11-29T05:13:11.761Z"
   },
   {
    "duration": 15,
    "start_time": "2022-11-29T05:13:11.788Z"
   },
   {
    "duration": 8,
    "start_time": "2022-11-29T05:13:11.805Z"
   },
   {
    "duration": 17,
    "start_time": "2022-11-29T05:13:11.814Z"
   },
   {
    "duration": 16,
    "start_time": "2022-11-29T05:13:11.833Z"
   },
   {
    "duration": 8,
    "start_time": "2022-11-29T05:13:11.851Z"
   },
   {
    "duration": 10,
    "start_time": "2022-11-29T05:13:11.860Z"
   },
   {
    "duration": 9,
    "start_time": "2022-11-29T05:13:11.871Z"
   },
   {
    "duration": 12,
    "start_time": "2022-11-29T05:13:11.881Z"
   },
   {
    "duration": 9,
    "start_time": "2022-11-29T05:13:11.895Z"
   },
   {
    "duration": 3,
    "start_time": "2022-11-29T05:13:11.908Z"
   },
   {
    "duration": 13,
    "start_time": "2022-11-29T05:13:11.913Z"
   },
   {
    "duration": 8,
    "start_time": "2022-11-29T05:13:11.928Z"
   },
   {
    "duration": 15,
    "start_time": "2022-11-29T05:13:11.938Z"
   },
   {
    "duration": 8,
    "start_time": "2022-11-29T05:13:11.954Z"
   },
   {
    "duration": 152,
    "start_time": "2022-11-29T05:13:11.963Z"
   },
   {
    "duration": 110,
    "start_time": "2022-11-29T05:13:12.117Z"
   },
   {
    "duration": 8,
    "start_time": "2022-11-29T05:13:12.229Z"
   },
   {
    "duration": 7,
    "start_time": "2022-11-29T05:13:12.239Z"
   },
   {
    "duration": 11,
    "start_time": "2022-11-29T05:13:12.247Z"
   },
   {
    "duration": 7,
    "start_time": "2022-11-29T05:13:12.260Z"
   },
   {
    "duration": 11,
    "start_time": "2022-11-29T05:13:12.269Z"
   },
   {
    "duration": 15,
    "start_time": "2022-11-29T05:13:12.282Z"
   },
   {
    "duration": 15,
    "start_time": "2022-11-29T05:13:12.298Z"
   },
   {
    "duration": 20,
    "start_time": "2022-11-29T05:13:12.315Z"
   },
   {
    "duration": 337,
    "start_time": "2022-11-29T05:13:12.337Z"
   },
   {
    "duration": 219,
    "start_time": "2022-11-29T05:13:12.675Z"
   },
   {
    "duration": 7,
    "start_time": "2022-11-29T05:13:12.896Z"
   },
   {
    "duration": 14,
    "start_time": "2022-11-29T05:13:12.905Z"
   },
   {
    "duration": 317,
    "start_time": "2022-11-29T05:13:12.920Z"
   },
   {
    "duration": 9,
    "start_time": "2022-11-29T05:13:13.238Z"
   },
   {
    "duration": 7,
    "start_time": "2022-11-29T05:13:13.248Z"
   },
   {
    "duration": 12,
    "start_time": "2022-11-29T05:13:13.257Z"
   },
   {
    "duration": 7,
    "start_time": "2022-11-29T05:13:13.270Z"
   },
   {
    "duration": 272,
    "start_time": "2022-11-29T05:13:13.279Z"
   },
   {
    "duration": 6,
    "start_time": "2022-11-29T05:13:13.552Z"
   },
   {
    "duration": 281,
    "start_time": "2022-11-29T05:13:13.560Z"
   },
   {
    "duration": 6,
    "start_time": "2022-11-29T05:13:13.843Z"
   },
   {
    "duration": 3,
    "start_time": "2022-11-29T05:13:13.850Z"
   },
   {
    "duration": 9,
    "start_time": "2022-11-29T05:13:13.855Z"
   },
   {
    "duration": 179,
    "start_time": "2022-11-29T05:13:13.865Z"
   },
   {
    "duration": 6,
    "start_time": "2022-11-29T05:13:14.045Z"
   },
   {
    "duration": 144,
    "start_time": "2022-11-29T05:13:14.052Z"
   },
   {
    "duration": 153,
    "start_time": "2022-11-29T05:13:14.198Z"
   },
   {
    "duration": 4,
    "start_time": "2022-11-29T05:13:14.353Z"
   },
   {
    "duration": 12,
    "start_time": "2022-11-29T05:13:14.358Z"
   },
   {
    "duration": 7,
    "start_time": "2022-11-29T05:13:14.372Z"
   },
   {
    "duration": 6,
    "start_time": "2022-11-29T05:13:14.380Z"
   },
   {
    "duration": 10,
    "start_time": "2022-11-29T05:13:14.388Z"
   },
   {
    "duration": 11,
    "start_time": "2022-11-29T05:13:14.399Z"
   },
   {
    "duration": 23,
    "start_time": "2022-11-29T05:13:14.412Z"
   },
   {
    "duration": 7,
    "start_time": "2022-11-29T05:13:14.437Z"
   },
   {
    "duration": 7,
    "start_time": "2022-11-29T05:13:14.445Z"
   },
   {
    "duration": 374,
    "start_time": "2022-11-29T05:13:14.454Z"
   },
   {
    "duration": 27,
    "start_time": "2022-11-29T05:13:14.830Z"
   },
   {
    "duration": 5,
    "start_time": "2022-11-29T05:13:14.859Z"
   },
   {
    "duration": 8,
    "start_time": "2022-11-29T05:13:14.866Z"
   },
   {
    "duration": 14,
    "start_time": "2022-11-29T05:13:14.875Z"
   },
   {
    "duration": 8,
    "start_time": "2022-11-29T05:13:14.891Z"
   },
   {
    "duration": 10,
    "start_time": "2022-11-29T05:13:14.900Z"
   },
   {
    "duration": 29,
    "start_time": "2022-11-29T05:13:14.912Z"
   },
   {
    "duration": 27,
    "start_time": "2022-11-29T05:13:14.943Z"
   },
   {
    "duration": 11,
    "start_time": "2022-11-29T05:13:14.972Z"
   },
   {
    "duration": 13,
    "start_time": "2022-11-29T05:13:14.984Z"
   }
  ],
  "colab": {
   "provenance": [],
   "toc_visible": true
  },
  "kernelspec": {
   "display_name": "Python 3 (ipykernel)",
   "language": "python",
   "name": "python3"
  },
  "language_info": {
   "codemirror_mode": {
    "name": "ipython",
    "version": 3
   },
   "file_extension": ".py",
   "mimetype": "text/x-python",
   "name": "python",
   "nbconvert_exporter": "python",
   "pygments_lexer": "ipython3",
   "version": "3.9.13"
  },
  "toc": {
   "base_numbering": 1,
   "nav_menu": {
    "height": "370px",
    "width": "592px"
   },
   "number_sections": true,
   "sideBar": false,
   "skip_h1_title": false,
   "title_cell": "Table of Contents",
   "title_sidebar": "Contents",
   "toc_cell": false,
   "toc_position": {
    "height": "777px",
    "left": "33px",
    "top": "45.2222px",
    "width": "310.556px"
   },
   "toc_section_display": true,
   "toc_window_display": false
  }
 },
 "nbformat": 4,
 "nbformat_minor": 4
}
