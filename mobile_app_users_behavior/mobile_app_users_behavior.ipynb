{
 "cells": [
  {
   "cell_type": "markdown",
   "metadata": {
    "id": "55nzbyANzHVK"
   },
   "source": [
    "# Описание проекта"
   ]
  },
  {
   "cell_type": "markdown",
   "metadata": {
    "id": "OGMm5hN4Axf3"
   },
   "source": [
    "У нас данные стартапа, которые продает продукты питания.  \n",
    "\n",
    "Нужно разобраться, как ведут себя пользователи мобильного приложения, а именно:  \n",
    "> - сколько пользователей доходит до покупки, а сколько - остается на предыдущих шагах;  \n",
    "> - на каких именно шагах отваливаются пользователи.  \n",
    "\n",
    "Также мы проверим, как сказалось на поведение пользователей изменение шрифтов в приложении. Для этого проанализируем результаты A/A/B-теста. В нем 2 контрольные группы, с прежними шрифтами, и одна &#8212; с обновленными. "
   ]
  },
  {
   "cell_type": "markdown",
   "metadata": {
    "id": "jVDexqXR08JE"
   },
   "source": [
    "## Ход работы"
   ]
  },
  {
   "cell_type": "markdown",
   "metadata": {
    "id": "bkMOfpH41Dc3"
   },
   "source": [
    "В ходе работы мы:  \n",
    "1. **ознакомимся с данными**, подготовим их для анализа;  \n",
    "1. **изучим данные**:  \n",
    "  * сколько событий,  \n",
    "  * сколько пользователей,  \n",
    "  * за какой период у нас есть информация;  \n",
    "1. **изучим воронку событий**:  \n",
    "  * ознакомимся с событиями,  \n",
    "  * как часто они происходят,  \n",
    "  * как распределяются по пользователям, в каком порядке происходят;  \n",
    "  * также проверим, какая доля пользователей переходит с одного шага воронки на другой, и какая доля проходит от первого события до оплаты;  \n",
    "1. **проанализируем результаты эксперимента**:  \n",
    "  * сравним число пользователей по группам,  \n",
    "  * проверим, как соотносятся результаты теста по двум контрольным группам,  \n",
    "  * сравним, как распределяется по группам количество пользователей, совершивших то или иное событие, как по контрольным, так и по тестируемой группе. "
   ]
  },
  {
   "cell_type": "markdown",
   "metadata": {
    "id": "-wsyaG0t1I8n"
   },
   "source": [
    "## Описание данных\n"
   ]
  },
  {
   "cell_type": "markdown",
   "metadata": {
    "id": "Bsbq3-ib1PWY"
   },
   "source": [
    "У нас есть датасет с логами из мобильного приложения. "
   ]
  },
  {
   "cell_type": "markdown",
   "metadata": {
    "id": "BaeAMFctFd6w"
   },
   "source": [
    "`EventName` — название события;  \n",
    "`DeviceIDHash` — уникальный идентификатор пользователя;  \n",
    "`EventTimestamp` — время события;  \n",
    "`ExpId` — номер эксперимента: 246 и 247 — контрольные группы, а 248 — экспериментальная."
   ]
  },
  {
   "cell_type": "markdown",
   "metadata": {
    "id": "yAnsYXaTFlRM"
   },
   "source": [
    "# Ознакомление с данными"
   ]
  },
  {
   "cell_type": "code",
   "execution_count": 1,
   "metadata": {
    "id": "n31jaT28F1mL"
   },
   "outputs": [],
   "source": [
    "# импорт необходимых библиотек\n",
    "\n",
    "import pandas as pd\n",
    "import numpy as np\n",
    "import matplotlib.pyplot as plt\n",
    "import scipy.stats as st\n",
    "import math as mth\n",
    "from datetime import datetime as dt\n",
    "\n",
    "plt.style.use('seaborn-darkgrid')"
   ]
  },
  {
   "cell_type": "code",
   "execution_count": 2,
   "metadata": {
    "id": "hsSXdGk_G8A5"
   },
   "outputs": [],
   "source": [
    "logs = pd.read_csv('logs_exp.csv', sep='\\t')"
   ]
  },
  {
   "cell_type": "code",
   "execution_count": 3,
   "metadata": {
    "colab": {
     "base_uri": "https://localhost:8080/",
     "height": 363
    },
    "id": "pjTGueNWH3A5",
    "outputId": "01d689eb-9cdf-4d76-fdd3-f8eaa2f69122"
   },
   "outputs": [
    {
     "data": {
      "text/html": [
       "<div>\n",
       "<style scoped>\n",
       "    .dataframe tbody tr th:only-of-type {\n",
       "        vertical-align: middle;\n",
       "    }\n",
       "\n",
       "    .dataframe tbody tr th {\n",
       "        vertical-align: top;\n",
       "    }\n",
       "\n",
       "    .dataframe thead th {\n",
       "        text-align: right;\n",
       "    }\n",
       "</style>\n",
       "<table border=\"1\" class=\"dataframe\">\n",
       "  <thead>\n",
       "    <tr style=\"text-align: right;\">\n",
       "      <th></th>\n",
       "      <th>EventName</th>\n",
       "      <th>DeviceIDHash</th>\n",
       "      <th>EventTimestamp</th>\n",
       "      <th>ExpId</th>\n",
       "    </tr>\n",
       "  </thead>\n",
       "  <tbody>\n",
       "    <tr>\n",
       "      <th>0</th>\n",
       "      <td>MainScreenAppear</td>\n",
       "      <td>4575588528974610257</td>\n",
       "      <td>1564029816</td>\n",
       "      <td>246</td>\n",
       "    </tr>\n",
       "    <tr>\n",
       "      <th>1</th>\n",
       "      <td>MainScreenAppear</td>\n",
       "      <td>7416695313311560658</td>\n",
       "      <td>1564053102</td>\n",
       "      <td>246</td>\n",
       "    </tr>\n",
       "    <tr>\n",
       "      <th>2</th>\n",
       "      <td>PaymentScreenSuccessful</td>\n",
       "      <td>3518123091307005509</td>\n",
       "      <td>1564054127</td>\n",
       "      <td>248</td>\n",
       "    </tr>\n",
       "    <tr>\n",
       "      <th>3</th>\n",
       "      <td>CartScreenAppear</td>\n",
       "      <td>3518123091307005509</td>\n",
       "      <td>1564054127</td>\n",
       "      <td>248</td>\n",
       "    </tr>\n",
       "    <tr>\n",
       "      <th>4</th>\n",
       "      <td>PaymentScreenSuccessful</td>\n",
       "      <td>6217807653094995999</td>\n",
       "      <td>1564055322</td>\n",
       "      <td>248</td>\n",
       "    </tr>\n",
       "    <tr>\n",
       "      <th>5</th>\n",
       "      <td>CartScreenAppear</td>\n",
       "      <td>6217807653094995999</td>\n",
       "      <td>1564055323</td>\n",
       "      <td>248</td>\n",
       "    </tr>\n",
       "    <tr>\n",
       "      <th>6</th>\n",
       "      <td>OffersScreenAppear</td>\n",
       "      <td>8351860793733343758</td>\n",
       "      <td>1564066242</td>\n",
       "      <td>246</td>\n",
       "    </tr>\n",
       "    <tr>\n",
       "      <th>7</th>\n",
       "      <td>MainScreenAppear</td>\n",
       "      <td>5682100281902512875</td>\n",
       "      <td>1564085677</td>\n",
       "      <td>246</td>\n",
       "    </tr>\n",
       "    <tr>\n",
       "      <th>8</th>\n",
       "      <td>MainScreenAppear</td>\n",
       "      <td>1850981295691852772</td>\n",
       "      <td>1564086702</td>\n",
       "      <td>247</td>\n",
       "    </tr>\n",
       "    <tr>\n",
       "      <th>9</th>\n",
       "      <td>MainScreenAppear</td>\n",
       "      <td>5407636962369102641</td>\n",
       "      <td>1564112112</td>\n",
       "      <td>246</td>\n",
       "    </tr>\n",
       "  </tbody>\n",
       "</table>\n",
       "</div>"
      ],
      "text/plain": [
       "                 EventName         DeviceIDHash  EventTimestamp  ExpId\n",
       "0         MainScreenAppear  4575588528974610257      1564029816    246\n",
       "1         MainScreenAppear  7416695313311560658      1564053102    246\n",
       "2  PaymentScreenSuccessful  3518123091307005509      1564054127    248\n",
       "3         CartScreenAppear  3518123091307005509      1564054127    248\n",
       "4  PaymentScreenSuccessful  6217807653094995999      1564055322    248\n",
       "5         CartScreenAppear  6217807653094995999      1564055323    248\n",
       "6       OffersScreenAppear  8351860793733343758      1564066242    246\n",
       "7         MainScreenAppear  5682100281902512875      1564085677    246\n",
       "8         MainScreenAppear  1850981295691852772      1564086702    247\n",
       "9         MainScreenAppear  5407636962369102641      1564112112    246"
      ]
     },
     "execution_count": 3,
     "metadata": {},
     "output_type": "execute_result"
    }
   ],
   "source": [
    "logs.head(10)"
   ]
  },
  {
   "cell_type": "code",
   "execution_count": 4,
   "metadata": {
    "colab": {
     "base_uri": "https://localhost:8080/"
    },
    "id": "-dzAgG_jH41y",
    "outputId": "bf39e230-c98f-4ee7-d8a7-9ffef120a907"
   },
   "outputs": [
    {
     "name": "stdout",
     "output_type": "stream",
     "text": [
      "<class 'pandas.core.frame.DataFrame'>\n",
      "RangeIndex: 244126 entries, 0 to 244125\n",
      "Data columns (total 4 columns):\n",
      " #   Column          Non-Null Count   Dtype \n",
      "---  ------          --------------   ----- \n",
      " 0   EventName       244126 non-null  object\n",
      " 1   DeviceIDHash    244126 non-null  int64 \n",
      " 2   EventTimestamp  244126 non-null  int64 \n",
      " 3   ExpId           244126 non-null  int64 \n",
      "dtypes: int64(3), object(1)\n",
      "memory usage: 7.5+ MB\n"
     ]
    }
   ],
   "source": [
    "logs.info()"
   ]
  },
  {
   "cell_type": "markdown",
   "metadata": {
    "id": "H_HGyjGJITBB"
   },
   "source": [
    "Открыли файл, видим, что в нем нет пропусков, все строки заполнены.  \n",
    "\n",
    "В ходе предобработки нужно:  \n",
    "- переименовать столбцы в \"змеиный регистр\", так с ними будет удобнее работать (мне), также изменить сами названия некоторых столбцов;  \n",
    "- привести `EventTimestamp` к удобному для восприятия формату даты и времени, добавить новые столбцы;  \n",
    "- проверить данные на дубликаты.  "
   ]
  },
  {
   "cell_type": "markdown",
   "metadata": {
    "id": "V1_d3hqZJdLU"
   },
   "source": [
    "# Предобработка данных"
   ]
  },
  {
   "cell_type": "markdown",
   "metadata": {
    "id": "syXlWfsrKkGZ"
   },
   "source": [
    "## Переименование столбцов"
   ]
  },
  {
   "cell_type": "code",
   "execution_count": 5,
   "metadata": {
    "id": "wNeWFm5WKoPi"
   },
   "outputs": [],
   "source": [
    "logs.columns = ['event_name', 'user_id', 'event_timestamp', 'group']"
   ]
  },
  {
   "cell_type": "markdown",
   "metadata": {
    "id": "KR77kMc8K2AS"
   },
   "source": [
    "## Добавление новых столбцов с датой и временем"
   ]
  },
  {
   "cell_type": "code",
   "execution_count": 6,
   "metadata": {
    "id": "JBXNKCmVMaEt"
   },
   "outputs": [],
   "source": [
    "# переводим время из timestamp в привычный формат, \"дата + время\"\n",
    "\n",
    "logs[\"date_time\"] = pd.to_datetime(logs['event_timestamp'], unit=\"s\")"
   ]
  },
  {
   "cell_type": "code",
   "execution_count": 7,
   "metadata": {
    "colab": {
     "base_uri": "https://localhost:8080/"
    },
    "id": "ej1hodOUPtvB",
    "outputId": "e0ae5eca-d6dd-41a6-ac83-7c449aeb435a"
   },
   "outputs": [
    {
     "data": {
      "text/plain": [
       "0   2019-07-25 04:43:36\n",
       "1   2019-07-25 11:11:42\n",
       "2   2019-07-25 11:28:47\n",
       "3   2019-07-25 11:28:47\n",
       "4   2019-07-25 11:48:42\n",
       "Name: date_time, dtype: datetime64[ns]"
      ]
     },
     "execution_count": 7,
     "metadata": {},
     "output_type": "execute_result"
    }
   ],
   "source": [
    "logs[\"date_time\"].head()"
   ]
  },
  {
   "cell_type": "code",
   "execution_count": 8,
   "metadata": {
    "id": "tFogaaGZPy4A"
   },
   "outputs": [],
   "source": [
    "# добавим столбец только с датами, без времени\n",
    "\n",
    "logs[\"date\"] = logs[\"date_time\"].astype('datetime64[D]')"
   ]
  },
  {
   "cell_type": "code",
   "execution_count": 9,
   "metadata": {
    "colab": {
     "base_uri": "https://localhost:8080/"
    },
    "id": "SYnHkkOeQmEc",
    "outputId": "552c9c69-4420-45d1-df3b-7dcb359a17c1",
    "scrolled": true
   },
   "outputs": [
    {
     "data": {
      "text/plain": [
       "0   2019-07-25\n",
       "1   2019-07-25\n",
       "2   2019-07-25\n",
       "3   2019-07-25\n",
       "4   2019-07-25\n",
       "Name: date, dtype: datetime64[ns]"
      ]
     },
     "execution_count": 9,
     "metadata": {},
     "output_type": "execute_result"
    }
   ],
   "source": [
    "logs[\"date\"].head()"
   ]
  },
  {
   "cell_type": "markdown",
   "metadata": {
    "id": "R_RAuX4FRWt5"
   },
   "source": [
    "## Проверка на дубликаты"
   ]
  },
  {
   "cell_type": "code",
   "execution_count": 10,
   "metadata": {
    "colab": {
     "base_uri": "https://localhost:8080/",
     "height": 363
    },
    "id": "vdSNEHPAXBV-",
    "outputId": "2fcfcdf6-5f0e-4940-bf1d-9f733df73009"
   },
   "outputs": [
    {
     "data": {
      "text/html": [
       "<div>\n",
       "<style scoped>\n",
       "    .dataframe tbody tr th:only-of-type {\n",
       "        vertical-align: middle;\n",
       "    }\n",
       "\n",
       "    .dataframe tbody tr th {\n",
       "        vertical-align: top;\n",
       "    }\n",
       "\n",
       "    .dataframe thead th {\n",
       "        text-align: right;\n",
       "    }\n",
       "</style>\n",
       "<table border=\"1\" class=\"dataframe\">\n",
       "  <thead>\n",
       "    <tr style=\"text-align: right;\">\n",
       "      <th></th>\n",
       "      <th>event_name</th>\n",
       "      <th>user_id</th>\n",
       "      <th>event_timestamp</th>\n",
       "      <th>group</th>\n",
       "      <th>date_time</th>\n",
       "      <th>date</th>\n",
       "    </tr>\n",
       "  </thead>\n",
       "  <tbody>\n",
       "    <tr>\n",
       "      <th>0</th>\n",
       "      <td>MainScreenAppear</td>\n",
       "      <td>4575588528974610257</td>\n",
       "      <td>1564029816</td>\n",
       "      <td>246</td>\n",
       "      <td>2019-07-25 04:43:36</td>\n",
       "      <td>2019-07-25</td>\n",
       "    </tr>\n",
       "    <tr>\n",
       "      <th>1</th>\n",
       "      <td>MainScreenAppear</td>\n",
       "      <td>7416695313311560658</td>\n",
       "      <td>1564053102</td>\n",
       "      <td>246</td>\n",
       "      <td>2019-07-25 11:11:42</td>\n",
       "      <td>2019-07-25</td>\n",
       "    </tr>\n",
       "    <tr>\n",
       "      <th>2</th>\n",
       "      <td>PaymentScreenSuccessful</td>\n",
       "      <td>3518123091307005509</td>\n",
       "      <td>1564054127</td>\n",
       "      <td>248</td>\n",
       "      <td>2019-07-25 11:28:47</td>\n",
       "      <td>2019-07-25</td>\n",
       "    </tr>\n",
       "    <tr>\n",
       "      <th>3</th>\n",
       "      <td>CartScreenAppear</td>\n",
       "      <td>3518123091307005509</td>\n",
       "      <td>1564054127</td>\n",
       "      <td>248</td>\n",
       "      <td>2019-07-25 11:28:47</td>\n",
       "      <td>2019-07-25</td>\n",
       "    </tr>\n",
       "    <tr>\n",
       "      <th>4</th>\n",
       "      <td>PaymentScreenSuccessful</td>\n",
       "      <td>6217807653094995999</td>\n",
       "      <td>1564055322</td>\n",
       "      <td>248</td>\n",
       "      <td>2019-07-25 11:48:42</td>\n",
       "      <td>2019-07-25</td>\n",
       "    </tr>\n",
       "    <tr>\n",
       "      <th>5</th>\n",
       "      <td>CartScreenAppear</td>\n",
       "      <td>6217807653094995999</td>\n",
       "      <td>1564055323</td>\n",
       "      <td>248</td>\n",
       "      <td>2019-07-25 11:48:43</td>\n",
       "      <td>2019-07-25</td>\n",
       "    </tr>\n",
       "    <tr>\n",
       "      <th>6</th>\n",
       "      <td>OffersScreenAppear</td>\n",
       "      <td>8351860793733343758</td>\n",
       "      <td>1564066242</td>\n",
       "      <td>246</td>\n",
       "      <td>2019-07-25 14:50:42</td>\n",
       "      <td>2019-07-25</td>\n",
       "    </tr>\n",
       "    <tr>\n",
       "      <th>7</th>\n",
       "      <td>MainScreenAppear</td>\n",
       "      <td>5682100281902512875</td>\n",
       "      <td>1564085677</td>\n",
       "      <td>246</td>\n",
       "      <td>2019-07-25 20:14:37</td>\n",
       "      <td>2019-07-25</td>\n",
       "    </tr>\n",
       "    <tr>\n",
       "      <th>8</th>\n",
       "      <td>MainScreenAppear</td>\n",
       "      <td>1850981295691852772</td>\n",
       "      <td>1564086702</td>\n",
       "      <td>247</td>\n",
       "      <td>2019-07-25 20:31:42</td>\n",
       "      <td>2019-07-25</td>\n",
       "    </tr>\n",
       "    <tr>\n",
       "      <th>9</th>\n",
       "      <td>MainScreenAppear</td>\n",
       "      <td>5407636962369102641</td>\n",
       "      <td>1564112112</td>\n",
       "      <td>246</td>\n",
       "      <td>2019-07-26 03:35:12</td>\n",
       "      <td>2019-07-26</td>\n",
       "    </tr>\n",
       "  </tbody>\n",
       "</table>\n",
       "</div>"
      ],
      "text/plain": [
       "                event_name              user_id  event_timestamp  group  \\\n",
       "0         MainScreenAppear  4575588528974610257       1564029816    246   \n",
       "1         MainScreenAppear  7416695313311560658       1564053102    246   \n",
       "2  PaymentScreenSuccessful  3518123091307005509       1564054127    248   \n",
       "3         CartScreenAppear  3518123091307005509       1564054127    248   \n",
       "4  PaymentScreenSuccessful  6217807653094995999       1564055322    248   \n",
       "5         CartScreenAppear  6217807653094995999       1564055323    248   \n",
       "6       OffersScreenAppear  8351860793733343758       1564066242    246   \n",
       "7         MainScreenAppear  5682100281902512875       1564085677    246   \n",
       "8         MainScreenAppear  1850981295691852772       1564086702    247   \n",
       "9         MainScreenAppear  5407636962369102641       1564112112    246   \n",
       "\n",
       "            date_time       date  \n",
       "0 2019-07-25 04:43:36 2019-07-25  \n",
       "1 2019-07-25 11:11:42 2019-07-25  \n",
       "2 2019-07-25 11:28:47 2019-07-25  \n",
       "3 2019-07-25 11:28:47 2019-07-25  \n",
       "4 2019-07-25 11:48:42 2019-07-25  \n",
       "5 2019-07-25 11:48:43 2019-07-25  \n",
       "6 2019-07-25 14:50:42 2019-07-25  \n",
       "7 2019-07-25 20:14:37 2019-07-25  \n",
       "8 2019-07-25 20:31:42 2019-07-25  \n",
       "9 2019-07-26 03:35:12 2019-07-26  "
      ]
     },
     "execution_count": 10,
     "metadata": {},
     "output_type": "execute_result"
    }
   ],
   "source": [
    "logs.head(10)"
   ]
  },
  {
   "cell_type": "code",
   "execution_count": 11,
   "metadata": {
    "colab": {
     "base_uri": "https://localhost:8080/"
    },
    "id": "iOeoY0yrTXE9",
    "outputId": "d9652670-350e-4abf-a68e-0541ea5787e8"
   },
   "outputs": [
    {
     "data": {
      "text/plain": [
       "413"
      ]
     },
     "execution_count": 11,
     "metadata": {},
     "output_type": "execute_result"
    }
   ],
   "source": [
    "logs.duplicated().sum()"
   ]
  },
  {
   "cell_type": "code",
   "execution_count": 12,
   "metadata": {
    "colab": {
     "base_uri": "https://localhost:8080/"
    },
    "id": "i_0ErqqmXd1w",
    "outputId": "41653c21-2775-45a2-97b0-a48b69e949c6"
   },
   "outputs": [
    {
     "data": {
      "text/plain": [
       "'0.2%'"
      ]
     },
     "execution_count": 12,
     "metadata": {},
     "output_type": "execute_result"
    }
   ],
   "source": [
    "'{:.1%}'.format(logs.duplicated().sum()/logs.date.count())"
   ]
  },
  {
   "cell_type": "markdown",
   "metadata": {
    "id": "81hYvCvJW2Fl"
   },
   "source": [
    "В данных есть 413 полных дубликатов. Всего в датасете 244 тысячи строк, то есть дубликатов менее 1%. Удалим их и продолжим анализ. "
   ]
  },
  {
   "cell_type": "code",
   "execution_count": 13,
   "metadata": {
    "id": "wXBi21rkW6eQ"
   },
   "outputs": [],
   "source": [
    "logs = logs.drop_duplicates()"
   ]
  },
  {
   "cell_type": "markdown",
   "metadata": {},
   "source": [
    "## Проверка на пропуски в данных"
   ]
  },
  {
   "cell_type": "code",
   "execution_count": 14,
   "metadata": {},
   "outputs": [
    {
     "data": {
      "text/plain": [
       "event_name         0\n",
       "user_id            0\n",
       "event_timestamp    0\n",
       "group              0\n",
       "date_time          0\n",
       "date               0\n",
       "dtype: int64"
      ]
     },
     "execution_count": 14,
     "metadata": {},
     "output_type": "execute_result"
    }
   ],
   "source": [
    "logs.isna().sum()"
   ]
  },
  {
   "cell_type": "markdown",
   "metadata": {},
   "source": [
    "Для надежности провели явную проверку на пропуски в данных. Ни в одном столбце пропущенных значений нет. "
   ]
  },
  {
   "cell_type": "markdown",
   "metadata": {
    "id": "MQupAfocXzq4"
   },
   "source": [
    "Первоначальная подготовка данных выполнена, можно двигаться дальше. "
   ]
  },
  {
   "cell_type": "markdown",
   "metadata": {
    "id": "Q4mrh3g7YFSy"
   },
   "source": [
    "# Исследование данных"
   ]
  },
  {
   "cell_type": "code",
   "execution_count": 15,
   "metadata": {
    "colab": {
     "base_uri": "https://localhost:8080/"
    },
    "id": "Pak1WPNiYQhr",
    "outputId": "aba15e8c-bbcf-4a72-d968-c8b14cafbe92"
   },
   "outputs": [
    {
     "name": "stdout",
     "output_type": "stream",
     "text": [
      "<class 'pandas.core.frame.DataFrame'>\n",
      "Int64Index: 243713 entries, 0 to 244125\n",
      "Data columns (total 6 columns):\n",
      " #   Column           Non-Null Count   Dtype         \n",
      "---  ------           --------------   -----         \n",
      " 0   event_name       243713 non-null  object        \n",
      " 1   user_id          243713 non-null  int64         \n",
      " 2   event_timestamp  243713 non-null  int64         \n",
      " 3   group            243713 non-null  int64         \n",
      " 4   date_time        243713 non-null  datetime64[ns]\n",
      " 5   date             243713 non-null  datetime64[ns]\n",
      "dtypes: datetime64[ns](2), int64(3), object(1)\n",
      "memory usage: 13.0+ MB\n"
     ]
    }
   ],
   "source": [
    "logs.info()"
   ]
  },
  {
   "cell_type": "markdown",
   "metadata": {
    "id": "3p-r-PXbYak_"
   },
   "source": [
    "В наших данных осталось 243.713 строк. "
   ]
  },
  {
   "cell_type": "markdown",
   "metadata": {
    "id": "qeMV5KmiZIyl"
   },
   "source": [
    "Проверим, сколько у нас уникальных пользователей и сколько в среднем событий приходится на каждого пользователя."
   ]
  },
  {
   "cell_type": "code",
   "execution_count": 16,
   "metadata": {
    "colab": {
     "base_uri": "https://localhost:8080/"
    },
    "id": "dxiemZ6-ZUSm",
    "outputId": "51b2bf79-1181-40e5-84ef-6f2b7e823221"
   },
   "outputs": [
    {
     "data": {
      "text/plain": [
       "7551"
      ]
     },
     "execution_count": 16,
     "metadata": {},
     "output_type": "execute_result"
    }
   ],
   "source": [
    "# количество пользователей\n",
    "\n",
    "logs.user_id.nunique()"
   ]
  },
  {
   "cell_type": "markdown",
   "metadata": {},
   "source": [
    "Проверим распределение количества событий по пользователям.  \n",
    "\n",
    "Посчитаем среднее, медианное количество событий на пользователя, максимальное и минимальное.  \n",
    "\n",
    "Это позволим нам выяснить, есть ли в наших данных аномалии, а также даст понять, как распределяется количество событий на пользователя, нормально или со смещением. "
   ]
  },
  {
   "cell_type": "markdown",
   "metadata": {},
   "source": [
    "Для проверки сгруппируем данные по пользователям, найдем общее количество значений по ним, и уже из этой таблицы вычислим нужные нам значения. "
   ]
  },
  {
   "cell_type": "code",
   "execution_count": 17,
   "metadata": {},
   "outputs": [],
   "source": [
    "events_by_users = (\n",
    "    logs.groupby('user_id', as_index=False)\n",
    "    .agg(number_events=('event_name', 'count'))\n",
    ")"
   ]
  },
  {
   "cell_type": "code",
   "execution_count": 18,
   "metadata": {},
   "outputs": [
    {
     "data": {
      "text/html": [
       "<div>\n",
       "<style scoped>\n",
       "    .dataframe tbody tr th:only-of-type {\n",
       "        vertical-align: middle;\n",
       "    }\n",
       "\n",
       "    .dataframe tbody tr th {\n",
       "        vertical-align: top;\n",
       "    }\n",
       "\n",
       "    .dataframe thead th {\n",
       "        text-align: right;\n",
       "    }\n",
       "</style>\n",
       "<table border=\"1\" class=\"dataframe\">\n",
       "  <thead>\n",
       "    <tr style=\"text-align: right;\">\n",
       "      <th></th>\n",
       "      <th>user_id</th>\n",
       "      <th>number_events</th>\n",
       "    </tr>\n",
       "  </thead>\n",
       "  <tbody>\n",
       "    <tr>\n",
       "      <th>0</th>\n",
       "      <td>6888746892508752</td>\n",
       "      <td>1</td>\n",
       "    </tr>\n",
       "    <tr>\n",
       "      <th>1</th>\n",
       "      <td>6909561520679493</td>\n",
       "      <td>5</td>\n",
       "    </tr>\n",
       "    <tr>\n",
       "      <th>2</th>\n",
       "      <td>6922444491712477</td>\n",
       "      <td>47</td>\n",
       "    </tr>\n",
       "    <tr>\n",
       "      <th>3</th>\n",
       "      <td>7435777799948366</td>\n",
       "      <td>6</td>\n",
       "    </tr>\n",
       "    <tr>\n",
       "      <th>4</th>\n",
       "      <td>7702139951469979</td>\n",
       "      <td>137</td>\n",
       "    </tr>\n",
       "  </tbody>\n",
       "</table>\n",
       "</div>"
      ],
      "text/plain": [
       "            user_id  number_events\n",
       "0  6888746892508752              1\n",
       "1  6909561520679493              5\n",
       "2  6922444491712477             47\n",
       "3  7435777799948366              6\n",
       "4  7702139951469979            137"
      ]
     },
     "execution_count": 18,
     "metadata": {},
     "output_type": "execute_result"
    }
   ],
   "source": [
    "events_by_users.head()"
   ]
  },
  {
   "cell_type": "code",
   "execution_count": 19,
   "metadata": {},
   "outputs": [
    {
     "name": "stdout",
     "output_type": "stream",
     "text": [
      "Среденее количество событий  32.27559263673685\n",
      "Медианное количество событий  20.0\n",
      "Максимально количество событий  2307\n",
      "Минимальное количество событий  1\n"
     ]
    }
   ],
   "source": [
    "# Среденее количество событий\n",
    "print('Среденее количество событий ', events_by_users['number_events'].mean())\n",
    "\n",
    "# Медианное количество событий\n",
    "print('Медианное количество событий ', events_by_users['number_events'].median())\n",
    "\n",
    "# Максимально количество событий\n",
    "print('Максимально количество событий ', events_by_users['number_events'].max())\n",
    "\n",
    "# Минимальное количество событий\n",
    "print('Минимальное количество событий ', events_by_users['number_events'].min())\n"
   ]
  },
  {
   "cell_type": "markdown",
   "metadata": {},
   "source": [
    "Видим, что среднее и медианное количество пользователей отличаются на 12 событий, распределени смещенное. Также у нас очень большой разброс пользователей по минимальному и максимальному количеству событий. "
   ]
  },
  {
   "cell_type": "markdown",
   "metadata": {
    "id": "dBcJxd-wbY88"
   },
   "source": [
    "Также проверим, за данными за какой период мы располагаем. "
   ]
  },
  {
   "cell_type": "code",
   "execution_count": 20,
   "metadata": {
    "colab": {
     "base_uri": "https://localhost:8080/"
    },
    "id": "-OLL23Cibl-i",
    "outputId": "6fceb57b-af56-4a54-cb1c-c05432a15522"
   },
   "outputs": [
    {
     "data": {
      "text/plain": [
       "Timestamp('2019-07-25 00:00:00')"
      ]
     },
     "execution_count": 20,
     "metadata": {},
     "output_type": "execute_result"
    }
   ],
   "source": [
    "logs.date.min()"
   ]
  },
  {
   "cell_type": "code",
   "execution_count": 21,
   "metadata": {
    "colab": {
     "base_uri": "https://localhost:8080/"
    },
    "id": "Em_ZcznObqI_",
    "outputId": "01ed34e0-f9e8-4371-d93a-71cb21f1fe04"
   },
   "outputs": [
    {
     "data": {
      "text/plain": [
       "Timestamp('2019-08-07 00:00:00')"
      ]
     },
     "execution_count": 21,
     "metadata": {},
     "output_type": "execute_result"
    }
   ],
   "source": [
    "logs.date.max()"
   ]
  },
  {
   "cell_type": "code",
   "execution_count": 22,
   "metadata": {
    "colab": {
     "base_uri": "https://localhost:8080/",
     "height": 327
    },
    "id": "Fnk4AH-Tbs8z",
    "outputId": "929aced4-1077-4b16-d40d-96f6c7afcc2c"
   },
   "outputs": [
    {
     "data": {
      "image/png": "[encoded data removed]",
      "text/plain": [
       "<Figure size 1500x500 with 1 Axes>"
      ]
     },
     "metadata": {},
     "output_type": "display_data"
    }
   ],
   "source": [
    "plt.figure(figsize=(15, 5))\n",
    "logs.date.hist(bins=14)\n",
    "plt.xlabel('Дата', fontsize = 12)\n",
    "plt.ylabel('Количество событий', fontsize = 12)\n",
    "plt.title('Количество событий по дням', fontsize=16);"
   ]
  },
  {
   "cell_type": "markdown",
   "metadata": {
    "id": "zdlg3J8ibwsw"
   },
   "source": [
    "Данные у нас с 25 июля по 7 августа, но основной массив информации, судя по графику, с 1 по 7 августа.  \n",
    "\n",
    "Также с 1 по 8 августа количество событий примерно равное, в пределах 30-35 тысяч. В период 25-31 июля событий существенно меньше.  \n",
    "\n",
    "Для более объективного анализа есть смысл отбросить данные за июль, и оставить только события августа. "
   ]
  },
  {
   "cell_type": "code",
   "execution_count": 23,
   "metadata": {
    "id": "8XYr5TGqcUKM"
   },
   "outputs": [],
   "source": [
    "logs_filtered = logs[logs['date']>'2019-07-31']"
   ]
  },
  {
   "cell_type": "code",
   "execution_count": 24,
   "metadata": {
    "colab": {
     "base_uri": "https://localhost:8080/"
    },
    "id": "w1bUvUjEefdk",
    "outputId": "73d4f3d6-098c-4a26-8930-a51138f3503d"
   },
   "outputs": [
    {
     "name": "stdout",
     "output_type": "stream",
     "text": [
      "<class 'pandas.core.frame.DataFrame'>\n",
      "Int64Index: 240887 entries, 2828 to 244125\n",
      "Data columns (total 6 columns):\n",
      " #   Column           Non-Null Count   Dtype         \n",
      "---  ------           --------------   -----         \n",
      " 0   event_name       240887 non-null  object        \n",
      " 1   user_id          240887 non-null  int64         \n",
      " 2   event_timestamp  240887 non-null  int64         \n",
      " 3   group            240887 non-null  int64         \n",
      " 4   date_time        240887 non-null  datetime64[ns]\n",
      " 5   date             240887 non-null  datetime64[ns]\n",
      "dtypes: datetime64[ns](2), int64(3), object(1)\n",
      "memory usage: 12.9+ MB\n"
     ]
    }
   ],
   "source": [
    "logs_filtered.info()"
   ]
  },
  {
   "cell_type": "code",
   "execution_count": 25,
   "metadata": {
    "colab": {
     "base_uri": "https://localhost:8080/"
    },
    "id": "fxVbXXl5ekk2",
    "outputId": "d8011ba4-0a61-4a64-cb16-d90ed3479a5a"
   },
   "outputs": [
    {
     "data": {
      "text/plain": [
       "'-1.2%'"
      ]
     },
     "execution_count": 25,
     "metadata": {},
     "output_type": "execute_result"
    }
   ],
   "source": [
    "# доля потерянных строк в таблице\n",
    "\n",
    "'{:.1%}'.format(len(logs_filtered.date)/len(logs.date) - 1)"
   ]
  },
  {
   "cell_type": "code",
   "execution_count": 26,
   "metadata": {},
   "outputs": [
    {
     "data": {
      "text/plain": [
       "2826"
      ]
     },
     "execution_count": 26,
     "metadata": {},
     "output_type": "execute_result"
    }
   ],
   "source": [
    "# количество удаленных строк\n",
    "\n",
    "len(logs.date) - len(logs_filtered.date)"
   ]
  },
  {
   "cell_type": "code",
   "execution_count": 27,
   "metadata": {
    "colab": {
     "base_uri": "https://localhost:8080/",
     "height": 36
    },
    "id": "nI1UNhRyf8kH",
    "outputId": "dc336602-cda2-4695-a4cb-40afa2bb33d3",
    "scrolled": true
   },
   "outputs": [
    {
     "data": {
      "text/plain": [
       "'-0.2%'"
      ]
     },
     "execution_count": 27,
     "metadata": {},
     "output_type": "execute_result"
    }
   ],
   "source": [
    "# доля потерянных уникальных пользователей\n",
    "\n",
    "'{:.1%}'.format(logs_filtered.user_id.nunique()/logs.user_id.nunique() - 1)"
   ]
  },
  {
   "cell_type": "code",
   "execution_count": 28,
   "metadata": {},
   "outputs": [
    {
     "data": {
      "text/plain": [
       "17"
      ]
     },
     "execution_count": 28,
     "metadata": {},
     "output_type": "execute_result"
    }
   ],
   "source": [
    "# количество удаленных пользователей\n",
    "\n",
    "logs.user_id.nunique() - logs_filtered.user_id.nunique()"
   ]
  },
  {
   "cell_type": "markdown",
   "metadata": {
    "id": "i_7oZpYFe5N_"
   },
   "source": [
    "Отфильтровав даты с наименьшим количеством событий мы потеряли 1,2% всех данных, 2826 строк, и только 0,2% пользователей, 17 человек. "
   ]
  },
  {
   "cell_type": "code",
   "execution_count": 29,
   "metadata": {
    "colab": {
     "base_uri": "https://localhost:8080/",
     "height": 327
    },
    "id": "I_rNQ8GlfTZt",
    "outputId": "e387e894-297f-40cf-a5ce-4d3521123442"
   },
   "outputs": [
    {
     "data": {
      "image/png": "[encoded data removed]",
      "text/plain": [
       "<Figure size 1500x500 with 1 Axes>"
      ]
     },
     "metadata": {},
     "output_type": "display_data"
    }
   ],
   "source": [
    "plt.figure(figsize=(15,5))\n",
    "logs_filtered.date.hist(bins=7)\n",
    "plt.xlabel('Дата', fontsize = 12)\n",
    "plt.ylabel('Количество событий', fontsize = 12)\n",
    "plt.title('Количество событий по дням', fontsize=16);"
   ]
  },
  {
   "cell_type": "markdown",
   "metadata": {
    "id": "JtxoTRuBff6h"
   },
   "source": [
    "Теперь распределение событий по датам ровное. "
   ]
  },
  {
   "cell_type": "markdown",
   "metadata": {
    "id": "eH2kNpTNfqqF"
   },
   "source": [
    "Для дальнейшего анализа убедимся, что у нас есть пользователи всех тестируемых групп. Проверим как их наличие, так и распределение по количеству пользователей. "
   ]
  },
  {
   "cell_type": "code",
   "execution_count": 30,
   "metadata": {
    "colab": {
     "base_uri": "https://localhost:8080/"
    },
    "id": "ZlANiWWZgjj0",
    "outputId": "1ac7a311-43b1-44c5-f12a-ffc5363cf2e6"
   },
   "outputs": [
    {
     "data": {
      "text/plain": [
       "array([246, 247, 248], dtype=int64)"
      ]
     },
     "execution_count": 30,
     "metadata": {},
     "output_type": "execute_result"
    }
   ],
   "source": [
    "logs_filtered.group.unique()"
   ]
  },
  {
   "cell_type": "markdown",
   "metadata": {
    "id": "qZ7KqBq_golt"
   },
   "source": [
    "Пользователи всех групп есть в данных. "
   ]
  },
  {
   "cell_type": "code",
   "execution_count": 31,
   "metadata": {},
   "outputs": [],
   "source": [
    "# делаем выборки пар (id клиента - группа)\n",
    "\n",
    "users_a = logs_filtered[logs_filtered['group']==246][['user_id', 'group']].drop_duplicates()"
   ]
  },
  {
   "cell_type": "code",
   "execution_count": 32,
   "metadata": {},
   "outputs": [],
   "source": [
    "users_a2 = logs_filtered[logs_filtered['group']==247][['user_id', 'group']].drop_duplicates()"
   ]
  },
  {
   "cell_type": "code",
   "execution_count": 33,
   "metadata": {},
   "outputs": [],
   "source": [
    "users_b = logs_filtered[logs_filtered['group']==248][['user_id', 'group']].drop_duplicates()"
   ]
  },
  {
   "cell_type": "code",
   "execution_count": 34,
   "metadata": {},
   "outputs": [
    {
     "name": "stdout",
     "output_type": "stream",
     "text": [
      "user_id    2484\n",
      "group      2484\n",
      "dtype: int64\n",
      "\n",
      "user_id    2513\n",
      "group      2513\n",
      "dtype: int64\n",
      "\n"
     ]
    },
    {
     "data": {
      "text/plain": [
       "user_id    2537\n",
       "group      2537\n",
       "dtype: int64"
      ]
     },
     "execution_count": 34,
     "metadata": {},
     "output_type": "execute_result"
    }
   ],
   "source": [
    "print(users_a.count())\n",
    "print('')\n",
    "print(users_a2.count())\n",
    "print('')\n",
    "users_b.count()"
   ]
  },
  {
   "cell_type": "markdown",
   "metadata": {},
   "source": [
    "Количетво пользователей по группам также распределено равномерно. "
   ]
  },
  {
   "cell_type": "markdown",
   "metadata": {
    "id": "7ileNy7UgtI5"
   },
   "source": [
    "# Воронка событий"
   ]
  },
  {
   "cell_type": "markdown",
   "metadata": {
    "id": "_WUsTKClhJBM"
   },
   "source": [
    "Ознакомимся с самими событиями, которые присутствуют в нашей таблице. "
   ]
  },
  {
   "cell_type": "code",
   "execution_count": 35,
   "metadata": {
    "colab": {
     "base_uri": "https://localhost:8080/"
    },
    "id": "D12mZOKRhPJX",
    "outputId": "4a725ef8-a36e-4c8e-9b7a-291d11ffd98d"
   },
   "outputs": [
    {
     "data": {
      "text/plain": [
       "MainScreenAppear           117328\n",
       "OffersScreenAppear          46333\n",
       "CartScreenAppear            42303\n",
       "PaymentScreenSuccessful     33918\n",
       "Tutorial                     1005\n",
       "Name: event_name, dtype: int64"
      ]
     },
     "execution_count": 35,
     "metadata": {},
     "output_type": "execute_result"
    }
   ],
   "source": [
    "# список событий и частота их появления\n",
    "\n",
    "logs_filtered.event_name.value_counts(ascending=False)"
   ]
  },
  {
   "cell_type": "markdown",
   "metadata": {
    "id": "6pb-P9EbhVSC"
   },
   "source": [
    "Имеем _Обучение_, _Показ начальной страницы_, _Показ страницы с предложением_, _Показ корзины_, _Страница об успешно совершенном платеже_.  \n",
    "\n",
    "Наиболее часто происходит показ главного экрана, что логично, так как это случается как минимум при каждом заходе в приложение.  \n",
    "\n",
    "Самое непопулярное событие &#8212; обучение. Это можно связать с тем, что само по себе обучение &#8212; разовая процедура, и часть пользователей может его пропускать. "
   ]
  },
  {
   "cell_type": "markdown",
   "metadata": {
    "id": "fmz0WHmUj6De"
   },
   "source": [
    "Также проверим, как много пользователей совершают то или иное событие.  \n",
    "\n",
    "Сгруппируем наши данные по событиям и посчитаем:  \n",
    "- число пользователей, которые их вызывали;\n",
    "- долю этих пользователей от всех."
   ]
  },
  {
   "cell_type": "code",
   "execution_count": 36,
   "metadata": {
    "id": "nCLw1sydktoN"
   },
   "outputs": [],
   "source": [
    "events_by_users = (logs.groupby('event_name', as_index=False)\n",
    "  .agg(users_count = ('user_id','nunique'))\n",
    "  .sort_values('users_count')\n",
    "  .reset_index(drop=True)\n",
    ")"
   ]
  },
  {
   "cell_type": "code",
   "execution_count": 37,
   "metadata": {
    "id": "eRxSY5qFlM-Y"
   },
   "outputs": [],
   "source": [
    "events_by_users['users_ratio'] = (\n",
    "    events_by_users['users_count']/logs_filtered['user_id'].nunique()\n",
    "    ).round(2)"
   ]
  },
  {
   "cell_type": "code",
   "execution_count": 38,
   "metadata": {
    "colab": {
     "base_uri": "https://localhost:8080/",
     "height": 206
    },
    "id": "QPzj8gqVlvzV",
    "outputId": "7506fb2b-824b-450e-e34e-594500116fe1"
   },
   "outputs": [
    {
     "data": {
      "text/html": [
       "<div>\n",
       "<style scoped>\n",
       "    .dataframe tbody tr th:only-of-type {\n",
       "        vertical-align: middle;\n",
       "    }\n",
       "\n",
       "    .dataframe tbody tr th {\n",
       "        vertical-align: top;\n",
       "    }\n",
       "\n",
       "    .dataframe thead th {\n",
       "        text-align: right;\n",
       "    }\n",
       "</style>\n",
       "<table border=\"1\" class=\"dataframe\">\n",
       "  <thead>\n",
       "    <tr style=\"text-align: right;\">\n",
       "      <th></th>\n",
       "      <th>event_name</th>\n",
       "      <th>users_count</th>\n",
       "      <th>users_ratio</th>\n",
       "    </tr>\n",
       "  </thead>\n",
       "  <tbody>\n",
       "    <tr>\n",
       "      <th>0</th>\n",
       "      <td>Tutorial</td>\n",
       "      <td>847</td>\n",
       "      <td>0.11</td>\n",
       "    </tr>\n",
       "    <tr>\n",
       "      <th>1</th>\n",
       "      <td>PaymentScreenSuccessful</td>\n",
       "      <td>3547</td>\n",
       "      <td>0.47</td>\n",
       "    </tr>\n",
       "    <tr>\n",
       "      <th>2</th>\n",
       "      <td>CartScreenAppear</td>\n",
       "      <td>3749</td>\n",
       "      <td>0.50</td>\n",
       "    </tr>\n",
       "    <tr>\n",
       "      <th>3</th>\n",
       "      <td>OffersScreenAppear</td>\n",
       "      <td>4613</td>\n",
       "      <td>0.61</td>\n",
       "    </tr>\n",
       "    <tr>\n",
       "      <th>4</th>\n",
       "      <td>MainScreenAppear</td>\n",
       "      <td>7439</td>\n",
       "      <td>0.99</td>\n",
       "    </tr>\n",
       "  </tbody>\n",
       "</table>\n",
       "</div>"
      ],
      "text/plain": [
       "                event_name  users_count  users_ratio\n",
       "0                 Tutorial          847         0.11\n",
       "1  PaymentScreenSuccessful         3547         0.47\n",
       "2         CartScreenAppear         3749         0.50\n",
       "3       OffersScreenAppear         4613         0.61\n",
       "4         MainScreenAppear         7439         0.99"
      ]
     },
     "execution_count": 38,
     "metadata": {},
     "output_type": "execute_result"
    }
   ],
   "source": [
    "events_by_users"
   ]
  },
  {
   "cell_type": "markdown",
   "metadata": {
    "id": "JWsY2w7Al2DR"
   },
   "source": [
    "Видим, что на главный экран смотрят почти 99% пользователей.  \n",
    "\n",
    "Цепочка событий скорее всего выстраивается так:  \n",
    "MainScreenAppear > OffersScreenAppear > CartScreenAppear > PaymentScreenSuccessful"
   ]
  },
  {
   "cell_type": "markdown",
   "metadata": {
    "id": "2hZjyhSL7sfy"
   },
   "source": [
    "Обучение, чисто логически, идет самым первым шагом при первом запуске приложения, после чего больше не появляется.  \n",
    "\n",
    "Рассматривать его в рамках этой воронки не будем. Из таблицы тоже уберем. "
   ]
  },
  {
   "cell_type": "code",
   "execution_count": 39,
   "metadata": {
    "id": "CHD_nS7898UW"
   },
   "outputs": [],
   "source": [
    "events_by_users = events_by_users.drop([0], axis=0)"
   ]
  },
  {
   "cell_type": "markdown",
   "metadata": {
    "id": "SMzHr7i979rc"
   },
   "source": [
    "Проверим, какая доля пользователей переходят с одного события к другому, и на каких этапах у нас наибольший отток. "
   ]
  },
  {
   "cell_type": "code",
   "execution_count": 40,
   "metadata": {
    "id": "5euk6FDG8LHh"
   },
   "outputs": [],
   "source": [
    "events_by_users['churn_rate'] = (events_by_users['users_count']/events_by_users['users_count'].shift(-1)).round(2)"
   ]
  },
  {
   "cell_type": "code",
   "execution_count": 41,
   "metadata": {},
   "outputs": [
    {
     "data": {
      "text/html": [
       "<div>\n",
       "<style scoped>\n",
       "    .dataframe tbody tr th:only-of-type {\n",
       "        vertical-align: middle;\n",
       "    }\n",
       "\n",
       "    .dataframe tbody tr th {\n",
       "        vertical-align: top;\n",
       "    }\n",
       "\n",
       "    .dataframe thead th {\n",
       "        text-align: right;\n",
       "    }\n",
       "</style>\n",
       "<table border=\"1\" class=\"dataframe\">\n",
       "  <thead>\n",
       "    <tr style=\"text-align: right;\">\n",
       "      <th></th>\n",
       "      <th>event_name</th>\n",
       "      <th>users_count</th>\n",
       "      <th>users_ratio</th>\n",
       "      <th>churn_rate</th>\n",
       "    </tr>\n",
       "  </thead>\n",
       "  <tbody>\n",
       "    <tr>\n",
       "      <th>1</th>\n",
       "      <td>PaymentScreenSuccessful</td>\n",
       "      <td>3547</td>\n",
       "      <td>0.47</td>\n",
       "      <td>0.95</td>\n",
       "    </tr>\n",
       "    <tr>\n",
       "      <th>2</th>\n",
       "      <td>CartScreenAppear</td>\n",
       "      <td>3749</td>\n",
       "      <td>0.50</td>\n",
       "      <td>0.81</td>\n",
       "    </tr>\n",
       "    <tr>\n",
       "      <th>3</th>\n",
       "      <td>OffersScreenAppear</td>\n",
       "      <td>4613</td>\n",
       "      <td>0.61</td>\n",
       "      <td>0.62</td>\n",
       "    </tr>\n",
       "    <tr>\n",
       "      <th>4</th>\n",
       "      <td>MainScreenAppear</td>\n",
       "      <td>7439</td>\n",
       "      <td>0.99</td>\n",
       "      <td>NaN</td>\n",
       "    </tr>\n",
       "  </tbody>\n",
       "</table>\n",
       "</div>"
      ],
      "text/plain": [
       "                event_name  users_count  users_ratio  churn_rate\n",
       "1  PaymentScreenSuccessful         3547         0.47        0.95\n",
       "2         CartScreenAppear         3749         0.50        0.81\n",
       "3       OffersScreenAppear         4613         0.61        0.62\n",
       "4         MainScreenAppear         7439         0.99         NaN"
      ]
     },
     "execution_count": 41,
     "metadata": {},
     "output_type": "execute_result"
    }
   ],
   "source": [
    "events_by_users"
   ]
  },
  {
   "cell_type": "markdown",
   "metadata": {},
   "source": [
    "__Визуализируем воронку событий__"
   ]
  },
  {
   "cell_type": "code",
   "execution_count": 42,
   "metadata": {},
   "outputs": [
    {
     "data": {
      "image/png": "[encoded data removed]",
      "text/plain": [
       "<Figure size 1500x600 with 1 Axes>"
      ]
     },
     "metadata": {},
     "output_type": "display_data"
    }
   ],
   "source": [
    "# сохраним в список название событий\n",
    "y = events_by_users['event_name'].to_list()\n",
    "\n",
    "# индексы событий\n",
    "у_idx = list(events_by_users['event_name'].index)\n",
    "\n",
    "# количество посетителей\n",
    "x = events_by_users['users_count'].to_list()\n",
    "\n",
    "# доля посетителей от всех\n",
    "ratio = (events_by_users['users_ratio'].apply('{:.0%}'.format)).to_list()\n",
    "\n",
    "# зададим ограничения по значениям оси Х\n",
    "x_max = 10000\n",
    "x_min = 0\n",
    "\n",
    "plt.figure(figsize=(15,6))\n",
    "\n",
    "for idx, val in enumerate(x):\n",
    "    \n",
    "    left = (x_max - val)/2\n",
    "    plt.barh(y[idx], x[idx], left = left, height=0.8, edgecolor='black')\n",
    "    \n",
    "    plt.text(5000, у_idx[idx]-0.8, y[idx], ha='center', fontsize=12)\n",
    "    plt.text(5000, у_idx[idx]-1, x[idx], ha='center', fontsize=12)\n",
    "    plt.text(5000, у_idx[idx]-1.2, ratio[idx], ha='center', fontsize=12)\n",
    "\n",
    "plt.axis('off')\n",
    "plt.title('Воронка событий', fontsize=16)\n",
    "plt.xlim(x_min, x_max)\n",
    "plt.show()"
   ]
  },
  {
   "cell_type": "markdown",
   "metadata": {
    "id": "m_ukX2j59w9m"
   },
   "source": [
    "Становится очевидно, что наибольший оток происходит на этапе с первого по второе событие, то есть с главного экрана до показа продукта. На этом шаге отваливается 38% пользователей.  \n",
    "\n",
    "Дальнейшие шаги уже не имеют таких потерь. Лучшая доходимость у тех пользователей, которые заходят в корзину. "
   ]
  },
  {
   "cell_type": "markdown",
   "metadata": {
    "id": "AGiSGygr_IrF"
   },
   "source": [
    "И чтобы картина стала еще более наглядной, посчитаем, какая доля пользователей проходят от первого по последнего, ключевого события. "
   ]
  },
  {
   "cell_type": "code",
   "execution_count": 43,
   "metadata": {
    "colab": {
     "base_uri": "https://localhost:8080/",
     "height": 36
    },
    "id": "bYC_TBMD_y5x",
    "outputId": "e00dba5d-a1a4-42fc-9e4d-310ec6a55a4e"
   },
   "outputs": [
    {
     "data": {
      "text/plain": [
       "'47.7%'"
      ]
     },
     "execution_count": 43,
     "metadata": {},
     "output_type": "execute_result"
    }
   ],
   "source": [
    "'{:.1%}'.format(events_by_users['users_count'][1]/events_by_users['users_count'][4])"
   ]
  },
  {
   "cell_type": "markdown",
   "metadata": {
    "id": "hG6H_TMcAAp9"
   },
   "source": [
    "47.7% пользователей доходят до покупки. "
   ]
  },
  {
   "cell_type": "markdown",
   "metadata": {
    "id": "ROnWyB5-AUHb"
   },
   "source": [
    "## Промежуточный вывод"
   ]
  },
  {
   "cell_type": "markdown",
   "metadata": {
    "id": "JbXBRBBvAiIz"
   },
   "source": [
    "Проанализировали воронку событий.  \n",
    "\n",
    "Наибольший отток пользователей в воронке происходит на первом шаге, то есть при переходе с главного экрана к просмотру товара. До второго шага доходят только 62% прользователей.  \n",
    "\n",
    "Полный путь проходят 47.7% пользователей. "
   ]
  },
  {
   "cell_type": "markdown",
   "metadata": {
    "id": "lquSe7wnBx3c"
   },
   "source": [
    "# Анализ результатов эксперимента"
   ]
  },
  {
   "cell_type": "markdown",
   "metadata": {
    "id": "fAeHhdRxJxRW"
   },
   "source": [
    "## Проверка данных"
   ]
  },
  {
   "cell_type": "markdown",
   "metadata": {
    "id": "a-1KYf40B77J"
   },
   "source": [
    "Перейдем к проверке результатов A/A/B-теста.  \n",
    "\n",
    "Первым делом вспомним, какое количество пользоватлей по группам.  \n",
    "\n",
    "Также проверим, нет ли таких клиентов, которые попали в несколько групп одновременно. "
   ]
  },
  {
   "cell_type": "code",
   "execution_count": 44,
   "metadata": {
    "colab": {
     "base_uri": "https://localhost:8080/"
    },
    "id": "OaHgi2j5EAkn",
    "outputId": "0575a7bd-3fa9-4159-b84c-7e36d1e25b20"
   },
   "outputs": [
    {
     "data": {
      "text/plain": [
       "user_id    2484\n",
       "group      2484\n",
       "dtype: int64"
      ]
     },
     "execution_count": 44,
     "metadata": {},
     "output_type": "execute_result"
    }
   ],
   "source": [
    "users_a.count()"
   ]
  },
  {
   "cell_type": "code",
   "execution_count": 45,
   "metadata": {
    "colab": {
     "base_uri": "https://localhost:8080/"
    },
    "id": "kZUiHINrEcbN",
    "outputId": "7647b1e3-79ed-4fc9-8457-8209d39d875b"
   },
   "outputs": [
    {
     "data": {
      "text/plain": [
       "user_id    2513\n",
       "group      2513\n",
       "dtype: int64"
      ]
     },
     "execution_count": 45,
     "metadata": {},
     "output_type": "execute_result"
    }
   ],
   "source": [
    "users_a2.count()"
   ]
  },
  {
   "cell_type": "code",
   "execution_count": 46,
   "metadata": {
    "colab": {
     "base_uri": "https://localhost:8080/"
    },
    "id": "ID98xM1yEfLh",
    "outputId": "629857db-01c7-465d-a44a-c1e55ff41259"
   },
   "outputs": [
    {
     "data": {
      "text/plain": [
       "user_id    2537\n",
       "group      2537\n",
       "dtype: int64"
      ]
     },
     "execution_count": 46,
     "metadata": {},
     "output_type": "execute_result"
    }
   ],
   "source": [
    "users_b.count()"
   ]
  },
  {
   "cell_type": "markdown",
   "metadata": {
    "id": "flg4ud5UEgz5"
   },
   "source": [
    "Выборки по количеству пользователей почти идентичные\n",
    "\n",
    "\n",
    "Проверим, как соотносятся наши контрольные группы по количеству пользователей. Если различие не более 1.5 процентов, считаем, что разделение произошло корректное. "
   ]
  },
  {
   "cell_type": "code",
   "execution_count": 47,
   "metadata": {},
   "outputs": [
    {
     "data": {
      "text/plain": [
       "user_id   -0.01154\n",
       "group     -0.01154\n",
       "dtype: float64"
      ]
     },
     "execution_count": 47,
     "metadata": {},
     "output_type": "execute_result"
    }
   ],
   "source": [
    "(users_a.count()/users_a2.count())-1"
   ]
  },
  {
   "cell_type": "markdown",
   "metadata": {},
   "source": [
    "Разница между группами составляет 1.2%, разделение корректное. "
   ]
  },
  {
   "cell_type": "code",
   "execution_count": 48,
   "metadata": {
    "id": "9PcBJjmwEvWe"
   },
   "outputs": [],
   "source": [
    "# проверяем, не попали ли пользователи в несколько групп одновременно\n",
    "\n",
    "users_groups = logs_filtered[['user_id', 'group']].drop_duplicates()"
   ]
  },
  {
   "cell_type": "code",
   "execution_count": 49,
   "metadata": {
    "colab": {
     "base_uri": "https://localhost:8080/"
    },
    "id": "53mRk6EPF6uL",
    "outputId": "47b854d9-f456-430b-f5f7-a786991139b1"
   },
   "outputs": [
    {
     "data": {
      "text/plain": [
       "0"
      ]
     },
     "execution_count": 49,
     "metadata": {},
     "output_type": "execute_result"
    }
   ],
   "source": [
    "users_groups.user_id.duplicated().sum()"
   ]
  },
  {
   "cell_type": "markdown",
   "metadata": {
    "id": "pU_3RJFGH2uD"
   },
   "source": [
    "Группы разделены четко, \"шпионов\" нет. "
   ]
  },
  {
   "cell_type": "markdown",
   "metadata": {
    "id": "SkrG-HKPH-Hg"
   },
   "source": [
    "## Распределение пользователей по событиям.  Контрольные группы."
   ]
  },
  {
   "cell_type": "markdown",
   "metadata": {
    "id": "iJKRw1k-J7-U"
   },
   "source": [
    "Проверим, как происходит распределение пользователей по событиям в разрезе каждой группы.  \n",
    "\n",
    "Также проверим, являются ли различие между группами статистически значимым. "
   ]
  },
  {
   "cell_type": "markdown",
   "metadata": {
    "id": "tNWuIsXYKoMM"
   },
   "source": [
    "Построим сводную таблицу, как в более ранних шагах, только в этот раз добавим фильтрацию пользователей по группам. "
   ]
  },
  {
   "cell_type": "code",
   "execution_count": 50,
   "metadata": {
    "id": "kiiwl8FPK03i"
   },
   "outputs": [],
   "source": [
    "events_users_a = (\n",
    "    logs_filtered[logs_filtered['group']==246]\n",
    "    .groupby('event_name', as_index=False)\n",
    "    .agg(users_count=('user_id', 'nunique'))\n",
    "    .sort_values('users_count', ascending=False)\n",
    "    .reset_index(drop=True)\n",
    ")"
   ]
  },
  {
   "cell_type": "code",
   "execution_count": 51,
   "metadata": {
    "id": "PJzTkXTCLeyH"
   },
   "outputs": [],
   "source": [
    "events_users_a2 = (\n",
    "    logs_filtered[logs_filtered['group']==247]\n",
    "    .groupby('event_name', as_index=False)\n",
    "    .agg(users_count=('user_id', 'nunique'))\n",
    "    .sort_values('users_count', ascending=False)\n",
    "    .reset_index(drop=True)\n",
    ")"
   ]
  },
  {
   "cell_type": "code",
   "execution_count": 52,
   "metadata": {},
   "outputs": [],
   "source": [
    "# Убираем обучение\n",
    "\n",
    "events_users_a = events_users_a.drop([4], axis=0)"
   ]
  },
  {
   "cell_type": "code",
   "execution_count": 53,
   "metadata": {},
   "outputs": [],
   "source": [
    "# Убираем обучение\n",
    "\n",
    "events_users_a2 = events_users_a2.drop([4], axis=0)"
   ]
  },
  {
   "cell_type": "code",
   "execution_count": 54,
   "metadata": {
    "colab": {
     "base_uri": "https://localhost:8080/",
     "height": 206
    },
    "id": "vKytHf1dLo3J",
    "outputId": "d541c1f2-330a-48c0-b0be-201ac204af6e"
   },
   "outputs": [
    {
     "data": {
      "text/html": [
       "<div>\n",
       "<style scoped>\n",
       "    .dataframe tbody tr th:only-of-type {\n",
       "        vertical-align: middle;\n",
       "    }\n",
       "\n",
       "    .dataframe tbody tr th {\n",
       "        vertical-align: top;\n",
       "    }\n",
       "\n",
       "    .dataframe thead th {\n",
       "        text-align: right;\n",
       "    }\n",
       "</style>\n",
       "<table border=\"1\" class=\"dataframe\">\n",
       "  <thead>\n",
       "    <tr style=\"text-align: right;\">\n",
       "      <th></th>\n",
       "      <th>event_name</th>\n",
       "      <th>users_count</th>\n",
       "    </tr>\n",
       "  </thead>\n",
       "  <tbody>\n",
       "    <tr>\n",
       "      <th>0</th>\n",
       "      <td>MainScreenAppear</td>\n",
       "      <td>2450</td>\n",
       "    </tr>\n",
       "    <tr>\n",
       "      <th>1</th>\n",
       "      <td>OffersScreenAppear</td>\n",
       "      <td>1542</td>\n",
       "    </tr>\n",
       "    <tr>\n",
       "      <th>2</th>\n",
       "      <td>CartScreenAppear</td>\n",
       "      <td>1266</td>\n",
       "    </tr>\n",
       "    <tr>\n",
       "      <th>3</th>\n",
       "      <td>PaymentScreenSuccessful</td>\n",
       "      <td>1200</td>\n",
       "    </tr>\n",
       "  </tbody>\n",
       "</table>\n",
       "</div>"
      ],
      "text/plain": [
       "                event_name  users_count\n",
       "0         MainScreenAppear         2450\n",
       "1       OffersScreenAppear         1542\n",
       "2         CartScreenAppear         1266\n",
       "3  PaymentScreenSuccessful         1200"
      ]
     },
     "execution_count": 54,
     "metadata": {},
     "output_type": "execute_result"
    }
   ],
   "source": [
    "events_users_a"
   ]
  },
  {
   "cell_type": "code",
   "execution_count": 55,
   "metadata": {
    "colab": {
     "base_uri": "https://localhost:8080/",
     "height": 206
    },
    "id": "CxXrHA2cLs8F",
    "outputId": "5b9ce64d-83ac-4f48-c35d-2997a6d1f2ac"
   },
   "outputs": [
    {
     "data": {
      "text/html": [
       "<div>\n",
       "<style scoped>\n",
       "    .dataframe tbody tr th:only-of-type {\n",
       "        vertical-align: middle;\n",
       "    }\n",
       "\n",
       "    .dataframe tbody tr th {\n",
       "        vertical-align: top;\n",
       "    }\n",
       "\n",
       "    .dataframe thead th {\n",
       "        text-align: right;\n",
       "    }\n",
       "</style>\n",
       "<table border=\"1\" class=\"dataframe\">\n",
       "  <thead>\n",
       "    <tr style=\"text-align: right;\">\n",
       "      <th></th>\n",
       "      <th>event_name</th>\n",
       "      <th>users_count</th>\n",
       "    </tr>\n",
       "  </thead>\n",
       "  <tbody>\n",
       "    <tr>\n",
       "      <th>0</th>\n",
       "      <td>MainScreenAppear</td>\n",
       "      <td>2476</td>\n",
       "    </tr>\n",
       "    <tr>\n",
       "      <th>1</th>\n",
       "      <td>OffersScreenAppear</td>\n",
       "      <td>1520</td>\n",
       "    </tr>\n",
       "    <tr>\n",
       "      <th>2</th>\n",
       "      <td>CartScreenAppear</td>\n",
       "      <td>1238</td>\n",
       "    </tr>\n",
       "    <tr>\n",
       "      <th>3</th>\n",
       "      <td>PaymentScreenSuccessful</td>\n",
       "      <td>1158</td>\n",
       "    </tr>\n",
       "  </tbody>\n",
       "</table>\n",
       "</div>"
      ],
      "text/plain": [
       "                event_name  users_count\n",
       "0         MainScreenAppear         2476\n",
       "1       OffersScreenAppear         1520\n",
       "2         CartScreenAppear         1238\n",
       "3  PaymentScreenSuccessful         1158"
      ]
     },
     "execution_count": 55,
     "metadata": {},
     "output_type": "execute_result"
    }
   ],
   "source": [
    "events_users_a2"
   ]
  },
  {
   "cell_type": "code",
   "execution_count": 56,
   "metadata": {
    "id": "1AEphIAqLx9b"
   },
   "outputs": [],
   "source": [
    "# добавляем долю пользователей, совершивших событие\n",
    "\n",
    "events_users_a['user_ratio'] = events_users_a['users_count']/users_a['user_id'].count()\n",
    "events_users_a['user_total'] = users_a['user_id'].count()"
   ]
  },
  {
   "cell_type": "code",
   "execution_count": 57,
   "metadata": {
    "colab": {
     "base_uri": "https://localhost:8080/",
     "height": 206
    },
    "id": "2vcS-qbDM4XR",
    "outputId": "85564570-6b99-4a8c-8710-c29a7cb61216"
   },
   "outputs": [
    {
     "data": {
      "text/html": [
       "<div>\n",
       "<style scoped>\n",
       "    .dataframe tbody tr th:only-of-type {\n",
       "        vertical-align: middle;\n",
       "    }\n",
       "\n",
       "    .dataframe tbody tr th {\n",
       "        vertical-align: top;\n",
       "    }\n",
       "\n",
       "    .dataframe thead th {\n",
       "        text-align: right;\n",
       "    }\n",
       "</style>\n",
       "<table border=\"1\" class=\"dataframe\">\n",
       "  <thead>\n",
       "    <tr style=\"text-align: right;\">\n",
       "      <th></th>\n",
       "      <th>event_name</th>\n",
       "      <th>users_count</th>\n",
       "      <th>user_ratio</th>\n",
       "      <th>user_total</th>\n",
       "    </tr>\n",
       "  </thead>\n",
       "  <tbody>\n",
       "    <tr>\n",
       "      <th>0</th>\n",
       "      <td>MainScreenAppear</td>\n",
       "      <td>2450</td>\n",
       "      <td>0.986312</td>\n",
       "      <td>2484</td>\n",
       "    </tr>\n",
       "    <tr>\n",
       "      <th>1</th>\n",
       "      <td>OffersScreenAppear</td>\n",
       "      <td>1542</td>\n",
       "      <td>0.620773</td>\n",
       "      <td>2484</td>\n",
       "    </tr>\n",
       "    <tr>\n",
       "      <th>2</th>\n",
       "      <td>CartScreenAppear</td>\n",
       "      <td>1266</td>\n",
       "      <td>0.509662</td>\n",
       "      <td>2484</td>\n",
       "    </tr>\n",
       "    <tr>\n",
       "      <th>3</th>\n",
       "      <td>PaymentScreenSuccessful</td>\n",
       "      <td>1200</td>\n",
       "      <td>0.483092</td>\n",
       "      <td>2484</td>\n",
       "    </tr>\n",
       "  </tbody>\n",
       "</table>\n",
       "</div>"
      ],
      "text/plain": [
       "                event_name  users_count  user_ratio  user_total\n",
       "0         MainScreenAppear         2450    0.986312        2484\n",
       "1       OffersScreenAppear         1542    0.620773        2484\n",
       "2         CartScreenAppear         1266    0.509662        2484\n",
       "3  PaymentScreenSuccessful         1200    0.483092        2484"
      ]
     },
     "execution_count": 57,
     "metadata": {},
     "output_type": "execute_result"
    }
   ],
   "source": [
    "events_users_a"
   ]
  },
  {
   "cell_type": "code",
   "execution_count": 58,
   "metadata": {
    "id": "DPGAhkXoO4IO"
   },
   "outputs": [],
   "source": [
    "events_users_a2['user_ratio'] = events_users_a2['users_count']/users_a2['user_id'].count()\n",
    "events_users_a2['user_total'] = users_a2['user_id'].count()"
   ]
  },
  {
   "cell_type": "code",
   "execution_count": 59,
   "metadata": {
    "colab": {
     "base_uri": "https://localhost:8080/",
     "height": 206
    },
    "id": "KETVwC1gO8lP",
    "outputId": "db9bd3b7-6f7b-456c-b5b8-ec00e9af3bc7"
   },
   "outputs": [
    {
     "data": {
      "text/html": [
       "<div>\n",
       "<style scoped>\n",
       "    .dataframe tbody tr th:only-of-type {\n",
       "        vertical-align: middle;\n",
       "    }\n",
       "\n",
       "    .dataframe tbody tr th {\n",
       "        vertical-align: top;\n",
       "    }\n",
       "\n",
       "    .dataframe thead th {\n",
       "        text-align: right;\n",
       "    }\n",
       "</style>\n",
       "<table border=\"1\" class=\"dataframe\">\n",
       "  <thead>\n",
       "    <tr style=\"text-align: right;\">\n",
       "      <th></th>\n",
       "      <th>event_name</th>\n",
       "      <th>users_count</th>\n",
       "      <th>user_ratio</th>\n",
       "      <th>user_total</th>\n",
       "    </tr>\n",
       "  </thead>\n",
       "  <tbody>\n",
       "    <tr>\n",
       "      <th>0</th>\n",
       "      <td>MainScreenAppear</td>\n",
       "      <td>2476</td>\n",
       "      <td>0.985277</td>\n",
       "      <td>2513</td>\n",
       "    </tr>\n",
       "    <tr>\n",
       "      <th>1</th>\n",
       "      <td>OffersScreenAppear</td>\n",
       "      <td>1520</td>\n",
       "      <td>0.604855</td>\n",
       "      <td>2513</td>\n",
       "    </tr>\n",
       "    <tr>\n",
       "      <th>2</th>\n",
       "      <td>CartScreenAppear</td>\n",
       "      <td>1238</td>\n",
       "      <td>0.492638</td>\n",
       "      <td>2513</td>\n",
       "    </tr>\n",
       "    <tr>\n",
       "      <th>3</th>\n",
       "      <td>PaymentScreenSuccessful</td>\n",
       "      <td>1158</td>\n",
       "      <td>0.460804</td>\n",
       "      <td>2513</td>\n",
       "    </tr>\n",
       "  </tbody>\n",
       "</table>\n",
       "</div>"
      ],
      "text/plain": [
       "                event_name  users_count  user_ratio  user_total\n",
       "0         MainScreenAppear         2476    0.985277        2513\n",
       "1       OffersScreenAppear         1520    0.604855        2513\n",
       "2         CartScreenAppear         1238    0.492638        2513\n",
       "3  PaymentScreenSuccessful         1158    0.460804        2513"
      ]
     },
     "execution_count": 59,
     "metadata": {},
     "output_type": "execute_result"
    }
   ],
   "source": [
    "events_users_a2"
   ]
  },
  {
   "cell_type": "markdown",
   "metadata": {
    "id": "5jD75YWzTKp7"
   },
   "source": [
    "Теперь посчитаем, как соотносится количество пользователей, совершивших событие, между контрольными группами. Являются ли отличия между ними статистически значимыми.  \n",
    "Эта проверка покажет, было ли разделение контрольных групп коректным.  \n",
    "\n",
    "Для проверки будем использовать z-тест для пропорций. "
   ]
  },
  {
   "cell_type": "markdown",
   "metadata": {
    "id": "PAjmasYMcz4G"
   },
   "source": [
    "**Ho**: контрольные группы одинаковые.  \n",
    "**H1**: между контрольными группами есть различия. "
   ]
  },
  {
   "cell_type": "code",
   "execution_count": 60,
   "metadata": {
    "id": "D3sgqZpbe22S"
   },
   "outputs": [],
   "source": [
    "# напишем функцию для z-теста\n",
    "\n",
    "def ztest (x, y, alpha):\n",
    "    \n",
    "    for i in range(len(x['users_count'])):\n",
    "\n",
    "        \n",
    "        successes = np.array([x['users_count'][i], y['users_count'][i]])\n",
    "        trials = np.array([x['user_total'][0], y['user_total'][0]])\n",
    "\n",
    "        p1 = successes[0]/trials[0]\n",
    "        p2 = successes[1]/trials[1]\n",
    "\n",
    "        p_combined = (successes[0] + successes[1]) / (trials[0] + trials[1])\n",
    "\n",
    "        difference = p1 - p2\n",
    "\n",
    "        z_value = difference / mth.sqrt(p_combined * (1 - p_combined) * (1/trials[0] + 1/trials[1]))\n",
    "\n",
    "        distr = st.norm(0, 1) \n",
    "\n",
    "        p_value = (1 - distr.cdf(abs(z_value))) * 2\n",
    "\n",
    "        print(x['event_name'][i], 'p-значение: ', '{:.3f}'.format(p_value))\n",
    "\n",
    "        if p_value < alpha:\n",
    "            print('Отвергаем нулевую гипотезу: между долями есть значимая разница')\n",
    "        else:\n",
    "            print(\n",
    "            'Не получилось отвергнуть нулевую гипотезу, нет оснований считать доли разными'\n",
    "        )\n",
    "        \n",
    "        print ('')"
   ]
  },
  {
   "cell_type": "code",
   "execution_count": 61,
   "metadata": {
    "colab": {
     "base_uri": "https://localhost:8080/"
    },
    "id": "yckxQ3zvkrWu",
    "outputId": "263ccb8d-4c8f-4487-e533-c82dc7d681bd"
   },
   "outputs": [
    {
     "name": "stdout",
     "output_type": "stream",
     "text": [
      "MainScreenAppear p-значение:  0.757\n",
      "Не получилось отвергнуть нулевую гипотезу, нет оснований считать доли разными\n",
      "\n",
      "OffersScreenAppear p-значение:  0.248\n",
      "Не получилось отвергнуть нулевую гипотезу, нет оснований считать доли разными\n",
      "\n",
      "CartScreenAppear p-значение:  0.229\n",
      "Не получилось отвергнуть нулевую гипотезу, нет оснований считать доли разными\n",
      "\n",
      "PaymentScreenSuccessful p-значение:  0.115\n",
      "Не получилось отвергнуть нулевую гипотезу, нет оснований считать доли разными\n",
      "\n"
     ]
    }
   ],
   "source": [
    "# alpha = 0.05\n",
    "\n",
    "ztest(events_users_a, events_users_a2, 0.05)"
   ]
  },
  {
   "cell_type": "markdown",
   "metadata": {
    "id": "3XgkxHnBrr_O"
   },
   "source": [
    "Тест показал, что по всем событиям различия не являются статистически значимыми, и поэтому можно считать контрольные группы одинаковыми. Разделение пользователей выполнено корректно. "
   ]
  },
  {
   "cell_type": "markdown",
   "metadata": {},
   "source": [
    "## Сравнение с тестируемой группой"
   ]
  },
  {
   "cell_type": "markdown",
   "metadata": {
    "id": "JjUemHOrtKvm"
   },
   "source": [
    "Теперь проверим, есть ли изменения в тестируемой группе, относительно контрольных.  \n",
    "\n",
    "Проведем такую же проверку. Сравним тестируему группу с обеими контрольными в отдельности, и с объединенными данными. "
   ]
  },
  {
   "cell_type": "markdown",
   "metadata": {
    "id": "uj_TT0path9H"
   },
   "source": [
    "Для начала соберем данные по группе Б в таблицу, как и по группам А. "
   ]
  },
  {
   "cell_type": "code",
   "execution_count": 62,
   "metadata": {
    "id": "HhTjXd1st_R-"
   },
   "outputs": [],
   "source": [
    "events_users_b = (\n",
    "    logs_filtered[logs_filtered['group']==248]\n",
    "    .groupby('event_name', as_index=False)\n",
    "    .agg(users_count=('user_id', 'nunique'))\n",
    "    .sort_values('users_count', ascending=False)\n",
    "    .reset_index(drop=True)\n",
    ")"
   ]
  },
  {
   "cell_type": "code",
   "execution_count": 63,
   "metadata": {
    "id": "UYyVLyFUuI6i"
   },
   "outputs": [],
   "source": [
    "events_users_b['user_ratio'] = events_users_b['users_count']/users_b['user_id'].count()\n",
    "events_users_b['user_total'] = users_b['user_id'].count()"
   ]
  },
  {
   "cell_type": "code",
   "execution_count": 64,
   "metadata": {},
   "outputs": [],
   "source": [
    "events_users_b = events_users_b.drop([4], axis=0)"
   ]
  },
  {
   "cell_type": "code",
   "execution_count": 65,
   "metadata": {
    "colab": {
     "base_uri": "https://localhost:8080/",
     "height": 206
    },
    "id": "RJNYMar5uS46",
    "outputId": "2dc0bf2a-5def-4ea9-a92d-7acc212555ee"
   },
   "outputs": [
    {
     "data": {
      "text/html": [
       "<div>\n",
       "<style scoped>\n",
       "    .dataframe tbody tr th:only-of-type {\n",
       "        vertical-align: middle;\n",
       "    }\n",
       "\n",
       "    .dataframe tbody tr th {\n",
       "        vertical-align: top;\n",
       "    }\n",
       "\n",
       "    .dataframe thead th {\n",
       "        text-align: right;\n",
       "    }\n",
       "</style>\n",
       "<table border=\"1\" class=\"dataframe\">\n",
       "  <thead>\n",
       "    <tr style=\"text-align: right;\">\n",
       "      <th></th>\n",
       "      <th>event_name</th>\n",
       "      <th>users_count</th>\n",
       "      <th>user_ratio</th>\n",
       "      <th>user_total</th>\n",
       "    </tr>\n",
       "  </thead>\n",
       "  <tbody>\n",
       "    <tr>\n",
       "      <th>0</th>\n",
       "      <td>MainScreenAppear</td>\n",
       "      <td>2493</td>\n",
       "      <td>0.982657</td>\n",
       "      <td>2537</td>\n",
       "    </tr>\n",
       "    <tr>\n",
       "      <th>1</th>\n",
       "      <td>OffersScreenAppear</td>\n",
       "      <td>1531</td>\n",
       "      <td>0.603469</td>\n",
       "      <td>2537</td>\n",
       "    </tr>\n",
       "    <tr>\n",
       "      <th>2</th>\n",
       "      <td>CartScreenAppear</td>\n",
       "      <td>1230</td>\n",
       "      <td>0.484825</td>\n",
       "      <td>2537</td>\n",
       "    </tr>\n",
       "    <tr>\n",
       "      <th>3</th>\n",
       "      <td>PaymentScreenSuccessful</td>\n",
       "      <td>1181</td>\n",
       "      <td>0.465510</td>\n",
       "      <td>2537</td>\n",
       "    </tr>\n",
       "  </tbody>\n",
       "</table>\n",
       "</div>"
      ],
      "text/plain": [
       "                event_name  users_count  user_ratio  user_total\n",
       "0         MainScreenAppear         2493    0.982657        2537\n",
       "1       OffersScreenAppear         1531    0.603469        2537\n",
       "2         CartScreenAppear         1230    0.484825        2537\n",
       "3  PaymentScreenSuccessful         1181    0.465510        2537"
      ]
     },
     "execution_count": 65,
     "metadata": {},
     "output_type": "execute_result"
    }
   ],
   "source": [
    "events_users_b"
   ]
  },
  {
   "cell_type": "markdown",
   "metadata": {
    "id": "cpZJoUIduoFr"
   },
   "source": [
    "Проведем z-тест группы Б с группой А, далее с группой А1, далее с объединенной таблицей по А и А1.\n",
    "\n",
    "**Ho**: между группами А и Б нет отличий;  \n",
    "**H1**: группы А и Б отличаются. "
   ]
  },
  {
   "cell_type": "code",
   "execution_count": 66,
   "metadata": {
    "colab": {
     "base_uri": "https://localhost:8080/"
    },
    "id": "leE48EOXu3Vx",
    "outputId": "de033d71-28ca-45ba-c682-b22bcfcb1985"
   },
   "outputs": [
    {
     "name": "stdout",
     "output_type": "stream",
     "text": [
      "MainScreenAppear p-значение:  0.295\n",
      "Не получилось отвергнуть нулевую гипотезу, нет оснований считать доли разными\n",
      "\n",
      "OffersScreenAppear p-значение:  0.208\n",
      "Не получилось отвергнуть нулевую гипотезу, нет оснований считать доли разными\n",
      "\n",
      "CartScreenAppear p-значение:  0.078\n",
      "Не получилось отвергнуть нулевую гипотезу, нет оснований считать доли разными\n",
      "\n",
      "PaymentScreenSuccessful p-значение:  0.212\n",
      "Не получилось отвергнуть нулевую гипотезу, нет оснований считать доли разными\n",
      "\n"
     ]
    }
   ],
   "source": [
    "ztest(events_users_a, events_users_b, 0.05)"
   ]
  },
  {
   "cell_type": "code",
   "execution_count": 67,
   "metadata": {
    "colab": {
     "base_uri": "https://localhost:8080/"
    },
    "id": "HgKulv7zvBOV",
    "outputId": "10f36aaf-fc12-4ded-b1fe-f4c4f357d455"
   },
   "outputs": [
    {
     "name": "stdout",
     "output_type": "stream",
     "text": [
      "MainScreenAppear p-значение:  0.459\n",
      "Не получилось отвергнуть нулевую гипотезу, нет оснований считать доли разными\n",
      "\n",
      "OffersScreenAppear p-значение:  0.920\n",
      "Не получилось отвергнуть нулевую гипотезу, нет оснований считать доли разными\n",
      "\n",
      "CartScreenAppear p-значение:  0.579\n",
      "Не получилось отвергнуть нулевую гипотезу, нет оснований считать доли разными\n",
      "\n",
      "PaymentScreenSuccessful p-значение:  0.737\n",
      "Не получилось отвергнуть нулевую гипотезу, нет оснований считать доли разными\n",
      "\n"
     ]
    }
   ],
   "source": [
    "ztest(events_users_b, events_users_a2, 0.05)"
   ]
  },
  {
   "cell_type": "code",
   "execution_count": 68,
   "metadata": {
    "id": "EJzyjYatvDRh"
   },
   "outputs": [],
   "source": [
    "# объединили данные по контрольным группам\n",
    "\n",
    "events_users_a_combined = (\n",
    "    logs_filtered[logs_filtered['group'].isin([246, 247])]\n",
    "    .groupby('event_name', as_index=False)\n",
    "    .agg(users_count=('user_id', 'nunique'))\n",
    "    .sort_values('users_count', ascending=False)\n",
    "    .reset_index(drop=True)\n",
    ")"
   ]
  },
  {
   "cell_type": "code",
   "execution_count": 69,
   "metadata": {
    "id": "bDxkmiQ3vzHs"
   },
   "outputs": [],
   "source": [
    "events_users_a_combined['user_ratio'] = (\n",
    "    events_users_a_combined['users_count']/\n",
    "    logs_filtered[logs_filtered['group'].isin([246, 247])]['user_id'].nunique()\n",
    "    )\n",
    "events_users_a_combined['user_total'] =(\n",
    "     logs_filtered[logs_filtered['group'].isin([246, 247])]['user_id'].nunique()\n",
    "     )"
   ]
  },
  {
   "cell_type": "code",
   "execution_count": 70,
   "metadata": {},
   "outputs": [],
   "source": [
    "# удаляем обучение\n",
    "\n",
    "events_users_a_combined = events_users_a_combined.drop([4], axis=0)"
   ]
  },
  {
   "cell_type": "code",
   "execution_count": 71,
   "metadata": {
    "colab": {
     "base_uri": "https://localhost:8080/",
     "height": 206
    },
    "id": "qxaShbfHyUbY",
    "outputId": "bb32679f-6a0d-4520-b3c7-2b1f546267db"
   },
   "outputs": [
    {
     "data": {
      "text/html": [
       "<div>\n",
       "<style scoped>\n",
       "    .dataframe tbody tr th:only-of-type {\n",
       "        vertical-align: middle;\n",
       "    }\n",
       "\n",
       "    .dataframe tbody tr th {\n",
       "        vertical-align: top;\n",
       "    }\n",
       "\n",
       "    .dataframe thead th {\n",
       "        text-align: right;\n",
       "    }\n",
       "</style>\n",
       "<table border=\"1\" class=\"dataframe\">\n",
       "  <thead>\n",
       "    <tr style=\"text-align: right;\">\n",
       "      <th></th>\n",
       "      <th>event_name</th>\n",
       "      <th>users_count</th>\n",
       "      <th>user_ratio</th>\n",
       "      <th>user_total</th>\n",
       "    </tr>\n",
       "  </thead>\n",
       "  <tbody>\n",
       "    <tr>\n",
       "      <th>0</th>\n",
       "      <td>MainScreenAppear</td>\n",
       "      <td>4926</td>\n",
       "      <td>0.985791</td>\n",
       "      <td>4997</td>\n",
       "    </tr>\n",
       "    <tr>\n",
       "      <th>1</th>\n",
       "      <td>OffersScreenAppear</td>\n",
       "      <td>3062</td>\n",
       "      <td>0.612768</td>\n",
       "      <td>4997</td>\n",
       "    </tr>\n",
       "    <tr>\n",
       "      <th>2</th>\n",
       "      <td>CartScreenAppear</td>\n",
       "      <td>2504</td>\n",
       "      <td>0.501101</td>\n",
       "      <td>4997</td>\n",
       "    </tr>\n",
       "    <tr>\n",
       "      <th>3</th>\n",
       "      <td>PaymentScreenSuccessful</td>\n",
       "      <td>2358</td>\n",
       "      <td>0.471883</td>\n",
       "      <td>4997</td>\n",
       "    </tr>\n",
       "  </tbody>\n",
       "</table>\n",
       "</div>"
      ],
      "text/plain": [
       "                event_name  users_count  user_ratio  user_total\n",
       "0         MainScreenAppear         4926    0.985791        4997\n",
       "1       OffersScreenAppear         3062    0.612768        4997\n",
       "2         CartScreenAppear         2504    0.501101        4997\n",
       "3  PaymentScreenSuccessful         2358    0.471883        4997"
      ]
     },
     "execution_count": 71,
     "metadata": {},
     "output_type": "execute_result"
    }
   ],
   "source": [
    "events_users_a_combined"
   ]
  },
  {
   "cell_type": "code",
   "execution_count": 72,
   "metadata": {
    "colab": {
     "base_uri": "https://localhost:8080/"
    },
    "id": "s5zZ9X9sviyJ",
    "outputId": "750a6f88-f1f8-428b-ca6e-e82a68c8ce66"
   },
   "outputs": [
    {
     "name": "stdout",
     "output_type": "stream",
     "text": [
      "MainScreenAppear p-значение:  0.294\n",
      "Не получилось отвергнуть нулевую гипотезу, нет оснований считать доли разными\n",
      "\n",
      "OffersScreenAppear p-значение:  0.434\n",
      "Не получилось отвергнуть нулевую гипотезу, нет оснований считать доли разными\n",
      "\n",
      "CartScreenAppear p-значение:  0.182\n",
      "Не получилось отвергнуть нулевую гипотезу, нет оснований считать доли разными\n",
      "\n",
      "PaymentScreenSuccessful p-значение:  0.600\n",
      "Не получилось отвергнуть нулевую гипотезу, нет оснований считать доли разными\n",
      "\n"
     ]
    }
   ],
   "source": [
    "ztest(events_users_b, events_users_a_combined, 0.05)"
   ]
  },
  {
   "cell_type": "markdown",
   "metadata": {
    "id": "Fiesed2lyiMi"
   },
   "source": [
    "По итогам этого теста статистически значимых различий между контрольными и тестируемой группами не выявлено.  \n",
    "\n",
    "У нас нет оснований заявить, что они отличаются. "
   ]
  },
  {
   "cell_type": "markdown",
   "metadata": {},
   "source": [
    "## Обоснование выбранного уровня статистической значимости"
   ]
  },
  {
   "cell_type": "markdown",
   "metadata": {},
   "source": [
    "При проведении теста мы выбрали уровень статистической значимости равный 5%, `alpha = 0.05`.  \n",
    "\n",
    "С подобным уровнем значимости мы имеем вероятность получить ошибку первого рода каждый двадцатый раз. Планируемое (и по факту проведенное) количество сравнений &#8212; 16, по 4 на каждую из пар групп. Соответсвенно, выбрать уровень значимости более 5% мы не могли изначально.  \n",
    "\n",
    "Однако, так как у нас не две, а три группы сравнения, поэтому вероятность ошибки первого рода возрастает.  \n",
    "\n",
    "Вероятность получить ошибку первого рода при множественном сравнении равняется `1-(1-alpha)**n`, где `n` &#8212; количество сравнений. Посчитаем эту вероятность для нашего случая. "
   ]
  },
  {
   "cell_type": "code",
   "execution_count": 73,
   "metadata": {},
   "outputs": [
    {
     "data": {
      "text/plain": [
       "0.5598733313482347"
      ]
     },
     "execution_count": 73,
     "metadata": {},
     "output_type": "execute_result"
    }
   ],
   "source": [
    "# вероятность ошибки первого рода\n",
    "\n",
    "1-(1-0.05)**16"
   ]
  },
  {
   "cell_type": "markdown",
   "metadata": {},
   "source": [
    "Видим, что в нашем случае вероятность получить ложнопозитивный результат выросла с 5 до 56%. В этом случае необходимо сделать поправку уровня значимости для множественных сравнений.  \n",
    "\n",
    "Применим поправку Бонферрони, разделим `alpha` на количество тестов, 16. "
   ]
  },
  {
   "cell_type": "code",
   "execution_count": 74,
   "metadata": {},
   "outputs": [
    {
     "data": {
      "text/plain": [
       "0.003125"
      ]
     },
     "execution_count": 74,
     "metadata": {},
     "output_type": "execute_result"
    }
   ],
   "source": [
    "alpha = 0.05/16\n",
    "alpha"
   ]
  },
  {
   "cell_type": "code",
   "execution_count": 75,
   "metadata": {},
   "outputs": [
    {
     "data": {
      "text/plain": [
       "0.048845042569365726"
      ]
     },
     "execution_count": 75,
     "metadata": {},
     "output_type": "execute_result"
    }
   ],
   "source": [
    "# вероятность ошибки первого рода для скорректированного alpha\n",
    "\n",
    "1-(1-alpha)**16"
   ]
  },
  {
   "cell_type": "markdown",
   "metadata": {},
   "source": [
    "Получаем скорректированный `alpha` 0,3%. С ним вероятность ошибки первого рода становится близкой к 5%.   \n",
    "\n",
    "Мы могли бы провести проверку заново, учитывая в ней новую `alpha`, однако по результатам проведенных тестов можно заключить, что в этом нет смысла. Полученные `p-value` слишком велики, и не приближаются к уровню статистической значимости. "
   ]
  },
  {
   "cell_type": "markdown",
   "metadata": {
    "id": "VM7Zah76yvmB"
   },
   "source": [
    "# Вывод"
   ]
  },
  {
   "cell_type": "markdown",
   "metadata": {
    "id": "RBqvIhwLy9Kc"
   },
   "source": [
    "В ходе этого исследования работали с логами интернет-магазина продуктов. \n",
    "\n",
    "__Мы оценили воронку событий в мобильном приложении__. Выявили, что наибольший отток клиентов происходит на первом шаге, при переходе от главного экрана к информации о продукте. На этом этапе отваливается 38% пользователей.  \n",
    "\n",
    "Общая доходимость от первого шага до покупки &#8212; 47.7%.  \n",
    "\n",
    "В воронку событий не стали добавлять обучение. Очевидно, что по количеству пользователей, которые его прошли, это необязательный момент, и его можно пропустить.  \n",
    "\n",
    "В самой воронке мы заметили, что главный экран просмотрели не все пользователи, а только 99% из них. Мое предположение, что оставшийся 1% &#8212; это клиенты, которые при первом использовании приложения увидели экран с обучением, и не стали дальше пользоваться приложением."
   ]
  },
  {
   "cell_type": "markdown",
   "metadata": {
    "id": "rpy0unknzZMk"
   },
   "source": [
    "__Проанализировали результаты A/A/B-теста__.  \n",
    "\n",
    "Пользователей делили на три группы: две контрольные и одна тестируемая, с измененным шрифтом в приложении.   \n",
    "\n",
    "По результатам проверки можем сделать вывод, что группы А и Б не отличаются друг от друга на статистически значимую величину. Внесенные изменения не повлияли на поведение пользователей. "
   ]
  }
 ],
 "metadata": {
  "ExecuteTimeLog": [
   {
    "duration": 1248,
    "start_time": "2022-12-02T14:25:14.121Z"
   },
   {
    "duration": 255,
    "start_time": "2022-12-02T14:25:15.371Z"
   },
   {
    "duration": 13,
    "start_time": "2022-12-02T14:25:15.627Z"
   },
   {
    "duration": 27,
    "start_time": "2022-12-02T14:25:15.641Z"
   },
   {
    "duration": 3,
    "start_time": "2022-12-02T14:25:15.670Z"
   },
   {
    "duration": 18,
    "start_time": "2022-12-02T14:25:15.675Z"
   },
   {
    "duration": 5,
    "start_time": "2022-12-02T14:25:15.697Z"
   },
   {
    "duration": 18,
    "start_time": "2022-12-02T14:25:15.704Z"
   },
   {
    "duration": 4,
    "start_time": "2022-12-02T14:25:15.724Z"
   },
   {
    "duration": 18,
    "start_time": "2022-12-02T14:25:15.730Z"
   },
   {
    "duration": 77,
    "start_time": "2022-12-02T14:25:15.749Z"
   },
   {
    "duration": 79,
    "start_time": "2022-12-02T14:25:15.828Z"
   },
   {
    "duration": 75,
    "start_time": "2022-12-02T14:25:21.974Z"
   },
   {
    "duration": 14,
    "start_time": "2022-12-02T14:25:44.956Z"
   },
   {
    "duration": 21,
    "start_time": "2022-12-02T14:28:34.336Z"
   },
   {
    "duration": 7,
    "start_time": "2022-12-02T14:28:39.093Z"
   },
   {
    "duration": 7,
    "start_time": "2022-12-02T14:28:40.116Z"
   },
   {
    "duration": 34,
    "start_time": "2022-12-02T14:35:29.534Z"
   },
   {
    "duration": 7,
    "start_time": "2022-12-02T14:35:47.847Z"
   },
   {
    "duration": 5,
    "start_time": "2022-12-02T14:37:51.784Z"
   },
   {
    "duration": 7,
    "start_time": "2022-12-02T14:38:14.620Z"
   },
   {
    "duration": 7,
    "start_time": "2022-12-02T14:42:01.042Z"
   },
   {
    "duration": 5,
    "start_time": "2022-12-02T14:42:21.127Z"
   },
   {
    "duration": 6,
    "start_time": "2022-12-02T14:56:42.008Z"
   },
   {
    "duration": 260,
    "start_time": "2022-12-02T14:56:42.020Z"
   },
   {
    "duration": 5,
    "start_time": "2022-12-02T14:56:48.054Z"
   },
   {
    "duration": 206,
    "start_time": "2022-12-02T15:00:41.987Z"
   },
   {
    "duration": 215,
    "start_time": "2022-12-02T15:01:02.512Z"
   },
   {
    "duration": 14,
    "start_time": "2022-12-02T15:01:14.828Z"
   },
   {
    "duration": 20,
    "start_time": "2022-12-02T15:01:15.383Z"
   },
   {
    "duration": 4,
    "start_time": "2022-12-02T15:09:04.204Z"
   },
   {
    "duration": 14,
    "start_time": "2022-12-02T15:09:38.781Z"
   },
   {
    "duration": 3,
    "start_time": "2022-12-02T15:14:06.998Z"
   },
   {
    "duration": 12,
    "start_time": "2022-12-02T15:15:05.170Z"
   },
   {
    "duration": 4,
    "start_time": "2022-12-02T15:15:15.150Z"
   },
   {
    "duration": 190,
    "start_time": "2022-12-02T15:15:55.195Z"
   },
   {
    "duration": 5,
    "start_time": "2022-12-02T15:16:41.851Z"
   },
   {
    "duration": 21,
    "start_time": "2022-12-02T15:20:10.377Z"
   },
   {
    "duration": 55,
    "start_time": "2022-12-02T15:20:16.362Z"
   },
   {
    "duration": 11,
    "start_time": "2022-12-02T15:20:17.122Z"
   },
   {
    "duration": 8,
    "start_time": "2022-12-02T15:20:18.237Z"
   },
   {
    "duration": 4,
    "start_time": "2022-12-02T15:22:09.753Z"
   },
   {
    "duration": 5,
    "start_time": "2022-12-02T15:22:25.797Z"
   },
   {
    "duration": 7,
    "start_time": "2022-12-02T15:22:27.172Z"
   },
   {
    "duration": 4,
    "start_time": "2022-12-02T15:22:32.660Z"
   },
   {
    "duration": 1275,
    "start_time": "2022-12-03T16:41:12.073Z"
   },
   {
    "duration": 250,
    "start_time": "2022-12-03T16:41:13.350Z"
   },
   {
    "duration": 14,
    "start_time": "2022-12-03T16:41:13.601Z"
   },
   {
    "duration": 18,
    "start_time": "2022-12-03T16:41:13.617Z"
   },
   {
    "duration": 3,
    "start_time": "2022-12-03T16:41:13.636Z"
   },
   {
    "duration": 12,
    "start_time": "2022-12-03T16:41:13.641Z"
   },
   {
    "duration": 5,
    "start_time": "2022-12-03T16:41:13.655Z"
   },
   {
    "duration": 41,
    "start_time": "2022-12-03T16:41:13.661Z"
   },
   {
    "duration": 5,
    "start_time": "2022-12-03T16:41:13.704Z"
   },
   {
    "duration": 10,
    "start_time": "2022-12-03T16:41:13.711Z"
   },
   {
    "duration": 89,
    "start_time": "2022-12-03T16:41:13.722Z"
   },
   {
    "duration": 69,
    "start_time": "2022-12-03T16:41:13.812Z"
   },
   {
    "duration": 90,
    "start_time": "2022-12-03T16:41:13.882Z"
   },
   {
    "duration": 27,
    "start_time": "2022-12-03T16:41:13.974Z"
   },
   {
    "duration": 19,
    "start_time": "2022-12-03T16:41:14.003Z"
   },
   {
    "duration": 7,
    "start_time": "2022-12-03T16:41:14.024Z"
   },
   {
    "duration": 32,
    "start_time": "2022-12-03T16:41:14.033Z"
   },
   {
    "duration": 32,
    "start_time": "2022-12-03T16:41:14.066Z"
   },
   {
    "duration": 7,
    "start_time": "2022-12-03T16:41:14.100Z"
   },
   {
    "duration": 5,
    "start_time": "2022-12-03T16:41:14.108Z"
   },
   {
    "duration": 4,
    "start_time": "2022-12-03T16:41:14.115Z"
   },
   {
    "duration": 348,
    "start_time": "2022-12-03T16:41:14.121Z"
   },
   {
    "duration": 12,
    "start_time": "2022-12-03T16:41:14.471Z"
   },
   {
    "duration": 29,
    "start_time": "2022-12-03T16:41:14.485Z"
   },
   {
    "duration": 4,
    "start_time": "2022-12-03T16:41:14.516Z"
   },
   {
    "duration": 8,
    "start_time": "2022-12-03T16:41:14.522Z"
   },
   {
    "duration": 17,
    "start_time": "2022-12-03T16:41:14.532Z"
   },
   {
    "duration": 9,
    "start_time": "2022-12-03T16:41:14.552Z"
   },
   {
    "duration": 216,
    "start_time": "2022-12-03T16:41:14.563Z"
   },
   {
    "duration": 16,
    "start_time": "2022-12-03T16:41:14.781Z"
   },
   {
    "duration": 20,
    "start_time": "2022-12-03T16:41:14.799Z"
   },
   {
    "duration": 58,
    "start_time": "2022-12-03T16:41:14.821Z"
   },
   {
    "duration": 24,
    "start_time": "2022-12-03T16:41:14.881Z"
   },
   {
    "duration": 8,
    "start_time": "2022-12-03T16:41:14.907Z"
   },
   {
    "duration": 9,
    "start_time": "2022-12-03T16:41:14.916Z"
   },
   {
    "duration": 11,
    "start_time": "2022-12-03T16:41:14.927Z"
   },
   {
    "duration": 10,
    "start_time": "2022-12-03T16:41:14.940Z"
   },
   {
    "duration": 8,
    "start_time": "2022-12-03T16:41:14.951Z"
   },
   {
    "duration": 145,
    "start_time": "2022-12-03T16:43:52.809Z"
   },
   {
    "duration": 10,
    "start_time": "2022-12-03T16:44:50.864Z"
   },
   {
    "duration": 9,
    "start_time": "2022-12-03T16:46:09.765Z"
   },
   {
    "duration": 384,
    "start_time": "2022-12-03T16:55:59.178Z"
   },
   {
    "duration": 61,
    "start_time": "2022-12-03T16:57:17.630Z"
   },
   {
    "duration": 45,
    "start_time": "2022-12-03T16:58:19.595Z"
   },
   {
    "duration": 43,
    "start_time": "2022-12-03T16:58:38.650Z"
   },
   {
    "duration": 148,
    "start_time": "2022-12-03T16:58:45.235Z"
   },
   {
    "duration": 10,
    "start_time": "2022-12-03T16:59:02.407Z"
   },
   {
    "duration": 17,
    "start_time": "2022-12-03T16:59:56.851Z"
   },
   {
    "duration": 7,
    "start_time": "2022-12-03T17:00:15.049Z"
   },
   {
    "duration": 12,
    "start_time": "2022-12-03T17:00:42.834Z"
   },
   {
    "duration": 44,
    "start_time": "2022-12-03T17:03:03.147Z"
   },
   {
    "duration": 44,
    "start_time": "2022-12-03T17:04:09.199Z"
   },
   {
    "duration": 11,
    "start_time": "2022-12-03T17:04:57.372Z"
   },
   {
    "duration": 47,
    "start_time": "2022-12-03T17:07:22.048Z"
   },
   {
    "duration": 10,
    "start_time": "2022-12-03T17:07:35.281Z"
   },
   {
    "duration": 33,
    "start_time": "2022-12-03T17:08:36.219Z"
   },
   {
    "duration": 15,
    "start_time": "2022-12-03T17:08:48.407Z"
   },
   {
    "duration": 16,
    "start_time": "2022-12-03T17:09:11.702Z"
   },
   {
    "duration": 9,
    "start_time": "2022-12-03T17:09:31.774Z"
   },
   {
    "duration": 10,
    "start_time": "2022-12-03T17:15:07.631Z"
   },
   {
    "duration": 23,
    "start_time": "2022-12-03T17:16:53.396Z"
   },
   {
    "duration": 14,
    "start_time": "2022-12-03T17:17:39.967Z"
   },
   {
    "duration": 22,
    "start_time": "2022-12-03T17:19:41.347Z"
   },
   {
    "duration": 11,
    "start_time": "2022-12-03T17:19:55.475Z"
   },
   {
    "duration": 21,
    "start_time": "2022-12-03T17:20:04.298Z"
   },
   {
    "duration": 11,
    "start_time": "2022-12-03T17:20:07.573Z"
   },
   {
    "duration": 12,
    "start_time": "2022-12-03T17:20:12.746Z"
   },
   {
    "duration": 11,
    "start_time": "2022-12-03T17:20:50.746Z"
   },
   {
    "duration": 48,
    "start_time": "2022-12-03T17:27:58.750Z"
   },
   {
    "duration": 9,
    "start_time": "2022-12-03T17:28:05.608Z"
   },
   {
    "duration": 9,
    "start_time": "2022-12-03T17:28:26.907Z"
   },
   {
    "duration": 9,
    "start_time": "2022-12-03T17:28:55.532Z"
   },
   {
    "duration": 9,
    "start_time": "2022-12-03T17:29:07.200Z"
   },
   {
    "duration": 18,
    "start_time": "2022-12-03T17:35:01.447Z"
   },
   {
    "duration": 9,
    "start_time": "2022-12-03T17:35:27.682Z"
   },
   {
    "duration": 10,
    "start_time": "2022-12-03T17:36:52.656Z"
   },
   {
    "duration": 44,
    "start_time": "2022-12-03T17:42:09.973Z"
   },
   {
    "duration": 11,
    "start_time": "2022-12-03T17:42:28.853Z"
   },
   {
    "duration": 42,
    "start_time": "2022-12-03T17:42:41.710Z"
   },
   {
    "duration": 10,
    "start_time": "2022-12-03T17:43:48.521Z"
   },
   {
    "duration": 12,
    "start_time": "2022-12-03T17:50:21.093Z"
   },
   {
    "duration": 14,
    "start_time": "2022-12-03T17:50:31.450Z"
   },
   {
    "duration": 21,
    "start_time": "2022-12-03T17:50:51.301Z"
   },
   {
    "duration": 11,
    "start_time": "2022-12-03T17:51:18.656Z"
   },
   {
    "duration": 11,
    "start_time": "2022-12-03T18:00:47.818Z"
   },
   {
    "duration": 8,
    "start_time": "2022-12-03T18:03:39.395Z"
   },
   {
    "duration": 9,
    "start_time": "2022-12-03T18:03:40.461Z"
   },
   {
    "duration": 4,
    "start_time": "2022-12-03T18:04:12.700Z"
   },
   {
    "duration": 9,
    "start_time": "2022-12-03T18:04:13.398Z"
   },
   {
    "duration": 10,
    "start_time": "2022-12-03T18:04:18.134Z"
   },
   {
    "duration": 9,
    "start_time": "2022-12-03T18:04:49.213Z"
   },
   {
    "duration": 12,
    "start_time": "2022-12-03T18:04:49.664Z"
   },
   {
    "duration": 13,
    "start_time": "2022-12-03T18:04:51.312Z"
   },
   {
    "duration": 12,
    "start_time": "2022-12-03T18:04:52.593Z"
   },
   {
    "duration": 6,
    "start_time": "2022-12-03T18:04:53.312Z"
   },
   {
    "duration": 5,
    "start_time": "2022-12-03T18:04:53.690Z"
   },
   {
    "duration": 6,
    "start_time": "2022-12-03T18:04:54.290Z"
   },
   {
    "duration": 18,
    "start_time": "2022-12-03T18:05:07.642Z"
   },
   {
    "duration": 4,
    "start_time": "2022-12-03T18:05:07.910Z"
   },
   {
    "duration": 34,
    "start_time": "2022-12-03T18:05:17.431Z"
   },
   {
    "duration": 30,
    "start_time": "2022-12-03T18:05:17.848Z"
   },
   {
    "duration": 7,
    "start_time": "2022-12-03T18:05:18.262Z"
   },
   {
    "duration": 7,
    "start_time": "2022-12-03T18:05:18.680Z"
   },
   {
    "duration": 5,
    "start_time": "2022-12-03T18:05:22.750Z"
   },
   {
    "duration": 9,
    "start_time": "2022-12-03T18:05:22.990Z"
   },
   {
    "duration": 5,
    "start_time": "2022-12-03T18:05:23.192Z"
   },
   {
    "duration": 8,
    "start_time": "2022-12-03T18:05:23.391Z"
   },
   {
    "duration": 11,
    "start_time": "2022-12-03T18:10:26.366Z"
   },
   {
    "duration": 5,
    "start_time": "2022-12-03T18:19:35.343Z"
   },
   {
    "duration": 14,
    "start_time": "2022-12-03T18:23:05.476Z"
   },
   {
    "duration": 5,
    "start_time": "2022-12-03T18:23:27.276Z"
   },
   {
    "duration": 14,
    "start_time": "2022-12-03T18:23:30.972Z"
   },
   {
    "duration": 48,
    "start_time": "2022-12-03T18:23:51.902Z"
   },
   {
    "duration": 5,
    "start_time": "2022-12-03T18:23:59.325Z"
   },
   {
    "duration": 11,
    "start_time": "2022-12-03T18:24:04.753Z"
   },
   {
    "duration": 11,
    "start_time": "2022-12-03T18:24:12.255Z"
   },
   {
    "duration": 6,
    "start_time": "2022-12-03T18:24:54.884Z"
   },
   {
    "duration": 11,
    "start_time": "2022-12-03T18:24:59.179Z"
   },
   {
    "duration": 7,
    "start_time": "2022-12-03T18:27:08.688Z"
   },
   {
    "duration": 17,
    "start_time": "2022-12-03T18:27:13.847Z"
   },
   {
    "duration": 5,
    "start_time": "2022-12-03T18:27:59.262Z"
   },
   {
    "duration": 10,
    "start_time": "2022-12-03T18:28:03.265Z"
   },
   {
    "duration": 19,
    "start_time": "2022-12-03T18:29:02.031Z"
   },
   {
    "duration": 4,
    "start_time": "2022-12-03T18:29:18.624Z"
   },
   {
    "duration": 8,
    "start_time": "2022-12-03T18:29:20.117Z"
   },
   {
    "duration": 4,
    "start_time": "2022-12-03T18:29:56.775Z"
   },
   {
    "duration": 7,
    "start_time": "2022-12-03T18:29:57.901Z"
   },
   {
    "duration": 8,
    "start_time": "2022-12-03T18:29:58.803Z"
   },
   {
    "duration": 1080,
    "start_time": "2022-12-03T18:32:24.515Z"
   },
   {
    "duration": 149,
    "start_time": "2022-12-03T18:32:25.596Z"
   },
   {
    "duration": 12,
    "start_time": "2022-12-03T18:32:25.747Z"
   },
   {
    "duration": 35,
    "start_time": "2022-12-03T18:32:25.761Z"
   },
   {
    "duration": 3,
    "start_time": "2022-12-03T18:32:25.798Z"
   },
   {
    "duration": 17,
    "start_time": "2022-12-03T18:32:25.802Z"
   },
   {
    "duration": 5,
    "start_time": "2022-12-03T18:32:25.821Z"
   },
   {
    "duration": 24,
    "start_time": "2022-12-03T18:32:25.828Z"
   },
   {
    "duration": 5,
    "start_time": "2022-12-03T18:32:25.854Z"
   },
   {
    "duration": 10,
    "start_time": "2022-12-03T18:32:25.863Z"
   },
   {
    "duration": 86,
    "start_time": "2022-12-03T18:32:25.897Z"
   },
   {
    "duration": 90,
    "start_time": "2022-12-03T18:32:25.985Z"
   },
   {
    "duration": 105,
    "start_time": "2022-12-03T18:32:26.077Z"
   },
   {
    "duration": 23,
    "start_time": "2022-12-03T18:32:26.185Z"
   },
   {
    "duration": 18,
    "start_time": "2022-12-03T18:32:26.209Z"
   },
   {
    "duration": 6,
    "start_time": "2022-12-03T18:32:26.229Z"
   },
   {
    "duration": 34,
    "start_time": "2022-12-03T18:32:26.237Z"
   },
   {
    "duration": 26,
    "start_time": "2022-12-03T18:32:26.272Z"
   },
   {
    "duration": 10,
    "start_time": "2022-12-03T18:32:26.300Z"
   },
   {
    "duration": 6,
    "start_time": "2022-12-03T18:32:26.311Z"
   },
   {
    "duration": 11,
    "start_time": "2022-12-03T18:32:26.319Z"
   },
   {
    "duration": 306,
    "start_time": "2022-12-03T18:32:26.332Z"
   },
   {
    "duration": 12,
    "start_time": "2022-12-03T18:32:26.640Z"
   },
   {
    "duration": 23,
    "start_time": "2022-12-03T18:32:26.653Z"
   },
   {
    "duration": 7,
    "start_time": "2022-12-03T18:32:26.697Z"
   },
   {
    "duration": 17,
    "start_time": "2022-12-03T18:32:26.705Z"
   },
   {
    "duration": 25,
    "start_time": "2022-12-03T18:32:26.724Z"
   },
   {
    "duration": 10,
    "start_time": "2022-12-03T18:32:26.752Z"
   },
   {
    "duration": 208,
    "start_time": "2022-12-03T18:32:26.764Z"
   },
   {
    "duration": 6,
    "start_time": "2022-12-03T18:32:26.974Z"
   },
   {
    "duration": 31,
    "start_time": "2022-12-03T18:32:26.981Z"
   },
   {
    "duration": 57,
    "start_time": "2022-12-03T18:32:27.014Z"
   },
   {
    "duration": 31,
    "start_time": "2022-12-03T18:32:27.072Z"
   },
   {
    "duration": 9,
    "start_time": "2022-12-03T18:32:27.105Z"
   },
   {
    "duration": 5,
    "start_time": "2022-12-03T18:32:27.115Z"
   },
   {
    "duration": 7,
    "start_time": "2022-12-03T18:32:27.122Z"
   },
   {
    "duration": 12,
    "start_time": "2022-12-03T18:32:27.130Z"
   },
   {
    "duration": 166,
    "start_time": "2022-12-03T18:32:27.144Z"
   },
   {
    "duration": 4,
    "start_time": "2022-12-03T18:32:27.312Z"
   },
   {
    "duration": 18,
    "start_time": "2022-12-03T18:32:27.317Z"
   },
   {
    "duration": 19,
    "start_time": "2022-12-03T18:32:27.336Z"
   },
   {
    "duration": 50,
    "start_time": "2022-12-03T18:32:27.356Z"
   },
   {
    "duration": 12,
    "start_time": "2022-12-03T18:32:27.407Z"
   },
   {
    "duration": 6,
    "start_time": "2022-12-03T18:32:27.421Z"
   },
   {
    "duration": 8,
    "start_time": "2022-12-03T18:32:27.428Z"
   },
   {
    "duration": 11,
    "start_time": "2022-12-03T18:32:27.437Z"
   },
   {
    "duration": 8,
    "start_time": "2022-12-03T18:32:27.497Z"
   },
   {
    "duration": 20,
    "start_time": "2022-12-03T18:32:27.507Z"
   },
   {
    "duration": 4,
    "start_time": "2022-12-03T18:32:27.529Z"
   },
   {
    "duration": 33,
    "start_time": "2022-12-03T18:32:27.534Z"
   },
   {
    "duration": 55,
    "start_time": "2022-12-03T18:32:27.569Z"
   },
   {
    "duration": 3,
    "start_time": "2022-12-03T18:32:27.625Z"
   },
   {
    "duration": 6,
    "start_time": "2022-12-03T18:32:27.630Z"
   },
   {
    "duration": 8,
    "start_time": "2022-12-03T18:32:27.638Z"
   },
   {
    "duration": 9,
    "start_time": "2022-12-03T18:32:27.647Z"
   },
   {
    "duration": 6,
    "start_time": "2022-12-03T18:32:27.657Z"
   },
   {
    "duration": 33,
    "start_time": "2022-12-03T18:32:27.665Z"
   },
   {
    "duration": 6,
    "start_time": "2022-12-03T18:32:27.699Z"
   },
   {
    "duration": 11,
    "start_time": "2022-12-03T18:32:27.706Z"
   },
   {
    "duration": 6,
    "start_time": "2022-12-03T18:35:34.834Z"
   },
   {
    "duration": 8,
    "start_time": "2022-12-03T18:35:42.415Z"
   },
   {
    "duration": 36,
    "start_time": "2022-12-03T18:37:46.922Z"
   },
   {
    "duration": 39,
    "start_time": "2022-12-03T18:38:26.895Z"
   },
   {
    "duration": 5,
    "start_time": "2022-12-03T18:38:27.318Z"
   },
   {
    "duration": 4,
    "start_time": "2022-12-03T18:38:27.716Z"
   },
   {
    "duration": 9,
    "start_time": "2022-12-03T18:38:28.314Z"
   },
   {
    "duration": 10,
    "start_time": "2022-12-03T18:38:36.380Z"
   },
   {
    "duration": 10,
    "start_time": "2022-12-03T18:38:54.257Z"
   },
   {
    "duration": 12,
    "start_time": "2022-12-03T18:38:57.894Z"
   },
   {
    "duration": 67,
    "start_time": "2022-12-03T18:39:24.729Z"
   },
   {
    "duration": 31,
    "start_time": "2022-12-03T18:39:24.798Z"
   },
   {
    "duration": 9,
    "start_time": "2022-12-03T18:39:25.144Z"
   },
   {
    "duration": 4,
    "start_time": "2022-12-03T18:39:44.028Z"
   },
   {
    "duration": 8,
    "start_time": "2022-12-03T18:39:44.552Z"
   },
   {
    "duration": 9,
    "start_time": "2022-12-03T18:39:48.669Z"
   },
   {
    "duration": 4,
    "start_time": "2022-12-03T18:41:38.921Z"
   },
   {
    "duration": 4,
    "start_time": "2022-12-03T18:46:12.928Z"
   },
   {
    "duration": 4,
    "start_time": "2022-12-03T19:49:30.172Z"
   },
   {
    "duration": 4,
    "start_time": "2022-12-03T19:52:07.489Z"
   },
   {
    "duration": 5,
    "start_time": "2022-12-03T19:59:04.980Z"
   },
   {
    "duration": 4,
    "start_time": "2022-12-03T19:59:06.806Z"
   },
   {
    "duration": 1086,
    "start_time": "2022-12-03T20:14:24.559Z"
   },
   {
    "duration": 154,
    "start_time": "2022-12-03T20:14:25.647Z"
   },
   {
    "duration": 12,
    "start_time": "2022-12-03T20:14:25.802Z"
   },
   {
    "duration": 20,
    "start_time": "2022-12-03T20:14:25.816Z"
   },
   {
    "duration": 3,
    "start_time": "2022-12-03T20:14:25.838Z"
   },
   {
    "duration": 18,
    "start_time": "2022-12-03T20:14:25.843Z"
   },
   {
    "duration": 6,
    "start_time": "2022-12-03T20:14:25.862Z"
   },
   {
    "duration": 26,
    "start_time": "2022-12-03T20:14:25.897Z"
   },
   {
    "duration": 6,
    "start_time": "2022-12-03T20:14:25.925Z"
   },
   {
    "duration": 30,
    "start_time": "2022-12-03T20:14:25.935Z"
   },
   {
    "duration": 102,
    "start_time": "2022-12-03T20:14:25.966Z"
   },
   {
    "duration": 96,
    "start_time": "2022-12-03T20:14:26.071Z"
   },
   {
    "duration": 100,
    "start_time": "2022-12-03T20:14:26.169Z"
   },
   {
    "duration": 14,
    "start_time": "2022-12-03T20:14:26.271Z"
   },
   {
    "duration": 18,
    "start_time": "2022-12-03T20:14:26.297Z"
   },
   {
    "duration": 7,
    "start_time": "2022-12-03T20:14:26.317Z"
   },
   {
    "duration": 31,
    "start_time": "2022-12-03T20:14:26.326Z"
   },
   {
    "duration": 7,
    "start_time": "2022-12-03T20:14:26.359Z"
   },
   {
    "duration": 35,
    "start_time": "2022-12-03T20:14:26.367Z"
   },
   {
    "duration": 6,
    "start_time": "2022-12-03T20:14:26.404Z"
   },
   {
    "duration": 9,
    "start_time": "2022-12-03T20:14:26.412Z"
   },
   {
    "duration": 314,
    "start_time": "2022-12-03T20:14:26.422Z"
   },
   {
    "duration": 14,
    "start_time": "2022-12-03T20:14:26.738Z"
   },
   {
    "duration": 20,
    "start_time": "2022-12-03T20:14:26.753Z"
   },
   {
    "duration": 23,
    "start_time": "2022-12-03T20:14:26.775Z"
   },
   {
    "duration": 7,
    "start_time": "2022-12-03T20:14:26.800Z"
   },
   {
    "duration": 16,
    "start_time": "2022-12-03T20:14:26.809Z"
   },
   {
    "duration": 10,
    "start_time": "2022-12-03T20:14:26.829Z"
   },
   {
    "duration": 221,
    "start_time": "2022-12-03T20:14:26.841Z"
   },
   {
    "duration": 6,
    "start_time": "2022-12-03T20:14:27.064Z"
   },
   {
    "duration": 35,
    "start_time": "2022-12-03T20:14:27.072Z"
   },
   {
    "duration": 59,
    "start_time": "2022-12-03T20:14:27.109Z"
   },
   {
    "duration": 28,
    "start_time": "2022-12-03T20:14:27.170Z"
   },
   {
    "duration": 8,
    "start_time": "2022-12-03T20:14:27.200Z"
   },
   {
    "duration": 13,
    "start_time": "2022-12-03T20:14:27.209Z"
   },
   {
    "duration": 7,
    "start_time": "2022-12-03T20:14:27.223Z"
   },
   {
    "duration": 17,
    "start_time": "2022-12-03T20:14:27.231Z"
   },
   {
    "duration": 171,
    "start_time": "2022-12-03T20:14:27.250Z"
   },
   {
    "duration": 4,
    "start_time": "2022-12-03T20:14:27.423Z"
   },
   {
    "duration": 14,
    "start_time": "2022-12-03T20:14:27.429Z"
   },
   {
    "duration": 17,
    "start_time": "2022-12-03T20:14:27.445Z"
   },
   {
    "duration": 12,
    "start_time": "2022-12-03T20:14:27.496Z"
   },
   {
    "duration": 13,
    "start_time": "2022-12-03T20:14:27.510Z"
   },
   {
    "duration": 6,
    "start_time": "2022-12-03T20:14:27.525Z"
   },
   {
    "duration": 7,
    "start_time": "2022-12-03T20:14:27.532Z"
   },
   {
    "duration": 7,
    "start_time": "2022-12-03T20:14:27.540Z"
   },
   {
    "duration": 9,
    "start_time": "2022-12-03T20:14:27.596Z"
   },
   {
    "duration": 19,
    "start_time": "2022-12-03T20:14:27.607Z"
   },
   {
    "duration": 4,
    "start_time": "2022-12-03T20:14:27.628Z"
   },
   {
    "duration": 33,
    "start_time": "2022-12-03T20:14:27.634Z"
   },
   {
    "duration": 54,
    "start_time": "2022-12-03T20:14:27.668Z"
   },
   {
    "duration": 3,
    "start_time": "2022-12-03T20:14:27.724Z"
   },
   {
    "duration": 7,
    "start_time": "2022-12-03T20:14:27.729Z"
   },
   {
    "duration": 9,
    "start_time": "2022-12-03T20:14:27.738Z"
   },
   {
    "duration": 7,
    "start_time": "2022-12-03T20:14:27.748Z"
   },
   {
    "duration": 6,
    "start_time": "2022-12-03T20:14:27.757Z"
   },
   {
    "duration": 35,
    "start_time": "2022-12-03T20:14:27.764Z"
   },
   {
    "duration": 8,
    "start_time": "2022-12-03T20:14:27.801Z"
   },
   {
    "duration": 11,
    "start_time": "2022-12-03T20:14:27.810Z"
   },
   {
    "duration": 11,
    "start_time": "2022-12-03T20:14:27.823Z"
   },
   {
    "duration": 16,
    "start_time": "2022-12-03T20:14:27.835Z"
   },
   {
    "duration": 47,
    "start_time": "2022-12-03T20:14:27.853Z"
   },
   {
    "duration": 7,
    "start_time": "2022-12-03T20:14:27.902Z"
   },
   {
    "duration": 19,
    "start_time": "2022-12-03T20:14:27.911Z"
   },
   {
    "duration": 16,
    "start_time": "2022-12-03T20:14:27.931Z"
   },
   {
    "duration": 15,
    "start_time": "2022-12-03T20:14:27.948Z"
   },
   {
    "duration": 16,
    "start_time": "2022-12-03T20:14:27.965Z"
   },
   {
    "duration": 63,
    "start_time": "2022-12-03T20:14:27.982Z"
   },
   {
    "duration": 31,
    "start_time": "2022-12-03T20:14:28.047Z"
   },
   {
    "duration": 4,
    "start_time": "2022-12-03T20:14:28.079Z"
   },
   {
    "duration": 8,
    "start_time": "2022-12-03T20:14:28.097Z"
   },
   {
    "duration": 11,
    "start_time": "2022-12-03T20:14:28.107Z"
   },
   {
    "duration": 8,
    "start_time": "2022-12-03T20:14:28.120Z"
   },
   {
    "duration": 9,
    "start_time": "2022-12-03T20:14:28.129Z"
   },
   {
    "duration": 6,
    "start_time": "2022-12-03T20:14:28.140Z"
   },
   {
    "duration": 1099,
    "start_time": "2022-12-04T20:05:39.554Z"
   },
   {
    "duration": 256,
    "start_time": "2022-12-04T20:05:40.655Z"
   },
   {
    "duration": 13,
    "start_time": "2022-12-04T20:05:40.912Z"
   },
   {
    "duration": 21,
    "start_time": "2022-12-04T20:05:40.927Z"
   },
   {
    "duration": 3,
    "start_time": "2022-12-04T20:05:40.949Z"
   },
   {
    "duration": 13,
    "start_time": "2022-12-04T20:05:40.954Z"
   },
   {
    "duration": 5,
    "start_time": "2022-12-04T20:05:40.969Z"
   },
   {
    "duration": 26,
    "start_time": "2022-12-04T20:05:40.975Z"
   },
   {
    "duration": 5,
    "start_time": "2022-12-04T20:05:41.002Z"
   },
   {
    "duration": 13,
    "start_time": "2022-12-04T20:05:41.010Z"
   },
   {
    "duration": 92,
    "start_time": "2022-12-04T20:05:41.024Z"
   },
   {
    "duration": 79,
    "start_time": "2022-12-04T20:05:41.117Z"
   },
   {
    "duration": 78,
    "start_time": "2022-12-04T20:05:41.198Z"
   },
   {
    "duration": 24,
    "start_time": "2022-12-04T20:05:41.278Z"
   },
   {
    "duration": 22,
    "start_time": "2022-12-04T20:05:41.304Z"
   },
   {
    "duration": 8,
    "start_time": "2022-12-04T20:05:41.328Z"
   },
   {
    "duration": 63,
    "start_time": "2022-12-04T20:05:41.337Z"
   },
   {
    "duration": 6,
    "start_time": "2022-12-04T20:05:41.401Z"
   },
   {
    "duration": 10,
    "start_time": "2022-12-04T20:05:41.409Z"
   },
   {
    "duration": 7,
    "start_time": "2022-12-04T20:05:41.421Z"
   },
   {
    "duration": 5,
    "start_time": "2022-12-04T20:05:41.430Z"
   },
   {
    "duration": 348,
    "start_time": "2022-12-04T20:05:41.437Z"
   },
   {
    "duration": 17,
    "start_time": "2022-12-04T20:05:41.787Z"
   },
   {
    "duration": 23,
    "start_time": "2022-12-04T20:05:41.806Z"
   },
   {
    "duration": 4,
    "start_time": "2022-12-04T20:05:41.831Z"
   },
   {
    "duration": 9,
    "start_time": "2022-12-04T20:05:41.837Z"
   },
   {
    "duration": 16,
    "start_time": "2022-12-04T20:05:41.848Z"
   },
   {
    "duration": 35,
    "start_time": "2022-12-04T20:05:41.868Z"
   },
   {
    "duration": 251,
    "start_time": "2022-12-04T20:05:41.905Z"
   },
   {
    "duration": 6,
    "start_time": "2022-12-04T20:05:42.158Z"
   },
   {
    "duration": 35,
    "start_time": "2022-12-04T20:05:42.166Z"
   },
   {
    "duration": 57,
    "start_time": "2022-12-04T20:05:42.203Z"
   },
   {
    "duration": 11,
    "start_time": "2022-12-04T20:05:42.261Z"
   },
   {
    "duration": 25,
    "start_time": "2022-12-04T20:05:42.274Z"
   },
   {
    "duration": 11,
    "start_time": "2022-12-04T20:05:42.301Z"
   },
   {
    "duration": 10,
    "start_time": "2022-12-04T20:05:42.314Z"
   },
   {
    "duration": 18,
    "start_time": "2022-12-04T20:05:42.326Z"
   },
   {
    "duration": 223,
    "start_time": "2022-12-04T20:05:42.346Z"
   },
   {
    "duration": 4,
    "start_time": "2022-12-04T20:05:42.571Z"
   },
   {
    "duration": 21,
    "start_time": "2022-12-04T20:05:42.576Z"
   },
   {
    "duration": 15,
    "start_time": "2022-12-04T20:05:42.599Z"
   },
   {
    "duration": 11,
    "start_time": "2022-12-04T20:05:42.615Z"
   },
   {
    "duration": 12,
    "start_time": "2022-12-04T20:05:42.628Z"
   },
   {
    "duration": 6,
    "start_time": "2022-12-04T20:05:42.697Z"
   },
   {
    "duration": 8,
    "start_time": "2022-12-04T20:05:42.704Z"
   },
   {
    "duration": 7,
    "start_time": "2022-12-04T20:05:42.714Z"
   },
   {
    "duration": 9,
    "start_time": "2022-12-04T20:05:42.722Z"
   },
   {
    "duration": 20,
    "start_time": "2022-12-04T20:05:42.733Z"
   },
   {
    "duration": 5,
    "start_time": "2022-12-04T20:05:42.754Z"
   },
   {
    "duration": 76,
    "start_time": "2022-12-04T20:05:42.761Z"
   },
   {
    "duration": 40,
    "start_time": "2022-12-04T20:05:42.839Z"
   },
   {
    "duration": 16,
    "start_time": "2022-12-04T20:05:42.881Z"
   },
   {
    "duration": 8,
    "start_time": "2022-12-04T20:05:42.899Z"
   },
   {
    "duration": 11,
    "start_time": "2022-12-04T20:05:42.909Z"
   },
   {
    "duration": 9,
    "start_time": "2022-12-04T20:05:42.921Z"
   },
   {
    "duration": 9,
    "start_time": "2022-12-04T20:05:42.931Z"
   },
   {
    "duration": 11,
    "start_time": "2022-12-04T20:05:42.941Z"
   },
   {
    "duration": 6,
    "start_time": "2022-12-04T20:05:42.954Z"
   },
   {
    "duration": 16,
    "start_time": "2022-12-04T20:05:42.961Z"
   },
   {
    "duration": 23,
    "start_time": "2022-12-04T20:05:42.978Z"
   },
   {
    "duration": 18,
    "start_time": "2022-12-04T20:05:43.002Z"
   },
   {
    "duration": 31,
    "start_time": "2022-12-04T20:05:43.021Z"
   },
   {
    "duration": 5,
    "start_time": "2022-12-04T20:05:43.054Z"
   },
   {
    "duration": 6,
    "start_time": "2022-12-04T20:05:43.061Z"
   },
   {
    "duration": 29,
    "start_time": "2022-12-04T20:05:43.069Z"
   },
   {
    "duration": 14,
    "start_time": "2022-12-04T20:05:43.100Z"
   },
   {
    "duration": 11,
    "start_time": "2022-12-04T20:05:43.116Z"
   },
   {
    "duration": 70,
    "start_time": "2022-12-04T20:05:43.129Z"
   },
   {
    "duration": 30,
    "start_time": "2022-12-04T20:05:43.201Z"
   },
   {
    "duration": 4,
    "start_time": "2022-12-04T20:05:43.233Z"
   },
   {
    "duration": 14,
    "start_time": "2022-12-04T20:05:43.239Z"
   },
   {
    "duration": 12,
    "start_time": "2022-12-04T20:05:43.255Z"
   },
   {
    "duration": 29,
    "start_time": "2022-12-04T20:05:43.269Z"
   },
   {
    "duration": 15,
    "start_time": "2022-12-04T20:05:43.300Z"
   },
   {
    "duration": 14,
    "start_time": "2022-12-04T20:05:43.317Z"
   },
   {
    "duration": 1133,
    "start_time": "2022-12-04T20:07:41.315Z"
   },
   {
    "duration": 157,
    "start_time": "2022-12-04T20:07:42.453Z"
   },
   {
    "duration": 14,
    "start_time": "2022-12-04T20:07:42.612Z"
   },
   {
    "duration": 22,
    "start_time": "2022-12-04T20:07:42.629Z"
   },
   {
    "duration": 3,
    "start_time": "2022-12-04T20:07:42.653Z"
   },
   {
    "duration": 13,
    "start_time": "2022-12-04T20:07:42.658Z"
   },
   {
    "duration": 25,
    "start_time": "2022-12-04T20:07:42.673Z"
   },
   {
    "duration": 20,
    "start_time": "2022-12-04T20:07:42.700Z"
   },
   {
    "duration": 6,
    "start_time": "2022-12-04T20:07:42.721Z"
   },
   {
    "duration": 10,
    "start_time": "2022-12-04T20:07:42.730Z"
   },
   {
    "duration": 103,
    "start_time": "2022-12-04T20:07:42.742Z"
   },
   {
    "duration": 84,
    "start_time": "2022-12-04T20:07:42.847Z"
   },
   {
    "duration": 87,
    "start_time": "2022-12-04T20:07:42.933Z"
   },
   {
    "duration": 20,
    "start_time": "2022-12-04T20:07:43.022Z"
   },
   {
    "duration": 19,
    "start_time": "2022-12-04T20:07:43.043Z"
   },
   {
    "duration": 7,
    "start_time": "2022-12-04T20:07:43.064Z"
   },
   {
    "duration": 54,
    "start_time": "2022-12-04T20:07:43.072Z"
   },
   {
    "duration": 7,
    "start_time": "2022-12-04T20:07:43.127Z"
   },
   {
    "duration": 8,
    "start_time": "2022-12-04T20:07:43.136Z"
   },
   {
    "duration": 6,
    "start_time": "2022-12-04T20:07:43.146Z"
   },
   {
    "duration": 7,
    "start_time": "2022-12-04T20:07:43.153Z"
   },
   {
    "duration": 337,
    "start_time": "2022-12-04T20:07:43.161Z"
   },
   {
    "duration": 12,
    "start_time": "2022-12-04T20:07:43.500Z"
   },
   {
    "duration": 20,
    "start_time": "2022-12-04T20:07:43.514Z"
   },
   {
    "duration": 4,
    "start_time": "2022-12-04T20:07:43.536Z"
   },
   {
    "duration": 20,
    "start_time": "2022-12-04T20:07:43.542Z"
   },
   {
    "duration": 45,
    "start_time": "2022-12-04T20:07:43.564Z"
   },
   {
    "duration": 11,
    "start_time": "2022-12-04T20:07:43.613Z"
   },
   {
    "duration": 234,
    "start_time": "2022-12-04T20:07:43.625Z"
   },
   {
    "duration": 5,
    "start_time": "2022-12-04T20:07:43.861Z"
   },
   {
    "duration": 39,
    "start_time": "2022-12-04T20:07:43.867Z"
   },
   {
    "duration": 58,
    "start_time": "2022-12-04T20:07:43.908Z"
   },
   {
    "duration": 10,
    "start_time": "2022-12-04T20:07:43.968Z"
   },
   {
    "duration": 24,
    "start_time": "2022-12-04T20:07:43.979Z"
   },
   {
    "duration": 6,
    "start_time": "2022-12-04T20:07:44.004Z"
   },
   {
    "duration": 7,
    "start_time": "2022-12-04T20:07:44.011Z"
   },
   {
    "duration": 13,
    "start_time": "2022-12-04T20:07:44.020Z"
   },
   {
    "duration": 245,
    "start_time": "2022-12-04T20:07:44.035Z"
   },
   {
    "duration": 5,
    "start_time": "2022-12-04T20:07:44.283Z"
   },
   {
    "duration": 14,
    "start_time": "2022-12-04T20:07:44.289Z"
   },
   {
    "duration": 18,
    "start_time": "2022-12-04T20:07:44.305Z"
   },
   {
    "duration": 12,
    "start_time": "2022-12-04T20:07:44.325Z"
   },
   {
    "duration": 61,
    "start_time": "2022-12-04T20:07:44.339Z"
   },
   {
    "duration": 5,
    "start_time": "2022-12-04T20:07:44.402Z"
   },
   {
    "duration": 8,
    "start_time": "2022-12-04T20:07:44.409Z"
   },
   {
    "duration": 12,
    "start_time": "2022-12-04T20:07:44.418Z"
   },
   {
    "duration": 10,
    "start_time": "2022-12-04T20:07:44.431Z"
   },
   {
    "duration": 18,
    "start_time": "2022-12-04T20:07:44.442Z"
   },
   {
    "duration": 37,
    "start_time": "2022-12-04T20:07:44.462Z"
   },
   {
    "duration": 35,
    "start_time": "2022-12-04T20:07:44.500Z"
   },
   {
    "duration": 29,
    "start_time": "2022-12-04T20:07:44.536Z"
   },
   {
    "duration": 4,
    "start_time": "2022-12-04T20:07:44.566Z"
   },
   {
    "duration": 25,
    "start_time": "2022-12-04T20:07:44.572Z"
   },
   {
    "duration": 9,
    "start_time": "2022-12-04T20:07:44.598Z"
   },
   {
    "duration": 8,
    "start_time": "2022-12-04T20:07:44.609Z"
   },
   {
    "duration": 8,
    "start_time": "2022-12-04T20:07:44.619Z"
   },
   {
    "duration": 9,
    "start_time": "2022-12-04T20:07:44.629Z"
   },
   {
    "duration": 7,
    "start_time": "2022-12-04T20:07:44.640Z"
   },
   {
    "duration": 10,
    "start_time": "2022-12-04T20:07:44.649Z"
   },
   {
    "duration": 36,
    "start_time": "2022-12-04T20:07:44.661Z"
   },
   {
    "duration": 10,
    "start_time": "2022-12-04T20:07:44.699Z"
   },
   {
    "duration": 32,
    "start_time": "2022-12-04T20:07:44.710Z"
   },
   {
    "duration": 5,
    "start_time": "2022-12-04T20:07:44.743Z"
   },
   {
    "duration": 7,
    "start_time": "2022-12-04T20:07:44.749Z"
   },
   {
    "duration": 41,
    "start_time": "2022-12-04T20:07:44.757Z"
   },
   {
    "duration": 12,
    "start_time": "2022-12-04T20:07:44.800Z"
   },
   {
    "duration": 9,
    "start_time": "2022-12-04T20:07:44.814Z"
   },
   {
    "duration": 77,
    "start_time": "2022-12-04T20:07:44.824Z"
   },
   {
    "duration": 31,
    "start_time": "2022-12-04T20:07:44.903Z"
   },
   {
    "duration": 5,
    "start_time": "2022-12-04T20:07:44.936Z"
   },
   {
    "duration": 24,
    "start_time": "2022-12-04T20:07:44.943Z"
   },
   {
    "duration": 22,
    "start_time": "2022-12-04T20:07:44.969Z"
   },
   {
    "duration": 4,
    "start_time": "2022-12-04T20:07:44.997Z"
   },
   {
    "duration": 32,
    "start_time": "2022-12-04T20:07:45.002Z"
   },
   {
    "duration": 11,
    "start_time": "2022-12-04T20:07:45.035Z"
   },
   {
    "duration": 1390,
    "start_time": "2022-12-04T20:30:42.433Z"
   },
   {
    "duration": 973,
    "start_time": "2022-12-04T20:30:43.827Z"
   },
   {
    "duration": 13,
    "start_time": "2022-12-04T20:30:44.802Z"
   },
   {
    "duration": 36,
    "start_time": "2022-12-04T20:30:44.816Z"
   },
   {
    "duration": 3,
    "start_time": "2022-12-04T20:30:44.856Z"
   },
   {
    "duration": 15,
    "start_time": "2022-12-04T20:30:44.861Z"
   },
   {
    "duration": 6,
    "start_time": "2022-12-04T20:30:44.878Z"
   },
   {
    "duration": 17,
    "start_time": "2022-12-04T20:30:44.885Z"
   },
   {
    "duration": 4,
    "start_time": "2022-12-04T20:30:44.904Z"
   },
   {
    "duration": 14,
    "start_time": "2022-12-04T20:30:44.923Z"
   },
   {
    "duration": 115,
    "start_time": "2022-12-04T20:30:44.938Z"
   },
   {
    "duration": 102,
    "start_time": "2022-12-04T20:30:45.055Z"
   },
   {
    "duration": 90,
    "start_time": "2022-12-04T20:30:45.159Z"
   },
   {
    "duration": 17,
    "start_time": "2022-12-04T20:30:45.251Z"
   },
   {
    "duration": 18,
    "start_time": "2022-12-04T20:30:45.271Z"
   },
   {
    "duration": 7,
    "start_time": "2022-12-04T20:30:45.290Z"
   },
   {
    "duration": 70,
    "start_time": "2022-12-04T20:30:45.298Z"
   },
   {
    "duration": 9,
    "start_time": "2022-12-04T20:30:45.370Z"
   },
   {
    "duration": 10,
    "start_time": "2022-12-04T20:30:45.381Z"
   },
   {
    "duration": 6,
    "start_time": "2022-12-04T20:30:45.392Z"
   },
   {
    "duration": 39,
    "start_time": "2022-12-04T20:30:45.399Z"
   },
   {
    "duration": 334,
    "start_time": "2022-12-04T20:30:45.439Z"
   },
   {
    "duration": 12,
    "start_time": "2022-12-04T20:30:45.775Z"
   },
   {
    "duration": 40,
    "start_time": "2022-12-04T20:30:45.789Z"
   },
   {
    "duration": 10,
    "start_time": "2022-12-04T20:30:45.834Z"
   },
   {
    "duration": 4,
    "start_time": "2022-12-04T20:30:53.293Z"
   },
   {
    "duration": 13,
    "start_time": "2022-12-04T20:30:59.368Z"
   },
   {
    "duration": 12,
    "start_time": "2022-12-04T20:31:18.748Z"
   },
   {
    "duration": 11,
    "start_time": "2022-12-04T20:31:58.005Z"
   },
   {
    "duration": 11,
    "start_time": "2022-12-04T20:31:58.403Z"
   },
   {
    "duration": 200,
    "start_time": "2022-12-04T20:32:18.795Z"
   },
   {
    "duration": 9,
    "start_time": "2022-12-04T20:35:36.230Z"
   },
   {
    "duration": 37,
    "start_time": "2022-12-04T20:37:53.697Z"
   },
   {
    "duration": 13,
    "start_time": "2022-12-04T20:37:54.149Z"
   },
   {
    "duration": 17,
    "start_time": "2022-12-04T20:37:54.557Z"
   },
   {
    "duration": 14,
    "start_time": "2022-12-04T20:37:55.112Z"
   },
   {
    "duration": 31,
    "start_time": "2022-12-04T20:39:42.325Z"
   },
   {
    "duration": 70,
    "start_time": "2022-12-04T20:39:46.815Z"
   },
   {
    "duration": 9,
    "start_time": "2022-12-04T20:39:47.069Z"
   },
   {
    "duration": 8,
    "start_time": "2022-12-04T20:39:47.309Z"
   },
   {
    "duration": 3,
    "start_time": "2022-12-04T20:39:56.368Z"
   },
   {
    "duration": 5,
    "start_time": "2022-12-04T20:39:59.894Z"
   },
   {
    "duration": 8,
    "start_time": "2022-12-04T20:40:00.447Z"
   },
   {
    "duration": 5,
    "start_time": "2022-12-04T20:40:26.586Z"
   },
   {
    "duration": 175,
    "start_time": "2022-12-04T20:41:10.104Z"
   },
   {
    "duration": 5,
    "start_time": "2022-12-04T20:42:15.514Z"
   },
   {
    "duration": 12,
    "start_time": "2022-12-04T20:42:49.422Z"
   },
   {
    "duration": 8,
    "start_time": "2022-12-04T20:42:49.672Z"
   },
   {
    "duration": 6,
    "start_time": "2022-12-04T20:42:49.876Z"
   },
   {
    "duration": 7,
    "start_time": "2022-12-04T20:42:57.172Z"
   },
   {
    "duration": 1152,
    "start_time": "2022-12-04T20:43:17.229Z"
   },
   {
    "duration": 170,
    "start_time": "2022-12-04T20:43:18.383Z"
   },
   {
    "duration": 10,
    "start_time": "2022-12-04T20:43:18.554Z"
   },
   {
    "duration": 17,
    "start_time": "2022-12-04T20:43:18.566Z"
   },
   {
    "duration": 3,
    "start_time": "2022-12-04T20:43:18.585Z"
   },
   {
    "duration": 22,
    "start_time": "2022-12-04T20:43:18.589Z"
   },
   {
    "duration": 8,
    "start_time": "2022-12-04T20:43:18.627Z"
   },
   {
    "duration": 21,
    "start_time": "2022-12-04T20:43:18.638Z"
   },
   {
    "duration": 4,
    "start_time": "2022-12-04T20:43:18.661Z"
   },
   {
    "duration": 13,
    "start_time": "2022-12-04T20:43:18.667Z"
   },
   {
    "duration": 94,
    "start_time": "2022-12-04T20:43:18.681Z"
   },
   {
    "duration": 90,
    "start_time": "2022-12-04T20:43:18.777Z"
   },
   {
    "duration": 91,
    "start_time": "2022-12-04T20:43:18.868Z"
   },
   {
    "duration": 14,
    "start_time": "2022-12-04T20:43:18.962Z"
   },
   {
    "duration": 20,
    "start_time": "2022-12-04T20:43:18.978Z"
   },
   {
    "duration": 32,
    "start_time": "2022-12-04T20:43:18.999Z"
   },
   {
    "duration": 41,
    "start_time": "2022-12-04T20:43:19.033Z"
   },
   {
    "duration": 6,
    "start_time": "2022-12-04T20:43:19.076Z"
   },
   {
    "duration": 11,
    "start_time": "2022-12-04T20:43:19.084Z"
   },
   {
    "duration": 25,
    "start_time": "2022-12-04T20:43:19.097Z"
   },
   {
    "duration": 7,
    "start_time": "2022-12-04T20:43:19.127Z"
   },
   {
    "duration": 332,
    "start_time": "2022-12-04T20:43:19.137Z"
   },
   {
    "duration": 12,
    "start_time": "2022-12-04T20:43:19.471Z"
   },
   {
    "duration": 17,
    "start_time": "2022-12-04T20:43:19.484Z"
   },
   {
    "duration": 24,
    "start_time": "2022-12-04T20:43:19.503Z"
   },
   {
    "duration": 13,
    "start_time": "2022-12-04T20:43:19.529Z"
   },
   {
    "duration": 21,
    "start_time": "2022-12-04T20:43:19.545Z"
   },
   {
    "duration": 12,
    "start_time": "2022-12-04T20:43:19.568Z"
   },
   {
    "duration": 203,
    "start_time": "2022-12-04T20:43:19.581Z"
   },
   {
    "duration": 5,
    "start_time": "2022-12-04T20:43:19.785Z"
   },
   {
    "duration": 15,
    "start_time": "2022-12-04T20:43:19.791Z"
   },
   {
    "duration": 19,
    "start_time": "2022-12-04T20:43:19.827Z"
   },
   {
    "duration": 12,
    "start_time": "2022-12-04T20:43:19.848Z"
   },
   {
    "duration": 14,
    "start_time": "2022-12-04T20:43:19.862Z"
   },
   {
    "duration": 26,
    "start_time": "2022-12-04T20:43:19.878Z"
   },
   {
    "duration": 81,
    "start_time": "2022-12-04T20:43:19.905Z"
   },
   {
    "duration": 10,
    "start_time": "2022-12-04T20:43:19.988Z"
   },
   {
    "duration": 27,
    "start_time": "2022-12-04T20:43:20.000Z"
   },
   {
    "duration": 16,
    "start_time": "2022-12-04T20:43:20.029Z"
   },
   {
    "duration": 13,
    "start_time": "2022-12-04T20:43:20.047Z"
   },
   {
    "duration": 12,
    "start_time": "2022-12-04T20:43:20.063Z"
   },
   {
    "duration": 201,
    "start_time": "2022-12-04T20:43:20.076Z"
   },
   {
    "duration": 4,
    "start_time": "2022-12-04T20:43:20.279Z"
   },
   {
    "duration": 9,
    "start_time": "2022-12-04T20:43:20.285Z"
   },
   {
    "duration": 9,
    "start_time": "2022-12-04T20:43:20.296Z"
   },
   {
    "duration": 17,
    "start_time": "2022-12-04T20:43:20.307Z"
   },
   {
    "duration": 10,
    "start_time": "2022-12-04T20:43:20.326Z"
   },
   {
    "duration": 23,
    "start_time": "2022-12-04T20:44:36.130Z"
   },
   {
    "duration": 5,
    "start_time": "2022-12-04T20:44:43.502Z"
   },
   {
    "duration": 30,
    "start_time": "2022-12-04T20:45:00.792Z"
   },
   {
    "duration": 34,
    "start_time": "2022-12-04T20:45:01.051Z"
   },
   {
    "duration": 3,
    "start_time": "2022-12-04T20:45:02.848Z"
   },
   {
    "duration": 3,
    "start_time": "2022-12-04T20:45:03.137Z"
   },
   {
    "duration": 7,
    "start_time": "2022-12-04T20:45:03.447Z"
   },
   {
    "duration": 9,
    "start_time": "2022-12-04T20:45:03.844Z"
   },
   {
    "duration": 5,
    "start_time": "2022-12-04T20:45:06.683Z"
   },
   {
    "duration": 8,
    "start_time": "2022-12-04T20:45:06.966Z"
   },
   {
    "duration": 5,
    "start_time": "2022-12-04T20:45:07.208Z"
   },
   {
    "duration": 7,
    "start_time": "2022-12-04T20:45:07.590Z"
   },
   {
    "duration": 5,
    "start_time": "2022-12-04T20:45:34.763Z"
   },
   {
    "duration": 9,
    "start_time": "2022-12-04T20:46:41.768Z"
   },
   {
    "duration": 35,
    "start_time": "2022-12-04T20:46:54.230Z"
   },
   {
    "duration": 5,
    "start_time": "2022-12-04T20:46:54.267Z"
   },
   {
    "duration": 5,
    "start_time": "2022-12-04T20:46:54.274Z"
   },
   {
    "duration": 7,
    "start_time": "2022-12-04T20:46:54.691Z"
   },
   {
    "duration": 103,
    "start_time": "2022-12-04T20:47:00.419Z"
   },
   {
    "duration": 10,
    "start_time": "2022-12-04T20:47:00.738Z"
   },
   {
    "duration": 52,
    "start_time": "2022-12-04T20:47:01.015Z"
   },
   {
    "duration": 9,
    "start_time": "2022-12-04T20:47:16.614Z"
   },
   {
    "duration": 8,
    "start_time": "2022-12-04T20:47:23.622Z"
   },
   {
    "duration": 34,
    "start_time": "2022-12-04T20:47:30.388Z"
   },
   {
    "duration": 4,
    "start_time": "2022-12-04T20:47:40.084Z"
   },
   {
    "duration": 7,
    "start_time": "2022-12-04T20:47:40.776Z"
   },
   {
    "duration": 11,
    "start_time": "2022-12-04T20:47:44.942Z"
   },
   {
    "duration": 9,
    "start_time": "2022-12-04T21:14:32.223Z"
   },
   {
    "duration": 4,
    "start_time": "2022-12-04T21:14:41.570Z"
   },
   {
    "duration": 4,
    "start_time": "2022-12-04T21:17:23.905Z"
   },
   {
    "duration": 6,
    "start_time": "2022-12-04T21:17:26.830Z"
   },
   {
    "duration": 1074,
    "start_time": "2022-12-04T21:20:23.011Z"
   },
   {
    "duration": 179,
    "start_time": "2022-12-04T21:20:24.087Z"
   },
   {
    "duration": 11,
    "start_time": "2022-12-04T21:20:24.267Z"
   },
   {
    "duration": 31,
    "start_time": "2022-12-04T21:20:24.279Z"
   },
   {
    "duration": 3,
    "start_time": "2022-12-04T21:20:24.312Z"
   },
   {
    "duration": 24,
    "start_time": "2022-12-04T21:20:24.317Z"
   },
   {
    "duration": 5,
    "start_time": "2022-12-04T21:20:24.342Z"
   },
   {
    "duration": 17,
    "start_time": "2022-12-04T21:20:24.349Z"
   },
   {
    "duration": 5,
    "start_time": "2022-12-04T21:20:24.368Z"
   },
   {
    "duration": 12,
    "start_time": "2022-12-04T21:20:24.375Z"
   },
   {
    "duration": 93,
    "start_time": "2022-12-04T21:20:24.389Z"
   },
   {
    "duration": 76,
    "start_time": "2022-12-04T21:20:24.484Z"
   },
   {
    "duration": 86,
    "start_time": "2022-12-04T21:20:24.561Z"
   },
   {
    "duration": 13,
    "start_time": "2022-12-04T21:20:24.650Z"
   },
   {
    "duration": 17,
    "start_time": "2022-12-04T21:20:24.665Z"
   },
   {
    "duration": 6,
    "start_time": "2022-12-04T21:20:24.683Z"
   },
   {
    "duration": 55,
    "start_time": "2022-12-04T21:20:24.691Z"
   },
   {
    "duration": 6,
    "start_time": "2022-12-04T21:20:24.748Z"
   },
   {
    "duration": 8,
    "start_time": "2022-12-04T21:20:24.756Z"
   },
   {
    "duration": 5,
    "start_time": "2022-12-04T21:20:24.765Z"
   },
   {
    "duration": 5,
    "start_time": "2022-12-04T21:20:24.772Z"
   },
   {
    "duration": 299,
    "start_time": "2022-12-04T21:20:24.779Z"
   },
   {
    "duration": 12,
    "start_time": "2022-12-04T21:20:25.080Z"
   },
   {
    "duration": 29,
    "start_time": "2022-12-04T21:20:25.093Z"
   },
   {
    "duration": 4,
    "start_time": "2022-12-04T21:20:25.124Z"
   },
   {
    "duration": 13,
    "start_time": "2022-12-04T21:20:25.129Z"
   },
   {
    "duration": 15,
    "start_time": "2022-12-04T21:20:25.143Z"
   },
   {
    "duration": 10,
    "start_time": "2022-12-04T21:20:25.159Z"
   },
   {
    "duration": 200,
    "start_time": "2022-12-04T21:20:25.171Z"
   },
   {
    "duration": 5,
    "start_time": "2022-12-04T21:20:25.373Z"
   },
   {
    "duration": 17,
    "start_time": "2022-12-04T21:20:25.379Z"
   },
   {
    "duration": 24,
    "start_time": "2022-12-04T21:20:25.398Z"
   },
   {
    "duration": 12,
    "start_time": "2022-12-04T21:20:25.424Z"
   },
   {
    "duration": 10,
    "start_time": "2022-12-04T21:20:25.438Z"
   },
   {
    "duration": 25,
    "start_time": "2022-12-04T21:20:25.450Z"
   },
   {
    "duration": 77,
    "start_time": "2022-12-04T21:20:25.477Z"
   },
   {
    "duration": 10,
    "start_time": "2022-12-04T21:20:25.556Z"
   },
   {
    "duration": 7,
    "start_time": "2022-12-04T21:20:25.567Z"
   },
   {
    "duration": 5,
    "start_time": "2022-12-04T21:20:25.576Z"
   },
   {
    "duration": 5,
    "start_time": "2022-12-04T21:20:25.583Z"
   },
   {
    "duration": 7,
    "start_time": "2022-12-04T21:20:25.592Z"
   },
   {
    "duration": 146,
    "start_time": "2022-12-04T21:20:25.622Z"
   },
   {
    "duration": 5,
    "start_time": "2022-12-04T21:20:25.769Z"
   },
   {
    "duration": 7,
    "start_time": "2022-12-04T21:20:25.776Z"
   },
   {
    "duration": 7,
    "start_time": "2022-12-04T21:20:25.784Z"
   },
   {
    "duration": 5,
    "start_time": "2022-12-04T21:20:25.793Z"
   },
   {
    "duration": 30,
    "start_time": "2022-12-04T21:20:25.800Z"
   },
   {
    "duration": 26,
    "start_time": "2022-12-04T21:20:25.831Z"
   },
   {
    "duration": 5,
    "start_time": "2022-12-04T21:20:25.859Z"
   },
   {
    "duration": 83,
    "start_time": "2022-12-04T21:20:25.866Z"
   },
   {
    "duration": 26,
    "start_time": "2022-12-04T21:20:25.951Z"
   },
   {
    "duration": 3,
    "start_time": "2022-12-04T21:20:25.979Z"
   },
   {
    "duration": 5,
    "start_time": "2022-12-04T21:20:25.984Z"
   },
   {
    "duration": 32,
    "start_time": "2022-12-04T21:20:25.991Z"
   },
   {
    "duration": 6,
    "start_time": "2022-12-04T21:20:26.025Z"
   },
   {
    "duration": 6,
    "start_time": "2022-12-04T21:20:26.033Z"
   },
   {
    "duration": 12,
    "start_time": "2022-12-04T21:20:26.040Z"
   },
   {
    "duration": 6,
    "start_time": "2022-12-04T21:20:26.054Z"
   },
   {
    "duration": 10,
    "start_time": "2022-12-04T21:20:26.061Z"
   },
   {
    "duration": 6,
    "start_time": "2022-12-04T21:20:26.072Z"
   },
   {
    "duration": 12,
    "start_time": "2022-12-04T21:20:26.079Z"
   },
   {
    "duration": 55,
    "start_time": "2022-12-04T21:20:26.093Z"
   },
   {
    "duration": 5,
    "start_time": "2022-12-04T21:20:26.150Z"
   },
   {
    "duration": 8,
    "start_time": "2022-12-04T21:20:26.157Z"
   },
   {
    "duration": 12,
    "start_time": "2022-12-04T21:20:26.167Z"
   },
   {
    "duration": 11,
    "start_time": "2022-12-04T21:20:26.181Z"
   },
   {
    "duration": 30,
    "start_time": "2022-12-04T21:20:26.193Z"
   },
   {
    "duration": 53,
    "start_time": "2022-12-04T21:20:26.225Z"
   },
   {
    "duration": 42,
    "start_time": "2022-12-04T21:20:26.280Z"
   },
   {
    "duration": 3,
    "start_time": "2022-12-04T21:20:26.324Z"
   },
   {
    "duration": 10,
    "start_time": "2022-12-04T21:20:26.329Z"
   },
   {
    "duration": 14,
    "start_time": "2022-12-04T21:20:26.340Z"
   },
   {
    "duration": 5,
    "start_time": "2022-12-04T21:20:26.356Z"
   },
   {
    "duration": 13,
    "start_time": "2022-12-04T21:20:26.362Z"
   },
   {
    "duration": 7,
    "start_time": "2022-12-04T21:20:26.377Z"
   },
   {
    "duration": 1291,
    "start_time": "2022-12-04T22:11:47.196Z"
   },
   {
    "duration": 164,
    "start_time": "2022-12-04T22:11:48.489Z"
   },
   {
    "duration": 11,
    "start_time": "2022-12-04T22:11:48.655Z"
   },
   {
    "duration": 37,
    "start_time": "2022-12-04T22:11:48.668Z"
   },
   {
    "duration": 12,
    "start_time": "2022-12-04T22:11:48.707Z"
   },
   {
    "duration": 24,
    "start_time": "2022-12-04T22:11:48.721Z"
   },
   {
    "duration": 13,
    "start_time": "2022-12-04T22:11:48.747Z"
   },
   {
    "duration": 30,
    "start_time": "2022-12-04T22:11:48.762Z"
   },
   {
    "duration": 7,
    "start_time": "2022-12-04T22:11:48.793Z"
   },
   {
    "duration": 14,
    "start_time": "2022-12-04T22:11:48.802Z"
   },
   {
    "duration": 103,
    "start_time": "2022-12-04T22:11:48.817Z"
   },
   {
    "duration": 82,
    "start_time": "2022-12-04T22:11:48.921Z"
   },
   {
    "duration": 102,
    "start_time": "2022-12-04T22:11:49.005Z"
   },
   {
    "duration": 18,
    "start_time": "2022-12-04T22:11:49.109Z"
   },
   {
    "duration": 25,
    "start_time": "2022-12-04T22:11:49.129Z"
   },
   {
    "duration": 8,
    "start_time": "2022-12-04T22:11:49.156Z"
   },
   {
    "duration": 65,
    "start_time": "2022-12-04T22:11:49.166Z"
   },
   {
    "duration": 8,
    "start_time": "2022-12-04T22:11:49.233Z"
   },
   {
    "duration": 8,
    "start_time": "2022-12-04T22:11:49.243Z"
   },
   {
    "duration": 8,
    "start_time": "2022-12-04T22:11:49.253Z"
   },
   {
    "duration": 35,
    "start_time": "2022-12-04T22:11:49.262Z"
   },
   {
    "duration": 308,
    "start_time": "2022-12-04T22:11:49.299Z"
   },
   {
    "duration": 13,
    "start_time": "2022-12-04T22:11:49.609Z"
   },
   {
    "duration": 20,
    "start_time": "2022-12-04T22:11:49.623Z"
   },
   {
    "duration": 4,
    "start_time": "2022-12-04T22:11:49.645Z"
   },
   {
    "duration": 6,
    "start_time": "2022-12-04T22:11:49.651Z"
   },
   {
    "duration": 48,
    "start_time": "2022-12-04T22:11:49.658Z"
   },
   {
    "duration": 12,
    "start_time": "2022-12-04T22:11:49.710Z"
   },
   {
    "duration": 227,
    "start_time": "2022-12-04T22:11:49.724Z"
   },
   {
    "duration": 7,
    "start_time": "2022-12-04T22:11:49.953Z"
   },
   {
    "duration": 35,
    "start_time": "2022-12-04T22:11:49.962Z"
   },
   {
    "duration": 17,
    "start_time": "2022-12-04T22:11:49.999Z"
   },
   {
    "duration": 17,
    "start_time": "2022-12-04T22:11:50.018Z"
   },
   {
    "duration": 12,
    "start_time": "2022-12-04T22:11:50.038Z"
   },
   {
    "duration": 47,
    "start_time": "2022-12-04T22:11:50.052Z"
   },
   {
    "duration": 77,
    "start_time": "2022-12-04T22:11:50.102Z"
   },
   {
    "duration": 18,
    "start_time": "2022-12-04T22:11:50.181Z"
   },
   {
    "duration": 8,
    "start_time": "2022-12-04T22:11:50.201Z"
   },
   {
    "duration": 5,
    "start_time": "2022-12-04T22:11:50.211Z"
   },
   {
    "duration": 7,
    "start_time": "2022-12-04T22:11:50.218Z"
   },
   {
    "duration": 11,
    "start_time": "2022-12-04T22:11:50.226Z"
   },
   {
    "duration": 189,
    "start_time": "2022-12-04T22:11:50.239Z"
   },
   {
    "duration": 4,
    "start_time": "2022-12-04T22:11:50.430Z"
   },
   {
    "duration": 14,
    "start_time": "2022-12-04T22:11:50.437Z"
   },
   {
    "duration": 45,
    "start_time": "2022-12-04T22:11:50.453Z"
   },
   {
    "duration": 10,
    "start_time": "2022-12-04T22:11:50.500Z"
   },
   {
    "duration": 12,
    "start_time": "2022-12-04T22:11:50.512Z"
   },
   {
    "duration": 76,
    "start_time": "2022-12-04T22:11:50.526Z"
   },
   {
    "duration": 4,
    "start_time": "2022-12-04T22:11:50.604Z"
   },
   {
    "duration": 34,
    "start_time": "2022-12-04T22:11:50.610Z"
   },
   {
    "duration": 51,
    "start_time": "2022-12-04T22:11:50.646Z"
   },
   {
    "duration": 4,
    "start_time": "2022-12-04T22:11:50.698Z"
   },
   {
    "duration": 8,
    "start_time": "2022-12-04T22:11:50.703Z"
   },
   {
    "duration": 10,
    "start_time": "2022-12-04T22:11:50.713Z"
   },
   {
    "duration": 8,
    "start_time": "2022-12-04T22:11:50.725Z"
   },
   {
    "duration": 7,
    "start_time": "2022-12-04T22:11:50.735Z"
   },
   {
    "duration": 23,
    "start_time": "2022-12-04T22:11:50.744Z"
   },
   {
    "duration": 12,
    "start_time": "2022-12-04T22:11:50.769Z"
   },
   {
    "duration": 17,
    "start_time": "2022-12-04T22:11:50.782Z"
   },
   {
    "duration": 6,
    "start_time": "2022-12-04T22:11:50.801Z"
   },
   {
    "duration": 36,
    "start_time": "2022-12-04T22:11:50.809Z"
   },
   {
    "duration": 42,
    "start_time": "2022-12-04T22:11:50.847Z"
   },
   {
    "duration": 5,
    "start_time": "2022-12-04T22:11:50.890Z"
   },
   {
    "duration": 18,
    "start_time": "2022-12-04T22:11:50.896Z"
   },
   {
    "duration": 15,
    "start_time": "2022-12-04T22:11:50.916Z"
   },
   {
    "duration": 16,
    "start_time": "2022-12-04T22:11:50.933Z"
   },
   {
    "duration": 12,
    "start_time": "2022-12-04T22:11:50.950Z"
   },
   {
    "duration": 56,
    "start_time": "2022-12-04T22:11:50.964Z"
   },
   {
    "duration": 32,
    "start_time": "2022-12-04T22:11:51.022Z"
   },
   {
    "duration": 4,
    "start_time": "2022-12-04T22:11:51.056Z"
   },
   {
    "duration": 14,
    "start_time": "2022-12-04T22:11:51.061Z"
   },
   {
    "duration": 28,
    "start_time": "2022-12-04T22:11:51.077Z"
   },
   {
    "duration": 4,
    "start_time": "2022-12-04T22:11:51.107Z"
   },
   {
    "duration": 11,
    "start_time": "2022-12-04T22:11:51.113Z"
   },
   {
    "duration": 7,
    "start_time": "2022-12-04T22:11:51.126Z"
   }
  ],
  "colab": {
   "provenance": [],
   "toc_visible": true
  },
  "kernelspec": {
   "display_name": "Python 3 (ipykernel)",
   "language": "python",
   "name": "python3"
  },
  "language_info": {
   "codemirror_mode": {
    "name": "ipython",
    "version": 3
   },
   "file_extension": ".py",
   "mimetype": "text/x-python",
   "name": "python",
   "nbconvert_exporter": "python",
   "pygments_lexer": "ipython3",
   "version": "3.9.15"
  },
  "toc": {
   "base_numbering": 1,
   "nav_menu": {},
   "number_sections": false,
   "sideBar": true,
   "skip_h1_title": false,
   "title_cell": "Table of Contents",
   "title_sidebar": "Contents",
   "toc_cell": false,
   "toc_position": {
    "height": "calc(100% - 180px)",
    "left": "10px",
    "top": "150px",
    "width": "165px"
   },
   "toc_section_display": true,
   "toc_window_display": true
  }
 },
 "nbformat": 4,
 "nbformat_minor": 1
}
